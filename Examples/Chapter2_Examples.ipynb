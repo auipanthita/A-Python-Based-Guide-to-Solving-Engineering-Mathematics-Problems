{
  "nbformat": 4,
  "nbformat_minor": 0,
  "metadata": {
    "colab": {
      "provenance": []
    },
    "kernelspec": {
      "name": "python3",
      "display_name": "Python 3"
    },
    "language_info": {
      "name": "python"
    }
  },
  "cells": [
    {
      "cell_type": "code",
      "source": [
        "from google.colab import drive\n",
        "drive.mount('/content/drive')\n"
      ],
      "metadata": {
        "colab": {
          "base_uri": "https://localhost:8080/"
        },
        "id": "3x4IZEL2Cah3",
        "outputId": "d2e75bd0-052f-4e7e-e8e4-1529f7aab0c0"
      },
      "execution_count": null,
      "outputs": [
        {
          "output_type": "stream",
          "name": "stdout",
          "text": [
            "Mounted at /content/drive\n"
          ]
        }
      ]
    },
    {
      "cell_type": "markdown",
      "source": [
        "# SumPy"
      ],
      "metadata": {
        "id": "pqLC1u-eg9Ql"
      }
    },
    {
      "cell_type": "code",
      "source": [
        "import sympy as sp\n",
        "from sympy import *"
      ],
      "metadata": {
        "id": "xkxiROZh31Ny"
      },
      "execution_count": null,
      "outputs": []
    },
    {
      "cell_type": "code",
      "source": [
        "x, y, z = symbols('x y z')"
      ],
      "metadata": {
        "id": "XtIZBzja4DG_"
      },
      "execution_count": null,
      "outputs": []
    },
    {
      "cell_type": "code",
      "source": [
        "print(f\"sin(π/2) = {sp.sin(sp.pi/2)}\")    # ผลลัพธ์: 1\n",
        "print(f\"cos(0) = {sp.cos(0)}\")            # ผลลัพธ์: 1\n",
        "print(f\"tan(π/4) = {sp.tan(sp.pi/4)}\")    # ผลลัพธ์: 1"
      ],
      "metadata": {
        "colab": {
          "base_uri": "https://localhost:8080/"
        },
        "id": "j72hux32YvQo",
        "outputId": "eb7c9ed2-43f3-4929-fb48-7c4d49ac473e"
      },
      "execution_count": null,
      "outputs": [
        {
          "output_type": "stream",
          "name": "stdout",
          "text": [
            "sin(π/2) = 1\n",
            "cos(0) = 1\n",
            "tan(π/4) = 1\n"
          ]
        }
      ]
    },
    {
      "cell_type": "code",
      "source": [
        "print(f\"e^0 = {sp.exp(0)}\")              # ผลลัพธ์: 1\n",
        "print(f\"ln(e) = {sp.log(sp.E)}\")         # ผลลัพธ์: 1\n",
        "print(f\"log₁₀(100) = {sp.log(100, 10)}\") # ผลลัพธ์: 2"
      ],
      "metadata": {
        "colab": {
          "base_uri": "https://localhost:8080/"
        },
        "id": "_Fy7kDxeZiel",
        "outputId": "72f84875-1d9a-43a9-ace8-daca5f17ae0f"
      },
      "execution_count": null,
      "outputs": [
        {
          "output_type": "stream",
          "name": "stdout",
          "text": [
            "e^0 = 1\n",
            "ln(e) = 1\n",
            "log₁₀(100) = 2\n"
          ]
        }
      ]
    },
    {
      "cell_type": "code",
      "source": [
        "print(f\"√16 = {sp.sqrt(16)}\")           # ผลลัพธ์: 4\n",
        "print(f\"|−5| = {sp.Abs(-5)}\")           # ผลลัพธ์: 5"
      ],
      "metadata": {
        "colab": {
          "base_uri": "https://localhost:8080/"
        },
        "id": "890ONVugZ2J-",
        "outputId": "a0ad6337-8f77-484d-c8ac-a2c8ef9ace83"
      },
      "execution_count": null,
      "outputs": [
        {
          "output_type": "stream",
          "name": "stdout",
          "text": [
            "√16 = 4\n",
            "|−5| = 5\n"
          ]
        }
      ]
    },
    {
      "cell_type": "code",
      "source": [
        "print(f\"5! = {sp.factorial(5)}\")        # ผลลัพธ์: 120\n",
        "print(f\"C(5,2) = {sp.binomial(5,2)}\")   # ผลลัพธ์: 10"
      ],
      "metadata": {
        "colab": {
          "base_uri": "https://localhost:8080/"
        },
        "id": "ttU9waMraIvD",
        "outputId": "96563b68-4a48-411e-f737-e1c81400e34e"
      },
      "execution_count": null,
      "outputs": [
        {
          "output_type": "stream",
          "name": "stdout",
          "text": [
            "5! = 120\n",
            "C(5,2) = 10\n"
          ]
        }
      ]
    },
    {
      "cell_type": "code",
      "source": [
        "print(f\"π = {sp.pi}\")\n",
        "print(f\"e = {sp.E}\")\n",
        "print(f\"i = {sp.I}\")"
      ],
      "metadata": {
        "colab": {
          "base_uri": "https://localhost:8080/"
        },
        "id": "7gi3t0u2agWe",
        "outputId": "96448967-5a03-4463-8245-ee88680c8b1f"
      },
      "execution_count": null,
      "outputs": [
        {
          "output_type": "stream",
          "name": "stdout",
          "text": [
            "π = pi\n",
            "e = E\n",
            "i = I\n"
          ]
        }
      ]
    },
    {
      "cell_type": "code",
      "source": [
        "# แก้สมการเชิงเส้น\n",
        "eq1 = sp.Eq(2*x + 3, 7)    # 2x + 3 = 7\n",
        "solution1 = sp.solve(eq1, x)\n",
        "print(f\"คำตอบของ 2x + 3 = 7 คือ x = {solution1}\")"
      ],
      "metadata": {
        "colab": {
          "base_uri": "https://localhost:8080/"
        },
        "id": "8uER5-qOa5S8",
        "outputId": "5881bc07-7da3-4208-fc44-e17ee8bff171"
      },
      "execution_count": null,
      "outputs": [
        {
          "output_type": "stream",
          "name": "stdout",
          "text": [
            "คำตอบของ 2x + 3 = 7 คือ x = [2]\n"
          ]
        }
      ]
    },
    {
      "cell_type": "code",
      "source": [
        "# แก้สมการกำลังสอง\n",
        "eq2 = x**2 - 5*x + 6       # x² - 5x + 6 = 0\n",
        "solution2 = sp.solve(eq2, x)\n",
        "print(f\"คำตอบของ x² - 5x + 6 = 0 คือ x = {solution2}\")"
      ],
      "metadata": {
        "colab": {
          "base_uri": "https://localhost:8080/"
        },
        "id": "5J2BX3yhbIC_",
        "outputId": "28368124-a8bd-43d4-b6eb-d284002c70ab"
      },
      "execution_count": null,
      "outputs": [
        {
          "output_type": "stream",
          "name": "stdout",
          "text": [
            "คำตอบของ x² - 5x + 6 = 0 คือ x = [2, 3]\n"
          ]
        }
      ]
    },
    {
      "cell_type": "code",
      "source": [
        "# แก้ระบบสมการ\n",
        "eq3 = sp.Eq(x + y, 5)      # x + y = 5\n",
        "eq4 = sp.Eq(2*x - y, 1)    # 2x - y = 1\n",
        "solution3 = sp.solve([eq3, eq4], [x, y])\n",
        "print(f\"คำตอบของระบบสมการคือ {solution3}\")"
      ],
      "metadata": {
        "colab": {
          "base_uri": "https://localhost:8080/"
        },
        "id": "PEAmeyP7bT11",
        "outputId": "371f7155-3897-4573-c940-f7d6567f4071"
      },
      "execution_count": null,
      "outputs": [
        {
          "output_type": "stream",
          "name": "stdout",
          "text": [
            "คำตอบของระบบสมการคือ {x: 2, y: 3}\n"
          ]
        }
      ]
    },
    {
      "cell_type": "code",
      "source": [
        "# อนุพันธ์อันดับหนึ่ง\n",
        "f = x**3 + 2*x**2 + x + 1\n",
        "f_prime = sp.diff(f, x)\n",
        "print(f\"f(x) = {f}\")\n",
        "print(f\"f'(x) = {f_prime}\")"
      ],
      "metadata": {
        "colab": {
          "base_uri": "https://localhost:8080/"
        },
        "id": "YSXZg6i2cN4D",
        "outputId": "37155154-1881-4776-9b25-59a630a09e4e"
      },
      "execution_count": null,
      "outputs": [
        {
          "output_type": "stream",
          "name": "stdout",
          "text": [
            "f(x) = x**3 + 2*x**2 + x + 1\n",
            "f'(x) = 3*x**2 + 4*x + 1\n"
          ]
        }
      ]
    },
    {
      "cell_type": "code",
      "source": [
        "# อนุพันธ์อันดับสอง\n",
        "f_double_prime = sp.diff(f, x, 2)\n",
        "print(f\"f''(x) = {f_double_prime}\")"
      ],
      "metadata": {
        "colab": {
          "base_uri": "https://localhost:8080/"
        },
        "id": "eSHNz47McZ-A",
        "outputId": "b873f4f6-3836-4a5f-be9d-8b873d392912"
      },
      "execution_count": null,
      "outputs": [
        {
          "output_type": "stream",
          "name": "stdout",
          "text": [
            "f''(x) = 2*(3*x + 2)\n"
          ]
        }
      ]
    },
    {
      "cell_type": "code",
      "source": [
        "# อนุพันธ์ย่อย\n",
        "g = x**2 + x*y + y**2\n",
        "dg_dx = sp.diff(g, x)      # ∂g/∂x\n",
        "dg_dy = sp.diff(g, y)      # ∂g/∂y\n",
        "print(f\"∂g/∂x = {dg_dx}\")\n",
        "print(f\"∂g/∂y = {dg_dy}\")"
      ],
      "metadata": {
        "colab": {
          "base_uri": "https://localhost:8080/"
        },
        "id": "D0eQAG_octKi",
        "outputId": "ef8aa90b-0e85-43e8-9c72-e5f6f42125fc"
      },
      "execution_count": null,
      "outputs": [
        {
          "output_type": "stream",
          "name": "stdout",
          "text": [
            "∂g/∂x = 2*x + y\n",
            "∂g/∂y = x + 2*y\n"
          ]
        }
      ]
    },
    {
      "cell_type": "code",
      "source": [
        "# ปริพันธ์ไม่จำกัดเขต\n",
        "f = x**2 + 2*x + 1\n",
        "indefinite_integral = sp.integrate(f, x)\n",
        "print(f\"∫({f})dx = {indefinite_integral}\")"
      ],
      "metadata": {
        "colab": {
          "base_uri": "https://localhost:8080/"
        },
        "id": "aonWxC9YdE13",
        "outputId": "bccb073d-83cd-49d1-a8ff-11d9be8ba182"
      },
      "execution_count": null,
      "outputs": [
        {
          "output_type": "stream",
          "name": "stdout",
          "text": [
            "∫(x**2 + 2*x + 1)dx = x**3/3 + x**2 + x\n"
          ]
        }
      ]
    },
    {
      "cell_type": "code",
      "source": [
        "# ปริพันธ์จำกัดเขต\n",
        "definite_integral = sp.integrate(f, (x, 0, 2))\n",
        "print(f\"∫₀²({f})dx = {definite_integral}\")"
      ],
      "metadata": {
        "colab": {
          "base_uri": "https://localhost:8080/"
        },
        "id": "IpZBI-cmdNVL",
        "outputId": "da61c0d9-c6d9-4ec4-f814-49d8e30fc16f"
      },
      "execution_count": null,
      "outputs": [
        {
          "output_type": "stream",
          "name": "stdout",
          "text": [
            "∫₀²(x**2 + 2*x + 1)dx = 26/3\n"
          ]
        }
      ]
    },
    {
      "cell_type": "code",
      "source": [
        "# ปริพันธ์หลายชั้น\n",
        "h = x*y\n",
        "double_integral = sp.integrate(h, (x, 0, 1), (y, 0, 2))\n",
        "print(f\"∫₀¹∫₀² xy dy dx = {double_integral}\")"
      ],
      "metadata": {
        "colab": {
          "base_uri": "https://localhost:8080/"
        },
        "id": "rk4aakckdbie",
        "outputId": "0a90fee8-b210-4cf8-8c6f-d6636d93a952"
      },
      "execution_count": null,
      "outputs": [
        {
          "output_type": "stream",
          "name": "stdout",
          "text": [
            "∫₀¹∫₀² xy dy dx = 1\n"
          ]
        }
      ]
    },
    {
      "cell_type": "code",
      "source": [
        "# หาลิมิต\n",
        "limit1 = sp.limit(sp.sin(x)/x, x, 0)\n",
        "print(f\"lim(x→0) sin(x)/x = {limit1}\")"
      ],
      "metadata": {
        "colab": {
          "base_uri": "https://localhost:8080/"
        },
        "id": "xKYILmrIdu9-",
        "outputId": "0b3ac49b-0d61-4650-fea2-52e48fc09c36"
      },
      "execution_count": null,
      "outputs": [
        {
          "output_type": "stream",
          "name": "stdout",
          "text": [
            "lim(x→0) sin(x)/x = 1\n"
          ]
        }
      ]
    },
    {
      "cell_type": "code",
      "source": [
        "# ลิมิตที่อนันต์\n",
        "limit2 = sp.limit((x**2 + x)/(x**2 + 2), x, sp.oo)\n",
        "print(f\"lim(x→∞) (x²+x)/(x²+2) = {limit2}\")"
      ],
      "metadata": {
        "colab": {
          "base_uri": "https://localhost:8080/"
        },
        "id": "3rbkTTvEeCGi",
        "outputId": "9b98c2ee-c0da-461e-e4f7-256a84317bd1"
      },
      "execution_count": null,
      "outputs": [
        {
          "output_type": "stream",
          "name": "stdout",
          "text": [
            "lim(x→∞) (x²+x)/(x²+2) = 1\n"
          ]
        }
      ]
    },
    {
      "cell_type": "code",
      "source": [
        "# ลิมิตข้างเดียว\n",
        "limit3 = sp.limit(1/x, x, 0, '+')\n",
        "print(f\"lim(x→0⁺) 1/x = {limit3}\")"
      ],
      "metadata": {
        "colab": {
          "base_uri": "https://localhost:8080/"
        },
        "id": "4YTjMcoJeIpQ",
        "outputId": "4c833563-e35f-4694-9a8d-af5ba0bb4032"
      },
      "execution_count": null,
      "outputs": [
        {
          "output_type": "stream",
          "name": "stdout",
          "text": [
            "lim(x→0⁺) 1/x = oo\n"
          ]
        }
      ]
    },
    {
      "cell_type": "code",
      "source": [
        "# การกระจาย\n",
        "expr1 = (x + 1)**2\n",
        "expanded = sp.expand(expr1)\n",
        "print(f\"(x+1)² = {expanded}\")\n",
        "\n",
        "expr2 = (x + y) * (x - y)\n",
        "expanded2 = sp.expand(expr2)\n",
        "print(f\"(x+y)(x-y) = {expanded2}\")"
      ],
      "metadata": {
        "colab": {
          "base_uri": "https://localhost:8080/"
        },
        "id": "JgfM4xtJfNoQ",
        "outputId": "03d01004-59a8-4489-d751-9f25f4e0ce1a"
      },
      "execution_count": null,
      "outputs": [
        {
          "output_type": "stream",
          "name": "stdout",
          "text": [
            "(x+1)² = x**2 + 2*x + 1\n",
            "(x+y)(x-y) = x**2 - y**2\n"
          ]
        }
      ]
    },
    {
      "cell_type": "code",
      "source": [
        "# การแยกตัวประกอบ\n",
        "expr3 = x**2 - 4*x + 4\n",
        "factored = sp.factor(expr3)\n",
        "print(f\"x²-4x+4 = {factored}\")\n",
        "\n",
        "expr4 = x**3 - x\n",
        "factored2 = sp.factor(expr4)\n",
        "print(f\"x³-x = {factored2}\")"
      ],
      "metadata": {
        "colab": {
          "base_uri": "https://localhost:8080/"
        },
        "id": "4j1LIN3ufkat",
        "outputId": "d10150e8-4d2f-4ad4-895f-cd3232ecc519"
      },
      "execution_count": null,
      "outputs": [
        {
          "output_type": "stream",
          "name": "stdout",
          "text": [
            "x²-4x+4 = (x - 2)**2\n",
            "x³-x = x*(x - 1)*(x + 1)\n"
          ]
        }
      ]
    },
    {
      "cell_type": "code",
      "source": [
        "# การลดรูป\n",
        "expr5 = sp.sin(x)**2 + sp.cos(x)**2\n",
        "simplified = sp.simplify(expr5)\n",
        "print(f\"sin²x + cos²x = {simplified}\")\n",
        "\n",
        "expr6 = (x**2 - 1)/(x - 1)\n",
        "simplified2 = sp.simplify(expr6)\n",
        "print(f\"(x²-1)/(x-1) = {simplified2}\")"
      ],
      "metadata": {
        "colab": {
          "base_uri": "https://localhost:8080/"
        },
        "id": "SvUcfdk2ftym",
        "outputId": "2a81798b-a5e2-4a39-a914-f9c95e311fc7"
      },
      "execution_count": null,
      "outputs": [
        {
          "output_type": "stream",
          "name": "stdout",
          "text": [
            "sin²x + cos²x = 1\n",
            "(x²-1)/(x-1) = x + 1\n"
          ]
        }
      ]
    },
    {
      "cell_type": "code",
      "source": [
        "# การรวบรวมพจน์\n",
        "expr7 = x*y + x*z + 2*x\n",
        "collected = sp.collect(expr7, x)\n",
        "print(f\"xy + xz + 2x = {collected}\")"
      ],
      "metadata": {
        "colab": {
          "base_uri": "https://localhost:8080/"
        },
        "id": "Fs8plJLTf5Us",
        "outputId": "d4d5b9d4-7d45-44d4-9629-f842d8c33459"
      },
      "execution_count": null,
      "outputs": [
        {
          "output_type": "stream",
          "name": "stdout",
          "text": [
            "xy + xz + 2x = x*(y + z + 2)\n"
          ]
        }
      ]
    },
    {
      "cell_type": "code",
      "source": [
        "# การแทนค่า\n",
        "expr8 = x**2 + 2*x + 1\n",
        "substituted = expr8.subs(x, 3)\n",
        "print(f\"x²+2x+1 เมื่อ x=3 = {substituted}\")"
      ],
      "metadata": {
        "colab": {
          "base_uri": "https://localhost:8080/"
        },
        "id": "V_krZ08GgJa9",
        "outputId": "f7b64637-7084-49c6-a7af-4b80f8975417"
      },
      "execution_count": null,
      "outputs": [
        {
          "output_type": "stream",
          "name": "stdout",
          "text": [
            "x²+2x+1 เมื่อ x=3 = 16\n"
          ]
        }
      ]
    },
    {
      "cell_type": "code",
      "source": [
        "# สมการพหุนาม\n",
        "eq1 = x**2 + y**2 - 25  # x² + y² = 25\n",
        "eq2 = x - y - 1         # x - y = 1\n",
        "solutions = sp.solve([eq1, eq2], [x, y])\n",
        "print(f\"คำตอบของระบบ: {solutions}\")"
      ],
      "metadata": {
        "colab": {
          "base_uri": "https://localhost:8080/"
        },
        "id": "fF0Qrd2jg2Gs",
        "outputId": "abd448ba-16b3-4fe3-b516-3785aae80054"
      },
      "execution_count": null,
      "outputs": [
        {
          "output_type": "stream",
          "name": "stdout",
          "text": [
            "คำตอบของระบบ: [(-3, -4), (4, 3)]\n"
          ]
        }
      ]
    },
    {
      "cell_type": "code",
      "source": [
        "# สมการเชิงอนุพันธ์\n",
        "f = sp.Function('f')\n",
        "t = sp.Symbol('t')\n",
        "ode = sp.Eq(f(t).diff(t), f(t))  # df/dt = f\n",
        "sol = sp.dsolve(ode, f(t))\n",
        "print(f\"คำตอบของ df/dt = f คือ {sol}\")"
      ],
      "metadata": {
        "colab": {
          "base_uri": "https://localhost:8080/"
        },
        "id": "w2DFTqpWhDwO",
        "outputId": "e378c49e-7e84-42b2-aa0c-32a11c2d015d"
      },
      "execution_count": null,
      "outputs": [
        {
          "output_type": "stream",
          "name": "stdout",
          "text": [
            "คำตอบของ df/dt = f คือ Eq(f(t), C1*exp(t))\n"
          ]
        }
      ]
    },
    {
      "cell_type": "code",
      "source": [
        "ex1 = x**2 + 2*x + 1\n",
        "ex2 = sp.sin(x) + sp.cos(x)\n",
        "ex3 = sp.exp(x) * sp.log(y)\n",
        "\n",
        "print(ex1)\n",
        "print(ex2)\n",
        "print(ex3)"
      ],
      "metadata": {
        "colab": {
          "base_uri": "https://localhost:8080/"
        },
        "id": "kDCmyF074WL_",
        "outputId": "1be5d846-d758-4d2c-e1ad-7b97f4b68c3c"
      },
      "execution_count": null,
      "outputs": [
        {
          "output_type": "stream",
          "name": "stdout",
          "text": [
            "x**2 + 2*x + 1\n",
            "sin(x) + cos(x)\n",
            "exp(x)*log(y)\n"
          ]
        }
      ]
    },
    {
      "cell_type": "code",
      "source": [
        "ex4 = sp.pi * x**2 \t# พื้นที่วงกลม\n",
        "ex5 = E**x \t\t# e^x\n",
        "\n",
        "print(ex4)\n",
        "print(ex5)"
      ],
      "metadata": {
        "colab": {
          "base_uri": "https://localhost:8080/"
        },
        "id": "UZreMNk24nwF",
        "outputId": "4ed5ffe2-44e3-4920-f07e-6deb5f2b8339"
      },
      "execution_count": null,
      "outputs": [
        {
          "output_type": "stream",
          "name": "stdout",
          "text": [
            "pi*x**2\n",
            "exp(x)\n"
          ]
        }
      ]
    },
    {
      "cell_type": "code",
      "source": [
        "# การแยกตัวประกอบ\n",
        "ex6 = x**2 - 4\n",
        "answer = sp.factor(ex6)\n",
        "\n",
        "print(answer)"
      ],
      "metadata": {
        "colab": {
          "base_uri": "https://localhost:8080/"
        },
        "id": "4WvzkC9O3xgF",
        "outputId": "294f2be7-f2c6-4b02-e62a-6b254eebf48c"
      },
      "execution_count": null,
      "outputs": [
        {
          "output_type": "stream",
          "name": "stdout",
          "text": [
            "(x - 2)*(x + 2)\n"
          ]
        }
      ]
    },
    {
      "cell_type": "code",
      "source": [
        "# การกระจาย\n",
        "ex7 = (x + 1)**3\n",
        "answer = sp.expand(ex7)\n",
        "\n",
        "print(answer)"
      ],
      "metadata": {
        "colab": {
          "base_uri": "https://localhost:8080/"
        },
        "id": "gCvtO6qb5yMa",
        "outputId": "8d0819ba-65cb-4f61-d56c-489926a5f666"
      },
      "execution_count": null,
      "outputs": [
        {
          "output_type": "stream",
          "name": "stdout",
          "text": [
            "x**3 + 3*x**2 + 3*x + 1\n"
          ]
        }
      ]
    },
    {
      "cell_type": "code",
      "source": [
        "# การทำให้เรียบง่าย\n",
        "ex8 = (x**2 - 1)/(x - 1)\n",
        "answer = sp.simplify(ex8)\n",
        "\n",
        "print(answer)"
      ],
      "metadata": {
        "colab": {
          "base_uri": "https://localhost:8080/"
        },
        "id": "pC82b-ZH6SRj",
        "outputId": "c000e591-5b5f-44e1-dee3-b216302c78fe"
      },
      "execution_count": null,
      "outputs": [
        {
          "output_type": "stream",
          "name": "stdout",
          "text": [
            "x + 1\n"
          ]
        }
      ]
    },
    {
      "cell_type": "code",
      "source": [
        "# การจัดเรียง\n",
        "ex9 = x**2 + 3*x + 2*x**2\n",
        "answer = sp.collect(ex9, x)  # 3*x**2 + 3*x\n",
        "\n",
        "print(answer)"
      ],
      "metadata": {
        "colab": {
          "base_uri": "https://localhost:8080/"
        },
        "id": "UXUDe_kK6arr",
        "outputId": "ffdfcb15-97ab-443e-c13d-63b936f5ea9a"
      },
      "execution_count": null,
      "outputs": [
        {
          "output_type": "stream",
          "name": "stdout",
          "text": [
            "3*x**2 + 3*x\n"
          ]
        }
      ]
    },
    {
      "cell_type": "code",
      "source": [
        "# แก้สมการเชิงเส้น\n",
        "eq1 = sp.Eq(2*x + 3, 7)\n",
        "solution = sp.solve(eq1, x)\n",
        "\n",
        "print(solution)"
      ],
      "metadata": {
        "colab": {
          "base_uri": "https://localhost:8080/"
        },
        "id": "KaDMnh9A6qey",
        "outputId": "ebb7f8bd-88c2-420b-dd94-19ea96680d3e"
      },
      "execution_count": null,
      "outputs": [
        {
          "output_type": "stream",
          "name": "stdout",
          "text": [
            "[2]\n"
          ]
        }
      ]
    },
    {
      "cell_type": "code",
      "source": [
        "# แก้สมการกำลังสอง\n",
        "eq2 = x**2 - 5*x + 6\n",
        "solution = sp.solve(eq2, x)\n",
        "\n",
        "print(solution)"
      ],
      "metadata": {
        "colab": {
          "base_uri": "https://localhost:8080/"
        },
        "id": "pUXJPhEOAeNu",
        "outputId": "c37c40ec-718d-4210-e19d-72838680c7a4"
      },
      "execution_count": null,
      "outputs": [
        {
          "output_type": "stream",
          "name": "stdout",
          "text": [
            "[2, 3]\n"
          ]
        }
      ]
    },
    {
      "cell_type": "code",
      "source": [
        "# ระบบสมการ\n",
        "eq3 = sp.Eq(x + y, 5)\n",
        "eq4 = sp.Eq(2*x - y, 1)\n",
        "solutionl = sp.solve([eq3, eq4], [x, y])\n",
        "\n",
        "print(solutionl)"
      ],
      "metadata": {
        "colab": {
          "base_uri": "https://localhost:8080/"
        },
        "id": "b8iYr6CCBFPa",
        "outputId": "508634b7-1dbe-4e35-8f8e-b7894ce5dd31"
      },
      "execution_count": null,
      "outputs": [
        {
          "output_type": "stream",
          "name": "stdout",
          "text": [
            "{x: 2, y: 3}\n"
          ]
        }
      ]
    },
    {
      "cell_type": "code",
      "source": [
        "# สมการตรีโกณมิติ\n",
        "eq5 = sp.sin(x) - sp.Rational(1, 2)\n",
        "trig_sol = sp.solve(eq5, x)\n",
        "\n",
        "print(trig_sol)"
      ],
      "metadata": {
        "colab": {
          "base_uri": "https://localhost:8080/"
        },
        "id": "D5GeyQBauqRD",
        "outputId": "b667807b-6bcd-499f-f8f5-00eb8d23fb52"
      },
      "execution_count": null,
      "outputs": [
        {
          "output_type": "stream",
          "name": "stdout",
          "text": [
            "[pi/6, 5*pi/6]\n"
          ]
        }
      ]
    },
    {
      "cell_type": "code",
      "source": [
        "# อนุพันธ์\n",
        "f = x**3 + 2*x**2 + x\n",
        "df_dx = sp.diff(f, x)  # 3*x**2 + 4*x + 1\n",
        "\n",
        "print(df_dx)"
      ],
      "metadata": {
        "colab": {
          "base_uri": "https://localhost:8080/"
        },
        "id": "f6dz3iBLwxpu",
        "outputId": "0896c8af-7b8b-45df-bf5a-0f7f25f4d6d9"
      },
      "execution_count": null,
      "outputs": [
        {
          "output_type": "stream",
          "name": "stdout",
          "text": [
            "3*x**2 + 4*x + 1\n"
          ]
        }
      ]
    },
    {
      "cell_type": "code",
      "source": [
        "# อนุพันธ์อันดับสูง\n",
        "d2f_dx2 = sp.diff(f, x, 2)  # 6*x + 4\n",
        "\n",
        "print(d2f_dx2)"
      ],
      "metadata": {
        "colab": {
          "base_uri": "https://localhost:8080/"
        },
        "id": "JbV8oaYBxBrm",
        "outputId": "871a2df9-8c7d-41ee-e52c-7103649717dc"
      },
      "execution_count": null,
      "outputs": [
        {
          "output_type": "stream",
          "name": "stdout",
          "text": [
            "2*(3*x + 2)\n"
          ]
        }
      ]
    },
    {
      "cell_type": "code",
      "source": [
        "# อนุพันธ์ย่อย\n",
        "f = x**2 * y + y**3\n",
        "df_dx = sp.diff(f, x)  # 2*x*y\n",
        "df_dy = sp.diff(f, y)  # x**2 + 3*y**2\n",
        "\n",
        "print(df_dx)\n",
        "print(df_dy)"
      ],
      "metadata": {
        "colab": {
          "base_uri": "https://localhost:8080/"
        },
        "id": "-VarcqhhxXQT",
        "outputId": "b7d58e7b-b8ab-47cc-b7e4-7c1e19090b10"
      },
      "execution_count": null,
      "outputs": [
        {
          "output_type": "stream",
          "name": "stdout",
          "text": [
            "2*x*y\n",
            "x**2 + 3*y**2\n"
          ]
        }
      ]
    },
    {
      "cell_type": "code",
      "source": [
        "# การหาปริพันธ์\n",
        "integral1 = sp.integrate(x**2, x)  # x**3/3\n",
        "integral2 = sp.integrate(x**2, (x, 0, 2))  # 8/3\n",
        "\n",
        "print(integral1)\n",
        "print(integral2)"
      ],
      "metadata": {
        "colab": {
          "base_uri": "https://localhost:8080/"
        },
        "id": "HzUk-TWMxxJG",
        "outputId": "29e227c6-f81b-420a-fff7-e52fbb09a6bb"
      },
      "execution_count": null,
      "outputs": [
        {
          "output_type": "stream",
          "name": "stdout",
          "text": [
            "x**3/3\n",
            "8/3\n"
          ]
        }
      ]
    },
    {
      "cell_type": "code",
      "source": [
        "# ปริพันธ์หลายตัวแปร\n",
        "integral3 = sp.integrate(x*y, (x, 0, 1), (y, 0, 2))  # 1\n",
        "\n",
        "print(integral3)"
      ],
      "metadata": {
        "colab": {
          "base_uri": "https://localhost:8080/"
        },
        "id": "0Rd_8khQx3Bg",
        "outputId": "e3888d14-08e0-489d-8774-bc8ff8548a2a"
      },
      "execution_count": null,
      "outputs": [
        {
          "output_type": "stream",
          "name": "stdout",
          "text": [
            "1\n"
          ]
        }
      ]
    },
    {
      "cell_type": "code",
      "source": [
        "limit1 = sp.limit(sp.sin(x)/x, x, 0)  # 1\n",
        "\n",
        "print(limit1)"
      ],
      "metadata": {
        "colab": {
          "base_uri": "https://localhost:8080/"
        },
        "id": "gwAopkx8ygVd",
        "outputId": "e9562eda-0cc0-42d7-8d17-08b1f79da24b"
      },
      "execution_count": null,
      "outputs": [
        {
          "output_type": "stream",
          "name": "stdout",
          "text": [
            "1\n"
          ]
        }
      ]
    },
    {
      "cell_type": "code",
      "source": [
        "# สร้างเมทริกซ์\n",
        "A = sp.Matrix([[1, 2], [3, 4]])\n",
        "B = sp.Matrix([[5, 6], [7, 8]])"
      ],
      "metadata": {
        "id": "-GGSWNxLzDYi"
      },
      "execution_count": null,
      "outputs": []
    },
    {
      "cell_type": "code",
      "source": [
        "# การดำเนินการพื้นฐาน\n",
        "C = A + B  # บวกเมทริกซ์\n",
        "D = A * B  # คูณเมทริกซ์\n",
        "\n",
        "print(C)\n",
        "print(D)"
      ],
      "metadata": {
        "colab": {
          "base_uri": "https://localhost:8080/"
        },
        "id": "hS17J4rmhmci",
        "outputId": "20800c9d-0d23-45c0-d463-ecfa5074e686"
      },
      "execution_count": null,
      "outputs": [
        {
          "output_type": "stream",
          "name": "stdout",
          "text": [
            "Matrix([[6, 8], [10, 12]])\n",
            "Matrix([[19, 22], [43, 50]])\n"
          ]
        }
      ]
    },
    {
      "cell_type": "code",
      "source": [
        "# determinant และ inverse\n",
        "det_A = A.det()  # -2\n",
        "inv_A = A.inv()  # เมทริกซ์ผกผัน\n",
        "\n",
        "print(det_A)\n",
        "print(inv_A)"
      ],
      "metadata": {
        "colab": {
          "base_uri": "https://localhost:8080/"
        },
        "id": "pNIOUD_6iDZK",
        "outputId": "7d8c6647-7c64-4fc7-d209-83395603c5a5"
      },
      "execution_count": null,
      "outputs": [
        {
          "output_type": "stream",
          "name": "stdout",
          "text": [
            "-2\n",
            "Matrix([[-2, 1], [3/2, -1/2]])\n"
          ]
        }
      ]
    },
    {
      "cell_type": "markdown",
      "source": [
        "# NumPy"
      ],
      "metadata": {
        "id": "rTx4JCIuq2HZ"
      }
    },
    {
      "cell_type": "code",
      "source": [
        "import numpy as np"
      ],
      "metadata": {
        "id": "dgPHGQzRq1tC"
      },
      "execution_count": null,
      "outputs": []
    },
    {
      "cell_type": "code",
      "source": [
        "# สร้าง array จากลิสต์\n",
        "arr1 = np.array([1, 2, 3, 4, 5])\n",
        "arr2 = np.array([[1, 2], [3, 4]])  # 2D array\n",
        "\n",
        "print(arr1)\n",
        "print(arr2)"
      ],
      "metadata": {
        "colab": {
          "base_uri": "https://localhost:8080/"
        },
        "id": "9drWnKojq0ej",
        "outputId": "67cd231b-cc3f-43c5-b60c-681c003c8dbb"
      },
      "execution_count": null,
      "outputs": [
        {
          "output_type": "stream",
          "name": "stdout",
          "text": [
            "[1 2 3 4 5]\n",
            "[[1 2]\n",
            " [3 4]]\n"
          ]
        }
      ]
    },
    {
      "cell_type": "code",
      "source": [
        "arr = np.array([[1, 2, 3], [4, 5, 6]])\n",
        "\n",
        "print(arr.shape)\n",
        "print(arr.ndim)\n",
        "print(arr.size)\n",
        "print(arr.dtype)"
      ],
      "metadata": {
        "colab": {
          "base_uri": "https://localhost:8080/"
        },
        "id": "FRWCReD1ejVb",
        "outputId": "7e30dcd7-35ec-4898-c346-2eb7d2cb6b90"
      },
      "execution_count": null,
      "outputs": [
        {
          "output_type": "stream",
          "name": "stdout",
          "text": [
            "(2, 3)\n",
            "2\n",
            "6\n",
            "int64\n"
          ]
        }
      ]
    },
    {
      "cell_type": "code",
      "source": [
        "# ข้อมูลตัวอย่าง\n",
        "x = np.array([0, np.pi/4, np.pi/2, np.pi])\n",
        "y = np.array([1, 4, 9, 16])\n",
        "\n",
        "# ฟังก์ชันตรีโกณมิติ\n",
        "sin_x = np.sin(x)\n",
        "cos_x = np.cos(x)\n",
        "tan_x = np.tan(x)\n",
        "print(f\"sin(x): {sin_x}\")\n",
        "print(f\"cos(x): {cos_x}\")\n",
        "print(f\"tan(x): {tan_x}\")"
      ],
      "metadata": {
        "colab": {
          "base_uri": "https://localhost:8080/"
        },
        "id": "TqTmyR4yksqh",
        "outputId": "27093999-7f1b-49bf-c092-0e0e4aa92501"
      },
      "execution_count": null,
      "outputs": [
        {
          "output_type": "stream",
          "name": "stdout",
          "text": [
            "sin(x): [0.00000000e+00 7.07106781e-01 1.00000000e+00 1.22464680e-16]\n",
            "cos(x): [ 1.00000000e+00  7.07106781e-01  6.12323400e-17 -1.00000000e+00]\n",
            "tan(x): [ 0.00000000e+00  1.00000000e+00  1.63312394e+16 -1.22464680e-16]\n"
          ]
        }
      ]
    },
    {
      "cell_type": "code",
      "source": [],
      "metadata": {
        "id": "-jXubtLIxFwO"
      },
      "execution_count": null,
      "outputs": []
    },
    {
      "cell_type": "code",
      "source": [
        "# เมทริกซ์\n",
        "A = np.array([[1, 2], [3, 4]])\n",
        "B = np.array([[5, 6], [7, 8]])\n",
        "\n",
        "# แก้ระบบสมการเชิงเส้น Ax = b\n",
        "b = np.array([1, 2])\n",
        "x = np.linalg.solve(A, b)\n",
        "\n",
        "print(x)"
      ],
      "metadata": {
        "colab": {
          "base_uri": "https://localhost:8080/"
        },
        "id": "K5zEUQY0xEe9",
        "outputId": "eb75e1f7-59b7-4038-fce7-a4d788231acf"
      },
      "execution_count": null,
      "outputs": [
        {
          "output_type": "stream",
          "name": "stdout",
          "text": [
            "[0.  0.5]\n"
          ]
        }
      ]
    }
  ]
}