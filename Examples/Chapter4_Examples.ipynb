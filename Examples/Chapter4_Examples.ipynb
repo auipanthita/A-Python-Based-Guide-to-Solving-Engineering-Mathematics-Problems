{
  "nbformat": 4,
  "nbformat_minor": 0,
  "metadata": {
    "colab": {
      "provenance": []
    },
    "kernelspec": {
      "name": "python3",
      "display_name": "Python 3"
    },
    "language_info": {
      "name": "python"
    }
  },
  "cells": [
    {
      "cell_type": "code",
      "execution_count": 1,
      "metadata": {
        "colab": {
          "base_uri": "https://localhost:8080/",
          "height": 81
        },
        "id": "_O8ZC5g4RtNQ",
        "outputId": "8aabd93d-a287-4822-a899-3fd9b8fa48c9"
      },
      "outputs": [
        {
          "output_type": "display_data",
          "data": {
            "text/plain": [
              "<IPython.core.display.Latex object>"
            ],
            "text/latex": "\\text{การคำนวณอนุพันธ์ของฟังก์ชันพีชคณิตด้วยไพธอน จากตัวอย่างโจทย์ที่ 4.1}"
          },
          "metadata": {}
        },
        {
          "output_type": "display_data",
          "data": {
            "text/plain": [
              "<IPython.core.display.Latex object>"
            ],
            "text/latex": "\\text{สมการฟังก์ชัน } f(x) = 3 x^{3} - 4 x^{2} + 5 x + 1"
          },
          "metadata": {}
        },
        {
          "output_type": "display_data",
          "data": {
            "text/plain": [
              "<IPython.core.display.Latex object>"
            ],
            "text/latex": "\\text{อนุพันธ์ }  f'(x) = 9 x^{2} - 8 x + 5"
          },
          "metadata": {}
        }
      ],
      "source": [
        "#ตัวอย่างโจทย์ที่ 4.1\n",
        "\n",
        "import sympy as sp                                                            #นำเข้าไลบรารี sympy ตั้งชื่อใหม่ว่า sp\n",
        "from IPython.display import display as dp, Latex as lt            #นำเข้า display ,Latex จากเครื่องมือ IPython.display ตั้งชื่อว่า dp ,lt\n",
        "sp.init_printing(use_latex='matplotlib')                                #ให้แสดงผลแบบ Latex\n",
        "\n",
        "x = sp.symbols('x')                                                                #กำหนดให้ x เป็นตัวสัญลักษณ์ชนิดหนึ่ง\n",
        "f = 3*x**3-4*x**2+5*x+1                                                    #สร้างตัวแปร f เก็บสมการฟังก์ชัน\n",
        "\n",
        "y = sp.diff(f, x)                                                                    #คำนวณสมการ f ตามตัวแปร x เก็บคำตอบไว้ในตัวแปร y\n",
        "\n",
        "#ส่วนของการแสดงผล แสดงในรูปแบบของสมการทางคณิตศาสตร์ของ LaTeX\n",
        "dp(lt(r\"\\text{การคำนวณอนุพันธ์ของฟังก์ชันพีชคณิตด้วยไพธอน จากตัวอย่างโจทย์ที่ 4.1}\"))\n",
        "dp(lt(r\"\\text{สมการฟังก์ชัน } f(x) = \" + sp.latex(f)))                #ให้แสดงค่า f\n",
        "dp(lt(r\"\\text{อนุพันธ์ }  f'(x) = \" + sp.latex(y)))                        #ให้แสดงค่า y\n"
      ]
    },
    {
      "cell_type": "code",
      "source": [
        "#ตัวอย่างโจทย์ที่ 4.2\n",
        "f = x**2 + 1/x**3 - 2/x**5\n",
        "y = sp.diff(f ,x)\n",
        "\n",
        "dp(lt(r\"\\text{การคำนวณอนุพันธ์ของฟังก์ชันพีชคณิตด้วยไพธอน จากตัวอย่างโจทย์ที่ 4.2}\"))\n",
        "dp(lt(r\"\\text{สมการฟังก์ชัน } f(x) = \" +sp.latex(f)))\n",
        "dp(lt(r\"\\text{อนุพันธ์ } f'(x) = \" +sp.latex(y)))"
      ],
      "metadata": {
        "colab": {
          "base_uri": "https://localhost:8080/",
          "height": 81
        },
        "id": "RllWiZ0iZGxH",
        "outputId": "20c25166-7660-44be-9aed-8082a039d6c8"
      },
      "execution_count": null,
      "outputs": [
        {
          "output_type": "display_data",
          "data": {
            "text/plain": [
              "<IPython.core.display.Latex object>"
            ],
            "text/latex": "\\text{การคำนวณอนุพันธ์ของฟังก์ชันพีชคณิตด้วยไพธอน จากตัวอย่างโจทย์ที่ 4.2}"
          },
          "metadata": {}
        },
        {
          "output_type": "display_data",
          "data": {
            "text/plain": [
              "<IPython.core.display.Latex object>"
            ],
            "text/latex": "\\text{สมการฟังก์ชัน } f(x) = x^{2} + \\frac{1}{x^{3}} - \\frac{2}{x^{5}}"
          },
          "metadata": {}
        },
        {
          "output_type": "display_data",
          "data": {
            "text/plain": [
              "<IPython.core.display.Latex object>"
            ],
            "text/latex": "\\text{อนุพันธ์ } f'(x) = 2 x - \\frac{3}{x^{4}} + \\frac{10}{x^{6}}"
          },
          "metadata": {}
        }
      ]
    },
    {
      "cell_type": "code",
      "source": [
        "#ตัวอย่างโจทย์ที่ 4.3\n",
        "f = (x**2 + 5*x - 3)**5\n",
        "y = sp.diff(f ,x)\n",
        "\n",
        "dp(lt(r\"\\text{การคำนวณอนุพันธ์ของฟังก์ชันประกอบด้วยไพธอน จากตัวอย่างโจทย์ที่ 4.3}\"))\n",
        "dp(lt(r\"\\text{สมการฟังก์ชัน } f(x) = \" +sp.latex(f)))\n",
        "dp(lt(r\"\\text{อนุพันธ์ } f'(x) = \" +sp.latex(y)))"
      ],
      "metadata": {
        "colab": {
          "base_uri": "https://localhost:8080/",
          "height": 86
        },
        "id": "CYIV2kBxMDLk",
        "outputId": "1846118e-8063-41fd-ccb5-ea6fdc7ac176"
      },
      "execution_count": null,
      "outputs": [
        {
          "output_type": "display_data",
          "data": {
            "text/plain": [
              "<IPython.core.display.Latex object>"
            ],
            "text/latex": "\\text{การคำนวณอนุพันธ์ของฟังก์ชันประกอบด้วยไพธอน จากตัวอย่างโจทย์ที่ 4.3}"
          },
          "metadata": {}
        },
        {
          "output_type": "display_data",
          "data": {
            "text/plain": [
              "<IPython.core.display.Latex object>"
            ],
            "text/latex": "\\text{สมการฟังก์ชัน } f(x) = \\left(x^{2} + 5 x - 3\\right)^{5}"
          },
          "metadata": {}
        },
        {
          "output_type": "display_data",
          "data": {
            "text/plain": [
              "<IPython.core.display.Latex object>"
            ],
            "text/latex": "\\text{อนุพันธ์ } f'(x) = \\left(10 x + 25\\right) \\left(x^{2} + 5 x - 3\\right)^{4}"
          },
          "metadata": {}
        }
      ]
    },
    {
      "cell_type": "code",
      "source": [
        "#ตัวอย่างโจทย์ที่ 4.4\n",
        "f = 3 * (-x**3 + 9*x - 4)**10\n",
        "y = sp.diff(f ,x)\n",
        "\n",
        "\n",
        "dp(lt(r\"\\text{การคำนวณอนุพันธ์ของฟังก์ชันประกอบด้วยไพธอน จากตัวอย่างโจทย์ที่ 4.4}\"))\n",
        "dp(lt(r\"\\text{สมการฟังก์ชัน } f(x) = \" +sp.latex(f)))\n",
        "dp(lt(r\"\\text{อนุพันธ์ } f'(x) = \" +sp.latex(y)))"
      ],
      "metadata": {
        "colab": {
          "base_uri": "https://localhost:8080/",
          "height": 86
        },
        "outputId": "3e79a3bf-0a59-4d9a-e6a9-7fe40457c70f",
        "id": "eQuM7MYU2scP"
      },
      "execution_count": null,
      "outputs": [
        {
          "output_type": "display_data",
          "data": {
            "text/plain": [
              "<IPython.core.display.Latex object>"
            ],
            "text/latex": "\\text{การคำนวณอนุพันธ์ของฟังก์ชันประกอบด้วยไพธอน จากตัวอย่างโจทย์ที่ 4.4}"
          },
          "metadata": {}
        },
        {
          "output_type": "display_data",
          "data": {
            "text/plain": [
              "<IPython.core.display.Latex object>"
            ],
            "text/latex": "\\text{สมการฟังก์ชัน } f(x) = 3 \\left(- x^{3} + 9 x - 4\\right)^{10}"
          },
          "metadata": {}
        },
        {
          "output_type": "display_data",
          "data": {
            "text/plain": [
              "<IPython.core.display.Latex object>"
            ],
            "text/latex": "\\text{อนุพันธ์ } f'(x) = 3 \\left(90 - 30 x^{2}\\right) \\left(- x^{3} + 9 x - 4\\right)^{9}"
          },
          "metadata": {}
        }
      ]
    },
    {
      "cell_type": "code",
      "source": [
        "#ตัวอย่างโจทย์ที่ 4.5\n",
        "f = sp.exp(4*x - 1)\n",
        "y = sp.diff(f ,x)\n",
        "\n",
        "\n",
        "dp(lt(r\"\\text{การคำนวณอนุพันธ์ของฟังก์ชันเลขชี้กำลังด้วยไพธอน จากตัวอย่างโจทย์ที่ 4.5}\"))\n",
        "dp(lt(r\"\\text{สมการฟังก์ชัน } f(x) = \" +sp.latex(f)))\n",
        "dp(lt(r\"\\text{อนุพันธ์ } f'(x) = \" +sp.latex(y)))"
      ],
      "metadata": {
        "colab": {
          "base_uri": "https://localhost:8080/",
          "height": 81
        },
        "id": "1D7PgH63RE-l",
        "outputId": "90657b2a-26b6-4a3a-e6a8-18fc38ed2f12"
      },
      "execution_count": null,
      "outputs": [
        {
          "output_type": "display_data",
          "data": {
            "text/plain": [
              "<IPython.core.display.Latex object>"
            ],
            "text/latex": "\\text{การคำนวณอนุพันธ์ของฟังก์ชันเลขชี้กำลังด้วยไพธอน จากตัวอย่างโจทย์ที่ 4.5}"
          },
          "metadata": {}
        },
        {
          "output_type": "display_data",
          "data": {
            "text/plain": [
              "<IPython.core.display.Latex object>"
            ],
            "text/latex": "\\text{สมการฟังก์ชัน } f(x) = e^{4 x - 1}"
          },
          "metadata": {}
        },
        {
          "output_type": "display_data",
          "data": {
            "text/plain": [
              "<IPython.core.display.Latex object>"
            ],
            "text/latex": "\\text{อนุพันธ์ } f'(x) = 4 e^{4 x - 1}"
          },
          "metadata": {}
        }
      ]
    },
    {
      "cell_type": "code",
      "source": [
        "#ตัวอย่างโจทย์ที่ 4.6\n",
        "f = sp.exp(x**3 - x + 9)\n",
        "y = sp.diff(f ,x)\n",
        "\n",
        "\n",
        "dp(lt(r\"\\text{การคำนวณอนุพันธ์ของฟังก์ชันเลขชี้กำลังด้วยไพธอน จากตัวอย่างโจทย์ที่ 4.6}\"))\n",
        "dp(lt(r\"\\text{สมการฟังก์ชัน } f(x) = \" +sp.latex(f)))\n",
        "dp(lt(r\"\\text{อนุพันธ์ } f'(x) = \" +sp.latex(y)))"
      ],
      "metadata": {
        "colab": {
          "base_uri": "https://localhost:8080/",
          "height": 84
        },
        "id": "jM07Qr1VvaJA",
        "outputId": "1d12a3fc-26bb-4794-d746-ea878efe40c4"
      },
      "execution_count": null,
      "outputs": [
        {
          "output_type": "display_data",
          "data": {
            "text/plain": [
              "<IPython.core.display.Latex object>"
            ],
            "text/latex": "\\text{การคำนวณอนุพันธ์ของฟังก์ชันเลขชี้กำลังด้วยไพธอน จากตัวอย่างโจทย์ที่ 4.6}"
          },
          "metadata": {}
        },
        {
          "output_type": "display_data",
          "data": {
            "text/plain": [
              "<IPython.core.display.Latex object>"
            ],
            "text/latex": "\\text{สมการฟังก์ชัน } f(x) = e^{x^{3} - x + 9}"
          },
          "metadata": {}
        },
        {
          "output_type": "display_data",
          "data": {
            "text/plain": [
              "<IPython.core.display.Latex object>"
            ],
            "text/latex": "\\text{อนุพันธ์ } f'(x) = \\left(3 x^{2} - 1\\right) e^{x^{3} - x + 9}"
          },
          "metadata": {}
        }
      ]
    },
    {
      "cell_type": "code",
      "source": [
        "#ตัวอย่างโจทย์ที่ 4.7\n",
        "f = sp.ln(7*x + 1)\n",
        "y = sp.diff(f ,x)\n",
        "\n",
        "\n",
        "dp(lt(r\"\\text{การคำนวณอนุพันธ์ของฟังก์ชันลอการิทึมด้วยไพธอน จากตัวอย่างโจทย์ที่ 4.7}\"))\n",
        "dp(lt(r\"\\text{สมการฟังก์ชัน } f(x) = \" +sp.latex(f)))\n",
        "dp(lt(r\"\\text{อนุพันธ์ } f'(x) = \" +sp.latex(y)))"
      ],
      "metadata": {
        "colab": {
          "base_uri": "https://localhost:8080/",
          "height": 81
        },
        "id": "5EkRgJIiYg3p",
        "outputId": "e7880836-0af7-4ff1-8143-da5d2ff9522f"
      },
      "execution_count": null,
      "outputs": [
        {
          "output_type": "display_data",
          "data": {
            "text/plain": [
              "<IPython.core.display.Latex object>"
            ],
            "text/latex": "\\text{การคำนวณอนุพันธ์ของฟังก์ชันลอการิทึมด้วยไพธอน จากตัวอย่างโจทย์ที่ 4.7}"
          },
          "metadata": {}
        },
        {
          "output_type": "display_data",
          "data": {
            "text/plain": [
              "<IPython.core.display.Latex object>"
            ],
            "text/latex": "\\text{สมการฟังก์ชัน } f(x) = \\log{\\left(7 x + 1 \\right)}"
          },
          "metadata": {}
        },
        {
          "output_type": "display_data",
          "data": {
            "text/plain": [
              "<IPython.core.display.Latex object>"
            ],
            "text/latex": "\\text{อนุพันธ์ } f'(x) = \\frac{7}{7 x + 1}"
          },
          "metadata": {}
        }
      ]
    },
    {
      "cell_type": "code",
      "source": [
        "#ตัวอย่างโจทย์ที่ 4.8\n",
        "f = 4 * sp.ln(3*x**2 + x -17)\n",
        "y = sp.diff(f ,x)\n",
        "\n",
        "\n",
        "dp(lt(r\"\\text{การคำนวณอนุพันธ์ของฟังก์ชันลอการิทึมด้วยไพธอน จากตัวอย่างโจทย์ที่ 4.8}\"))\n",
        "dp(lt(r\"\\text{สมการฟังก์ชัน } f(x) = \" +sp.latex(f)))\n",
        "dp(lt(r\"\\text{อนุพันธ์ } f'(x) = \" +sp.latex(y)))"
      ],
      "metadata": {
        "colab": {
          "base_uri": "https://localhost:8080/",
          "height": 83
        },
        "id": "14PEZalYZptX",
        "outputId": "034c96d2-8d19-40c7-d9ae-2c5ab58307ab"
      },
      "execution_count": null,
      "outputs": [
        {
          "output_type": "display_data",
          "data": {
            "text/plain": [
              "<IPython.core.display.Latex object>"
            ],
            "text/latex": "\\text{การคำนวณอนุพันธ์ของฟังก์ชันลอการิทึมด้วยไพธอน จากตัวอย่างโจทย์ที่ 4.8}"
          },
          "metadata": {}
        },
        {
          "output_type": "display_data",
          "data": {
            "text/plain": [
              "<IPython.core.display.Latex object>"
            ],
            "text/latex": "\\text{สมการฟังก์ชัน } f(x) = 4 \\log{\\left(3 x^{2} + x - 17 \\right)}"
          },
          "metadata": {}
        },
        {
          "output_type": "display_data",
          "data": {
            "text/plain": [
              "<IPython.core.display.Latex object>"
            ],
            "text/latex": "\\text{อนุพันธ์ } f'(x) = \\frac{4 \\left(6 x + 1\\right)}{3 x^{2} + x - 17}"
          },
          "metadata": {}
        }
      ]
    },
    {
      "cell_type": "code",
      "source": [
        "#ตัวอย่างโจทย์ที่ 4.9\n",
        "f = sp.sqrt(sp.cos(x)+1)\n",
        "y = sp.diff(f ,x)\n",
        "\n",
        "\n",
        "dp(lt(r\"\\text{การคำนวณอนุพันธ์ของฟังก์ชันตรีโกณมิติด้วยไพธอน จากตัวอย่างโจทย์ที่ 4.9}\"))\n",
        "dp(lt(r\"\\text{สมการฟังก์ชัน } f(x) = \" +sp.latex(f)))\n",
        "dp(lt(r\"\\text{อนุพันธ์ } f'(x) = \" +sp.latex(y)))"
      ],
      "metadata": {
        "colab": {
          "base_uri": "https://localhost:8080/",
          "height": 91
        },
        "id": "9d9BkyAcaR0K",
        "outputId": "0c3ad8c5-3623-44e0-af02-670ae23a6d64"
      },
      "execution_count": null,
      "outputs": [
        {
          "output_type": "display_data",
          "data": {
            "text/plain": [
              "<IPython.core.display.Latex object>"
            ],
            "text/latex": "\\text{การคำนวณอนุพันธ์ของฟังก์ชันตรีโกณมิติด้วยไพธอน จากตัวอย่างโจทย์ที่ 4.9}"
          },
          "metadata": {}
        },
        {
          "output_type": "display_data",
          "data": {
            "text/plain": [
              "<IPython.core.display.Latex object>"
            ],
            "text/latex": "\\text{สมการฟังก์ชัน } f(x) = \\sqrt{\\cos{\\left(x \\right)} + 1}"
          },
          "metadata": {}
        },
        {
          "output_type": "display_data",
          "data": {
            "text/plain": [
              "<IPython.core.display.Latex object>"
            ],
            "text/latex": "\\text{อนุพันธ์ } f'(x) = - \\frac{\\sin{\\left(x \\right)}}{2 \\sqrt{\\cos{\\left(x \\right)} + 1}}"
          },
          "metadata": {}
        }
      ]
    },
    {
      "cell_type": "code",
      "source": [
        "#ตัวอย่างโจทย์ที่ 4.10\n",
        "f = sp.sin(3*x) * sp.exp(2*x - 1)\n",
        "y = sp.diff(f ,x)\n",
        "\n",
        "\n",
        "dp(lt(r\"\\text{การคำนวณอนุพันธ์ของฟังก์ชันตรีโกณมิติด้วยไพธอน จากตัวอย่างโจทย์ที่ 4.10}\"))\n",
        "dp(lt(r\"\\text{สมการฟังก์ชัน } f(x) = \" +sp.latex(f)))\n",
        "dp(lt(r\"\\text{อนุพันธ์ } f'(x) = \" +sp.latex(y)))"
      ],
      "metadata": {
        "colab": {
          "base_uri": "https://localhost:8080/",
          "height": 81
        },
        "id": "iOrIeMHLu5Xj",
        "outputId": "db9ce3b4-56cd-4cec-f167-00cc9ed25d6b"
      },
      "execution_count": null,
      "outputs": [
        {
          "output_type": "display_data",
          "data": {
            "text/plain": [
              "<IPython.core.display.Latex object>"
            ],
            "text/latex": "\\text{การคำนวณอนุพันธ์ของฟังก์ชันตรีโกณมิติด้วยไพธอน จากตัวอย่างโจทย์ที่ 4.10}"
          },
          "metadata": {}
        },
        {
          "output_type": "display_data",
          "data": {
            "text/plain": [
              "<IPython.core.display.Latex object>"
            ],
            "text/latex": "\\text{สมการฟังก์ชัน } f(x) = e^{2 x - 1} \\sin{\\left(3 x \\right)}"
          },
          "metadata": {}
        },
        {
          "output_type": "display_data",
          "data": {
            "text/plain": [
              "<IPython.core.display.Latex object>"
            ],
            "text/latex": "\\text{อนุพันธ์ } f'(x) = 2 e^{2 x - 1} \\sin{\\left(3 x \\right)} + 3 e^{2 x - 1} \\cos{\\left(3 x \\right)}"
          },
          "metadata": {}
        }
      ]
    },
    {
      "cell_type": "code",
      "source": [
        "#ตัวอย่างโจทย์ที่ 4.11\n",
        "f = x**2 * sp.cos(x)\n",
        "y2 = sp.diff(f ,x ,2)\n",
        "\n",
        "dp(lt(r\"\\text{การคำนวณอนุพันธ์อันดับสูงด้วยไพธอน จากตัวอย่างโจทย์ที่ 4.11}\"))\n",
        "dp(lt(r\"\\text{สมการฟังก์ชัน } f(x) = \" +sp.latex(f)))\n",
        "dp(lt(r\"\\text{อนุพันธ์อันดับ 2 } = \" +sp.latex(y2)))"
      ],
      "metadata": {
        "colab": {
          "base_uri": "https://localhost:8080/",
          "height": 81
        },
        "id": "DYkpDY3xhVMe",
        "outputId": "3106f2d9-5fc4-4ec6-b1a0-907064e8e832"
      },
      "execution_count": null,
      "outputs": [
        {
          "output_type": "display_data",
          "data": {
            "text/plain": [
              "<IPython.core.display.Latex object>"
            ],
            "text/latex": "\\text{การคำนวณอนุพันธ์อันดับสูงด้วยไพธอน จากตัวอย่างโจทย์ที่ 4.11}"
          },
          "metadata": {}
        },
        {
          "output_type": "display_data",
          "data": {
            "text/plain": [
              "<IPython.core.display.Latex object>"
            ],
            "text/latex": "\\text{สมการฟังก์ชัน } f(x) = x^{2} \\cos{\\left(x \\right)}"
          },
          "metadata": {}
        },
        {
          "output_type": "display_data",
          "data": {
            "text/plain": [
              "<IPython.core.display.Latex object>"
            ],
            "text/latex": "\\text{อนุพันธ์อันดับ 2 } = - x^{2} \\cos{\\left(x \\right)} - 4 x \\sin{\\left(x \\right)} + 2 \\cos{\\left(x \\right)}"
          },
          "metadata": {}
        }
      ]
    },
    {
      "cell_type": "code",
      "source": [
        "#ตัวอย่างโจทย์ที่ 4.12\n",
        "f = sp.exp(x) * sp.sin(x)\n",
        "y2 = sp.diff(f ,x ,2)\n",
        "\n",
        "dp(lt(r\"\\text{การคำนวณอนุพันธ์อันดับสูงด้วยไพธอน จากตัวอย่างโจทย์ที่ 4.12}\"))\n",
        "dp(lt(r\"\\text{สมการฟังก์ชัน } f(x) = \" +sp.latex(f)))\n",
        "dp(lt(r\"\\text{อนุพันธ์อันดับ 2 }  = \" +sp.latex(y2)))"
      ],
      "metadata": {
        "colab": {
          "base_uri": "https://localhost:8080/",
          "height": 81
        },
        "id": "_j_fShbuiuWK",
        "outputId": "853974ff-cc33-44e8-e74a-d7027655b305"
      },
      "execution_count": null,
      "outputs": [
        {
          "output_type": "display_data",
          "data": {
            "text/plain": [
              "<IPython.core.display.Latex object>"
            ],
            "text/latex": "\\text{การคำนวณอนุพันธ์อันดับสูงด้วยไพธอน จากตัวอย่างโจทย์ที่ 4.12}"
          },
          "metadata": {}
        },
        {
          "output_type": "display_data",
          "data": {
            "text/plain": [
              "<IPython.core.display.Latex object>"
            ],
            "text/latex": "\\text{สมการฟังก์ชัน } f(x) = e^{x} \\sin{\\left(x \\right)}"
          },
          "metadata": {}
        },
        {
          "output_type": "display_data",
          "data": {
            "text/plain": [
              "<IPython.core.display.Latex object>"
            ],
            "text/latex": "\\text{อนุพันธ์อันดับ 2 }  = 2 e^{x} \\cos{\\left(x \\right)}"
          },
          "metadata": {}
        }
      ]
    },
    {
      "cell_type": "code",
      "source": [
        "#ตัวอย่างโจทย์ที่ 4.13\n",
        "f = sp.ln(2*x + 1)\n",
        "y2 = sp.diff(f ,x ,2)\n",
        "\n",
        "dp(lt(r\"\\text{การคำนวณอนุพันธ์อันดับสูงด้วยไพธอน จากตัวอย่างโจทย์ที่ 4.13}\"))\n",
        "dp(lt(r\"\\text{สมการฟังก์ชัน } f(x) = \" +sp.latex(f)))\n",
        "dp(lt(r\"\\text{อนุพันธ์อันดับ 2 }  = \" +sp.latex(y2)))"
      ],
      "metadata": {
        "colab": {
          "base_uri": "https://localhost:8080/",
          "height": 84
        },
        "id": "hsMJLoaalFJY",
        "outputId": "9322d93f-a189-4c7a-ada9-4a5292ca0c91"
      },
      "execution_count": null,
      "outputs": [
        {
          "output_type": "display_data",
          "data": {
            "text/plain": [
              "<IPython.core.display.Latex object>"
            ],
            "text/latex": "\\text{การคำนวณอนุพันธ์อันดับสูงด้วยไพธอน จากตัวอย่างโจทย์ที่ 4.13}"
          },
          "metadata": {}
        },
        {
          "output_type": "display_data",
          "data": {
            "text/plain": [
              "<IPython.core.display.Latex object>"
            ],
            "text/latex": "\\text{สมการฟังก์ชัน } f(x) = \\log{\\left(2 x + 1 \\right)}"
          },
          "metadata": {}
        },
        {
          "output_type": "display_data",
          "data": {
            "text/plain": [
              "<IPython.core.display.Latex object>"
            ],
            "text/latex": "\\text{อนุพันธ์อันดับ 2 }  = - \\frac{4}{\\left(2 x + 1\\right)^{2}}"
          },
          "metadata": {}
        }
      ]
    },
    {
      "cell_type": "code",
      "source": [
        "#ตัวอย่างโจทย์ที่ 4.14\n",
        "f = 3*x**3 - 2*x**2 + 7*x - 6\n",
        "\n",
        "dp(lt(r\"\\text{การคำนวณอนุพันธ์อันดับสูงด้วยไพธอน จากตัวอย่างโจทย์ที่ 4.14}\"))\n",
        "dp(lt(r\"\\text{สมการฟังก์ชัน } f(x) = \" + sp.latex(f)))\n",
        "\n",
        "for i in range(1, 5):\n",
        "\n",
        "  dp(lt(rf\"\\text{{อนุพันธ์อันดับ {i}}} = {sp.latex(sp.diff(f, x, i))}\"))"
      ],
      "metadata": {
        "colab": {
          "base_uri": "https://localhost:8080/",
          "height": 144
        },
        "id": "1mTpQFelrELu",
        "outputId": "948816ff-a988-42d8-dc75-d4fa208caa24"
      },
      "execution_count": null,
      "outputs": [
        {
          "output_type": "display_data",
          "data": {
            "text/plain": [
              "<IPython.core.display.Latex object>"
            ],
            "text/latex": "\\text{การคำนวณอนุพันธ์อันดับสูงด้วยไพธอน จากตัวอย่างโจทย์ที่ 4.14}"
          },
          "metadata": {}
        },
        {
          "output_type": "display_data",
          "data": {
            "text/plain": [
              "<IPython.core.display.Latex object>"
            ],
            "text/latex": "\\text{สมการฟังก์ชัน } f(x) = 3 x^{3} - 2 x^{2} + 7 x - 6"
          },
          "metadata": {}
        },
        {
          "output_type": "display_data",
          "data": {
            "text/plain": [
              "<IPython.core.display.Latex object>"
            ],
            "text/latex": "\\text{อนุพันธ์อันดับ 1} = 9 x^{2} - 4 x + 7"
          },
          "metadata": {}
        },
        {
          "output_type": "display_data",
          "data": {
            "text/plain": [
              "<IPython.core.display.Latex object>"
            ],
            "text/latex": "\\text{อนุพันธ์อันดับ 2} = 2 \\left(9 x - 2\\right)"
          },
          "metadata": {}
        },
        {
          "output_type": "display_data",
          "data": {
            "text/plain": [
              "<IPython.core.display.Latex object>"
            ],
            "text/latex": "\\text{อนุพันธ์อันดับ 3} = 18"
          },
          "metadata": {}
        },
        {
          "output_type": "display_data",
          "data": {
            "text/plain": [
              "<IPython.core.display.Latex object>"
            ],
            "text/latex": "\\text{อนุพันธ์อันดับ 4} = 0"
          },
          "metadata": {}
        }
      ]
    },
    {
      "cell_type": "code",
      "source": [
        "#ตัวอย่างโจทย์ที่ 4.15\n",
        "f = sp.exp(3*x)\n",
        "\n",
        "dp(lt(r\"\\text{การคำนวณอนุพันธ์อันดับสูงด้วยไพธอน จากตัวอย่างโจทย์ที่ 4.15}\"))\n",
        "dp(lt(r\"\\text{สมการฟังก์ชัน } f(x) = \" +sp.latex(f)))\n",
        "\n",
        "for i in range(1, 4):\n",
        "  dp(lt(rf\"\\text{{อนุพันธ์อันดับ {i}}} = {sp.latex(sp.diff(f, x, i))}\"))"
      ],
      "metadata": {
        "colab": {
          "base_uri": "https://localhost:8080/",
          "height": 125
        },
        "id": "HxJyYUm9liDD",
        "outputId": "d8f569f2-c219-4a3c-b63d-7021163dfcfd"
      },
      "execution_count": null,
      "outputs": [
        {
          "output_type": "display_data",
          "data": {
            "text/plain": [
              "<IPython.core.display.Latex object>"
            ],
            "text/latex": "\\text{การคำนวณอนุพันธ์อันดับสูงด้วยไพธอน จากตัวอย่างโจทย์ที่ 4.15}"
          },
          "metadata": {}
        },
        {
          "output_type": "display_data",
          "data": {
            "text/plain": [
              "<IPython.core.display.Latex object>"
            ],
            "text/latex": "\\text{สมการฟังก์ชัน } f(x) = e^{3 x}"
          },
          "metadata": {}
        },
        {
          "output_type": "display_data",
          "data": {
            "text/plain": [
              "<IPython.core.display.Latex object>"
            ],
            "text/latex": "\\text{อนุพันธ์อันดับ 1} = 3 e^{3 x}"
          },
          "metadata": {}
        },
        {
          "output_type": "display_data",
          "data": {
            "text/plain": [
              "<IPython.core.display.Latex object>"
            ],
            "text/latex": "\\text{อนุพันธ์อันดับ 2} = 9 e^{3 x}"
          },
          "metadata": {}
        },
        {
          "output_type": "display_data",
          "data": {
            "text/plain": [
              "<IPython.core.display.Latex object>"
            ],
            "text/latex": "\\text{อนุพันธ์อันดับ 3} = 27 e^{3 x}"
          },
          "metadata": {}
        }
      ]
    },
    {
      "cell_type": "code",
      "source": [
        "#ตัวอย่างโจทย์ที่ 4.16\n",
        "f = x**3 - 7\n",
        "\n",
        "y = sp.integrate(f, (x, 1, 3))\n",
        "\n",
        "dp(lt(r\"\\text{การคำนวณปริพันธ์จำกัดเขตด้วยไพธอน จากตัวอย่างโจทย์ที่ 4.16}\"))\n",
        "dp(lt(r\"\\text{สมการฟังก์ชัน } f(x) = \" +sp.latex(f)))\n",
        "dp(lt(r\"\\text{ปริพันธ์ }  = \" +sp.latex(y)))"
      ],
      "metadata": {
        "colab": {
          "base_uri": "https://localhost:8080/",
          "height": 80
        },
        "id": "O5TGBRO99asZ",
        "outputId": "0153e391-f4aa-46b6-c67d-8529628e7211"
      },
      "execution_count": null,
      "outputs": [
        {
          "output_type": "display_data",
          "data": {
            "text/plain": [
              "<IPython.core.display.Latex object>"
            ],
            "text/latex": "\\text{การคำนวณปริพันธ์จำกัดเขตด้วยไพธอน จากตัวอย่างโจทย์ที่ 4.21}"
          },
          "metadata": {}
        },
        {
          "output_type": "display_data",
          "data": {
            "text/plain": [
              "<IPython.core.display.Latex object>"
            ],
            "text/latex": "\\text{สมการฟังก์ชัน } f(x) = x^{3} - 7"
          },
          "metadata": {}
        },
        {
          "output_type": "display_data",
          "data": {
            "text/plain": [
              "<IPython.core.display.Latex object>"
            ],
            "text/latex": "\\text{ปริพันธ์ }  = 6"
          },
          "metadata": {}
        }
      ]
    },
    {
      "cell_type": "code",
      "source": [
        "#ตัวอย่างโจทย์ที่ 4.17\n",
        "f = sp.cos(x)\n",
        "\n",
        "y = sp.integrate(f, (x, 0, sp.pi/2))\n",
        "\n",
        "dp(lt(r\"\\text{การคำนวณปริพันธ์จำกัดเขตด้วยไพธอน จากตัวอย่างโจทย์ที่ 4.17}\"))\n",
        "dp(lt(r\"\\text{สมการฟังก์ชัน } f(x) = \" +sp.latex(f)))\n",
        "dp(lt(r\"\\text{ปริพันธ์ }  = \" +sp.latex(y)))"
      ],
      "metadata": {
        "colab": {
          "base_uri": "https://localhost:8080/",
          "height": 80
        },
        "id": "IjKNvoSCAeKk",
        "outputId": "44604a04-cad7-4a83-b533-918b2dcb1813"
      },
      "execution_count": null,
      "outputs": [
        {
          "output_type": "display_data",
          "data": {
            "text/plain": [
              "<IPython.core.display.Latex object>"
            ],
            "text/latex": "\\text{การคำนวณปริพันธ์จำกัดเขตด้วยไพธอน จากตัวอย่างโจทย์ที่ 4.17}"
          },
          "metadata": {}
        },
        {
          "output_type": "display_data",
          "data": {
            "text/plain": [
              "<IPython.core.display.Latex object>"
            ],
            "text/latex": "\\text{สมการฟังก์ชัน } f(x) = \\cos{\\left(x \\right)}"
          },
          "metadata": {}
        },
        {
          "output_type": "display_data",
          "data": {
            "text/plain": [
              "<IPython.core.display.Latex object>"
            ],
            "text/latex": "\\text{ปริพันธ์ }  = 1"
          },
          "metadata": {}
        }
      ]
    },
    {
      "cell_type": "code",
      "source": [
        "#ตัวอย่างโจทย์ที่ 4.18\n",
        "f = 1/x\n",
        "\n",
        "y = sp.integrate(f, (x, 1, sp.E))\n",
        "\n",
        "dp(lt(r\"\\text{การคำนวณปริพันธ์จำกัดเขตด้วยไพธอน จากตัวอย่างโจทย์ที่ 4.18}\"))\n",
        "dp(lt(r\"\\text{สมการฟังก์ชัน } f(x) = \" +sp.latex(f)))\n",
        "dp(lt(r\"\\text{ปริพันธ์ }  = \" +sp.latex(y)))"
      ],
      "metadata": {
        "colab": {
          "base_uri": "https://localhost:8080/",
          "height": 80
        },
        "id": "IyZO6KmcApSm",
        "outputId": "3d3168a4-fc9d-431e-d447-1573e1bb4261"
      },
      "execution_count": null,
      "outputs": [
        {
          "output_type": "display_data",
          "data": {
            "text/plain": [
              "<IPython.core.display.Latex object>"
            ],
            "text/latex": "\\text{การคำนวณปริพันธ์จำกัดเขตด้วยไพธอน จากตัวอย่างโจทย์ที่ 4.23}"
          },
          "metadata": {}
        },
        {
          "output_type": "display_data",
          "data": {
            "text/plain": [
              "<IPython.core.display.Latex object>"
            ],
            "text/latex": "\\text{สมการฟังก์ชัน } f(x) = \\frac{1}{x}"
          },
          "metadata": {}
        },
        {
          "output_type": "display_data",
          "data": {
            "text/plain": [
              "<IPython.core.display.Latex object>"
            ],
            "text/latex": "\\text{ปริพันธ์ }  = 1"
          },
          "metadata": {}
        }
      ]
    },
    {
      "cell_type": "code",
      "source": [
        "#ตัวอย่างโจทย์ที่ 4.19\n",
        "f = sp.tan(x)\n",
        "\n",
        "y = sp.integrate(f, (x, 0, sp.pi/4))\n",
        "\n",
        "dp(lt(r\"\\text{การคำนวณปริพันธ์จำกัดเขตด้วยไพธอน จากตัวอย่างโจทย์ที่ 4.19}\"))\n",
        "dp(lt(r\"\\text{สมการฟังก์ชัน } f(x) = \" +sp.latex(f)))\n",
        "dp(lt(r\"\\text{ปริพันธ์ }  = \" +sp.latex(y)))"
      ],
      "metadata": {
        "colab": {
          "base_uri": "https://localhost:8080/",
          "height": 90
        },
        "id": "0_MWRD2PBQ6x",
        "outputId": "a674db51-a802-419a-c817-8aa4d344e291"
      },
      "execution_count": null,
      "outputs": [
        {
          "output_type": "display_data",
          "data": {
            "text/plain": [
              "<IPython.core.display.Latex object>"
            ],
            "text/latex": "\\text{การคำนวณปริพันธ์จำกัดเขตด้วยไพธอน จากตัวอย่างโจทย์ที่ 4.19}"
          },
          "metadata": {}
        },
        {
          "output_type": "display_data",
          "data": {
            "text/plain": [
              "<IPython.core.display.Latex object>"
            ],
            "text/latex": "\\text{สมการฟังก์ชัน } f(x) = \\tan{\\left(x \\right)}"
          },
          "metadata": {}
        },
        {
          "output_type": "display_data",
          "data": {
            "text/plain": [
              "<IPython.core.display.Latex object>"
            ],
            "text/latex": "\\text{ปริพันธ์ }  = - \\log{\\left(\\frac{\\sqrt{2}}{2} \\right)}"
          },
          "metadata": {}
        }
      ]
    },
    {
      "cell_type": "code",
      "source": [
        "#ตัวอย่างโจทย์ที่ 4.20\n",
        "f = sp.sin(x)\n",
        "\n",
        "y = sp.integrate(f, (x, 0, sp.pi/3))\n",
        "\n",
        "dp(lt(r\"\\text{การคำนวณปริพันธ์จำกัดเขตด้วยไพธอน จากตัวอย่างโจทย์ที่ 4.20}\"))\n",
        "dp(lt(r\"\\text{สมการฟังก์ชัน } f(x) = \" +sp.latex(f)))\n",
        "dp(lt(r\"\\text{ปริพันธ์ }  = \" +sp.latex(y)))"
      ],
      "metadata": {
        "colab": {
          "base_uri": "https://localhost:8080/",
          "height": 80
        },
        "id": "_A9CcaawCmta",
        "outputId": "5bed6796-6456-4536-8e7e-225ae07f6b1b"
      },
      "execution_count": null,
      "outputs": [
        {
          "output_type": "display_data",
          "data": {
            "text/plain": [
              "<IPython.core.display.Latex object>"
            ],
            "text/latex": "\\text{การคำนวณปริพันธ์จำกัดเขตด้วยไพธอน จากตัวอย่างโจทย์ที่ 4.20}"
          },
          "metadata": {}
        },
        {
          "output_type": "display_data",
          "data": {
            "text/plain": [
              "<IPython.core.display.Latex object>"
            ],
            "text/latex": "\\text{สมการฟังก์ชัน } f(x) = \\sin{\\left(x \\right)}"
          },
          "metadata": {}
        },
        {
          "output_type": "display_data",
          "data": {
            "text/plain": [
              "<IPython.core.display.Latex object>"
            ],
            "text/latex": "\\text{ปริพันธ์ }  = \\frac{1}{2}"
          },
          "metadata": {}
        }
      ]
    },
    {
      "cell_type": "code",
      "source": [
        "#ตัวอย่างโจทย์ที่ 4.21\n",
        "x, u = sp.symbols('x u')\n",
        "\n",
        "# กำหนดการเปลี่ยนตัวแปร\n",
        "f = (4*x + 7)**4\n",
        "u_expr = 4*x + 7\n",
        "du_dx = sp.diff(u_expr, x)  # หาอนุพันธ์ของ u ตาม x\n",
        "dx = sp.solve(sp.Eq(du_dx, sp.Derivative(u, x)), sp.Derivative(u, x))[0]  # แทนค่า dx\n",
        "\n",
        "# เปลี่ยนตัวแปรในปริพันธ์\n",
        "integral_result = sp.integrate((u**4 / du_dx), u)  # คำนวณปริพันธ์ด้วย u\n",
        "simplified_result = sp.simplify(integral_result)\n",
        "\n",
        "dp(lt(r\"\\text{การคำนวณปริพันธ์ไม่จำกัดเขต วิธีเปลี่ยนตัวแปรด้วยไพธอน จากตัวอย่างโจทย์ที่ 4.21}\"))\n",
        "dp(lt(r\"\\text{สมการฟังก์ชัน } f(x) = \" +sp.latex(f)))\n",
        "dp(lt(r\"\\text{ปริพันธ์ }  = \" +sp.latex(simplified_result)))"
      ],
      "metadata": {
        "colab": {
          "base_uri": "https://localhost:8080/",
          "height": 83
        },
        "id": "mi8BGRoP8Mrd",
        "outputId": "a6433efa-319e-4a44-a7a0-3b537ebf69da"
      },
      "execution_count": null,
      "outputs": [
        {
          "output_type": "display_data",
          "data": {
            "text/plain": [
              "<IPython.core.display.Latex object>"
            ],
            "text/latex": "\\text{การคำนวณปริพันธ์ไม่จำกัดเขต วิธีเปลี่ยนตัวแปรด้วยไพธอน จากตัวอย่างโจทย์ที่ 4.16}"
          },
          "metadata": {}
        },
        {
          "output_type": "display_data",
          "data": {
            "text/plain": [
              "<IPython.core.display.Latex object>"
            ],
            "text/latex": "\\text{สมการฟังก์ชัน } f(x) = \\left(4 x + 7\\right)^{4}"
          },
          "metadata": {}
        },
        {
          "output_type": "display_data",
          "data": {
            "text/plain": [
              "<IPython.core.display.Latex object>"
            ],
            "text/latex": "\\text{ปริพันธ์ }  = \\frac{u^{5}}{20}"
          },
          "metadata": {}
        }
      ]
    },
    {
      "cell_type": "code",
      "source": [
        "#ตัวอย่างโจทย์ที่ 4.22\n",
        "x, u = sp.symbols('x u')\n",
        "\n",
        "# กำหนดการเปลี่ยนตัวแปร\n",
        "f = sp.cos(3*x)\n",
        "u_expr = 3*x\n",
        "du_dx = sp.diff(u_expr, x)  # หาอนุพันธ์ของ u ตาม x\n",
        "dx = sp.solve(sp.Eq(du_dx, sp.Derivative(u, x)), sp.Derivative(u, x))[0]  # แทนค่า dx\n",
        "\n",
        "# เปลี่ยนตัวแปรในปริพันธ์\n",
        "integral_result = sp.integrate((sp.cos(u) / du_dx), u)  # คำนวณปริพันธ์ด้วย u\n",
        "simplified_result = sp.simplify(integral_result)\n",
        "\n",
        "dp(lt(r\"\\text{การคำนวณปริพันธ์ไม่จำกัดเขต วิธีเปลี่ยนตัวแปรด้วยไพธอน จากตัวอย่างโจทย์ที่ 4.22}\"))\n",
        "dp(lt(r\"\\text{สมการฟังก์ชัน } f(x) = \" +sp.latex(f)))\n",
        "dp(lt(r\"\\text{ปริพันธ์ }  = \" +sp.latex(simplified_result)))"
      ],
      "metadata": {
        "colab": {
          "base_uri": "https://localhost:8080/",
          "height": 82
        },
        "id": "fSGxaovKeMxG",
        "outputId": "64e15a47-7068-4d79-c027-4a813783b29b"
      },
      "execution_count": null,
      "outputs": [
        {
          "output_type": "display_data",
          "data": {
            "text/plain": [
              "<IPython.core.display.Latex object>"
            ],
            "text/latex": "\\text{การคำนวณปริพันธ์ไม่จำกัดเขต วิธีเปลี่ยนตัวแปรด้วยไพธอน จากตัวอย่างโจทย์ที่ 4.17}"
          },
          "metadata": {}
        },
        {
          "output_type": "display_data",
          "data": {
            "text/plain": [
              "<IPython.core.display.Latex object>"
            ],
            "text/latex": "\\text{สมการฟังก์ชัน } f(x) = \\cos{\\left(3 x \\right)}"
          },
          "metadata": {}
        },
        {
          "output_type": "display_data",
          "data": {
            "text/plain": [
              "<IPython.core.display.Latex object>"
            ],
            "text/latex": "\\text{ปริพันธ์ }  = \\frac{\\sin{\\left(u \\right)}}{3}"
          },
          "metadata": {}
        }
      ]
    },
    {
      "cell_type": "code",
      "source": [
        "#ตัวอย่างโจทย์ที่ 4.23\n",
        "x, u = sp.symbols('x u')\n",
        "\n",
        "# กำหนดการเปลี่ยนตัวแปร\n",
        "f = sp.exp(13 - 5*x)\n",
        "u_expr = 13 - 5*x\n",
        "du_dx = sp.diff(u_expr, x)  # หาอนุพันธ์ของ u ตาม x\n",
        "dx = sp.solve(sp.Eq(du_dx, sp.Derivative(u, x)), sp.Derivative(u, x))[0]  # แทนค่า dx\n",
        "\n",
        "# เปลี่ยนตัวแปรในปริพันธ์\n",
        "integral_result = sp.integrate((sp.exp(u) / du_dx), u)  # คำนวณปริพันธ์ด้วย u\n",
        "simplified_result = sp.simplify(integral_result)\n",
        "\n",
        "dp(lt(r\"\\text{การคำนวณปริพันธ์ไม่จำกัดเขต วิธีเปลี่ยนตัวแปรด้วยไพธอน จากตัวอย่างโจทย์ที่ 4.23}\"))\n",
        "dp(lt(r\"\\text{สมการฟังก์ชัน } f(x) = \" +sp.latex(f)))\n",
        "dp(lt(r\"\\text{ปริพันธ์ }  = \" +sp.latex(simplified_result)))"
      ],
      "metadata": {
        "colab": {
          "base_uri": "https://localhost:8080/",
          "height": 81
        },
        "id": "RSccI1G2fI5M",
        "outputId": "f39696f7-6341-49a1-8bab-36be9dc7ffb1"
      },
      "execution_count": null,
      "outputs": [
        {
          "output_type": "display_data",
          "data": {
            "text/plain": [
              "<IPython.core.display.Latex object>"
            ],
            "text/latex": "\\text{การคำนวณปริพันธ์ไม่จำกัดเขต วิธีเปลี่ยนตัวแปรด้วยไพธอน จากตัวอย่างโจทย์ที่ 4.23}"
          },
          "metadata": {}
        },
        {
          "output_type": "display_data",
          "data": {
            "text/plain": [
              "<IPython.core.display.Latex object>"
            ],
            "text/latex": "\\text{สมการฟังก์ชัน } f(x) = e^{13 - 5 x}"
          },
          "metadata": {}
        },
        {
          "output_type": "display_data",
          "data": {
            "text/plain": [
              "<IPython.core.display.Latex object>"
            ],
            "text/latex": "\\text{ปริพันธ์ }  = - \\frac{e^{u}}{5}"
          },
          "metadata": {}
        }
      ]
    },
    {
      "cell_type": "code",
      "source": [
        "#ตัวอย่างโจทย์ที่ 4.24\n",
        "f = sp.sin(4 * x)**2\n",
        "\n",
        "# แปลงฟังก์ชัน sin^2(4x) เป็นรูปแบบใหม่\n",
        "f_new = (1 - sp.cos(8 * x)) / 2\n",
        "\n",
        "\n",
        "y = sp.integrate(f_new, x)\n",
        "\n",
        "\n",
        "dp(lt(r\"\\text{การคำนวณปริพันธ์ไม่จำกัดเขต ฟังก์ชันตรีโกณมิติยกกำลังด้วยไพธอน จากตัวอย่างที่ 4.24}\"))\n",
        "dp(lt(r\"\\text{สมการฟังก์ชัน } f(x) = \" +sp.latex(f)))\n",
        "dp(lt(r\"\\text{ปริพันธ์ }  = \" +sp.latex(y)))"
      ],
      "metadata": {
        "colab": {
          "base_uri": "https://localhost:8080/",
          "height": 82
        },
        "id": "nHdEBRB-SwWn",
        "outputId": "a05a3952-1d8c-4f11-d540-a44c5374c330"
      },
      "execution_count": null,
      "outputs": [
        {
          "output_type": "display_data",
          "data": {
            "text/plain": [
              "<IPython.core.display.Latex object>"
            ],
            "text/latex": "\\text{การคำนวณปริพันธ์ไม่จำกัดเขต ฟังก์ชันตรีโกณมิติยกกำลังด้วยไพธอน จากตัวอย่างที่ 4.24}"
          },
          "metadata": {}
        },
        {
          "output_type": "display_data",
          "data": {
            "text/plain": [
              "<IPython.core.display.Latex object>"
            ],
            "text/latex": "\\text{สมการฟังก์ชัน } f(x) = \\sin^{2}{\\left(4 x \\right)}"
          },
          "metadata": {}
        },
        {
          "output_type": "display_data",
          "data": {
            "text/plain": [
              "<IPython.core.display.Latex object>"
            ],
            "text/latex": "\\text{ปริพันธ์ }  = \\frac{x}{2} - \\frac{\\sin{\\left(8 x \\right)}}{16}"
          },
          "metadata": {}
        }
      ]
    },
    {
      "cell_type": "code",
      "source": [
        "#ตัวอย่างโจทย์ที่ 4.25\n",
        "f = sp.sin(x)**2 * sp.cos(x)**5\n",
        "\n",
        "# แปลงฟังก์ชัน sin^2(4x) เป็นรูปแบบใหม่\n",
        "f_new = sp.sin(x)**2 * (sp.cos(x)**2)**2 * sp.cos(x)\n",
        "\n",
        "\n",
        "y = sp.integrate(f_new, x)\n",
        "\n",
        "\n",
        "dp(lt(r\"\\text{การคำนวณปริพันธ์ไม่จำกัดเขต ฟังก์ชันตรีโกณมิติยกกำลังด้วยไพธอน จากตัวอย่างที่ 4.25}\"))\n",
        "dp(lt(r\"\\text{สมการฟังก์ชัน } f(x) = \" +sp.latex(f)))\n",
        "dp(lt(r\"\\text{ปริพันธ์ }  = \" +sp.latex(y)))"
      ],
      "metadata": {
        "colab": {
          "base_uri": "https://localhost:8080/",
          "height": 84
        },
        "id": "MfS8gXblWqlR",
        "outputId": "9ae63fe6-9851-425d-c7f7-ec4a8970c7e0"
      },
      "execution_count": null,
      "outputs": [
        {
          "output_type": "display_data",
          "data": {
            "text/plain": [
              "<IPython.core.display.Latex object>"
            ],
            "text/latex": "\\text{การคำนวณปริพันธ์ไม่จำกัดเขต ฟังก์ชันตรีโกณมิติยกกำลังด้วยไพธอน จากตัวอย่างที่ 4.20}"
          },
          "metadata": {}
        },
        {
          "output_type": "display_data",
          "data": {
            "text/plain": [
              "<IPython.core.display.Latex object>"
            ],
            "text/latex": "\\text{สมการฟังก์ชัน } f(x) = \\sin^{2}{\\left(x \\right)} \\cos^{5}{\\left(x \\right)}"
          },
          "metadata": {}
        },
        {
          "output_type": "display_data",
          "data": {
            "text/plain": [
              "<IPython.core.display.Latex object>"
            ],
            "text/latex": "\\text{ปริพันธ์ }  = \\frac{\\sin^{7}{\\left(x \\right)}}{7} - \\frac{2 \\sin^{5}{\\left(x \\right)}}{5} + \\frac{\\sin^{3}{\\left(x \\right)}}{3}"
          },
          "metadata": {}
        }
      ]
    }
  ]
}