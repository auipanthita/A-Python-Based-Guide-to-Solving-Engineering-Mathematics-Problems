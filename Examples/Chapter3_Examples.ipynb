{
  "nbformat": 4,
  "nbformat_minor": 0,
  "metadata": {
    "colab": {
      "provenance": []
    },
    "kernelspec": {
      "name": "python3",
      "display_name": "Python 3"
    },
    "language_info": {
      "name": "python"
    }
  },
  "cells": [
    {
      "cell_type": "code",
      "execution_count": 2,
      "metadata": {
        "id": "HU_YanXnBWDR"
      },
      "outputs": [],
      "source": [
        "import sympy as sp\n",
        "import numpy as np\n",
        "from sympy import *"
      ]
    },
    {
      "cell_type": "code",
      "source": [
        "x = symbols('x')\n",
        "y = symbols('y')\n",
        "z = symbols('z')"
      ],
      "metadata": {
        "id": "jlTzKwY_qa6F"
      },
      "execution_count": 3,
      "outputs": []
    },
    {
      "cell_type": "code",
      "source": [
        "#ตัวอย่าง 3.1 การบวกพหุนาม\n",
        "# สร้างตัวแปร x\n",
        "x = symbols('x')\n",
        "\n",
        "# นิยามพหุนาม\n",
        "poly1 = 4*x**2 + 3*x + 2\n",
        "poly2 = 2*x**2 + 5*x + 6\n",
        "\n",
        "# บวกพหุนาม\n",
        "result = expand(poly1 + poly2)\n",
        "\n",
        "# แสดงผล\n",
        "print(result)\n"
      ],
      "metadata": {
        "colab": {
          "base_uri": "https://localhost:8080/"
        },
        "id": "VFZnsBkKoMP2",
        "outputId": "562c48ef-2429-449d-f50c-808930a60583"
      },
      "execution_count": 7,
      "outputs": [
        {
          "output_type": "stream",
          "name": "stdout",
          "text": [
            "6*x**2 + 8*x + 8\n"
          ]
        }
      ]
    },
    {
      "cell_type": "code",
      "source": [
        "#ตัวอย่าง 3.1 การบวกพหุนาม\n",
        "print(expand((4*x**2 + 3*x + 2) + (2*x**2 + 5*x + 6)))"
      ],
      "metadata": {
        "colab": {
          "base_uri": "https://localhost:8080/"
        },
        "id": "YaOhBMG-pbz9",
        "outputId": "3184b2ce-daa1-4a48-8213-3f4995c3fb3e"
      },
      "execution_count": 8,
      "outputs": [
        {
          "output_type": "stream",
          "name": "stdout",
          "text": [
            "6*x**2 + 8*x + 8\n"
          ]
        }
      ]
    },
    {
      "cell_type": "code",
      "source": [
        "#ตัวอย่าง 3.2 การบวกพหุนาม\n",
        "print(expand((x**2 + y**2) + (2*x**2 - 3*y**2 + z)))"
      ],
      "metadata": {
        "colab": {
          "base_uri": "https://localhost:8080/"
        },
        "id": "VyFY5D8AqXYQ",
        "outputId": "9e62fe49-2e05-4402-a21c-a4e21f61d11f"
      },
      "execution_count": null,
      "outputs": [
        {
          "output_type": "stream",
          "name": "stdout",
          "text": [
            "3*x**2 - 2*y**2 + z\n"
          ]
        }
      ]
    },
    {
      "cell_type": "code",
      "source": [
        "#ตัวอย่าง 3.3 การลบพหุนาม\n",
        "print(expand((6*x**2 + 4*x + 3) - (2*x**2 + x + 1)))"
      ],
      "metadata": {
        "colab": {
          "base_uri": "https://localhost:8080/"
        },
        "id": "tvyV-gfJuNpw",
        "outputId": "b8022ed1-e2e4-4bab-cc86-e4269ae174e1"
      },
      "execution_count": null,
      "outputs": [
        {
          "output_type": "stream",
          "name": "stdout",
          "text": [
            "4*x**2 + 3*x + 2\n"
          ]
        }
      ]
    },
    {
      "cell_type": "code",
      "source": [
        "#ตัวอย่าง 3.4 การลบพหุนาม\n",
        "print(expand((x**2 + y**2 + z) - (2*x**2 - y**2 + 3*z)))\n"
      ],
      "metadata": {
        "colab": {
          "base_uri": "https://localhost:8080/"
        },
        "id": "RIF4eyPSuWhh",
        "outputId": "cbc05029-bd62-4be6-e36c-f4671a972092"
      },
      "execution_count": null,
      "outputs": [
        {
          "output_type": "stream",
          "name": "stdout",
          "text": [
            "-x**2 + 2*y**2 - 2*z\n"
          ]
        }
      ]
    },
    {
      "cell_type": "code",
      "source": [
        "#ตัวอย่าง 3.5 การคูณพหุนาม\n",
        "print(expand((x - 4)*(x + 5)))"
      ],
      "metadata": {
        "colab": {
          "base_uri": "https://localhost:8080/"
        },
        "id": "aI64M3atvvFR",
        "outputId": "c367b139-0b72-4769-fac0-99cf2dcba118"
      },
      "execution_count": 4,
      "outputs": [
        {
          "output_type": "stream",
          "name": "stdout",
          "text": [
            "x**2 + x - 20\n"
          ]
        }
      ]
    },
    {
      "cell_type": "code",
      "source": [
        "#ตัวอย่าง 3.6 การคูณพหุนาม\n",
        "print(expand((x + y + z) * (x - y)))"
      ],
      "metadata": {
        "colab": {
          "base_uri": "https://localhost:8080/"
        },
        "id": "q7HxLXE1vw-4",
        "outputId": "dae65221-6e0a-42d0-baea-c0cc10793477"
      },
      "execution_count": 5,
      "outputs": [
        {
          "output_type": "stream",
          "name": "stdout",
          "text": [
            "x**2 + x*z - y**2 - y*z\n"
          ]
        }
      ]
    },
    {
      "cell_type": "code",
      "source": [
        "#ตัวอย่าง 3.7 การหารพหุนาม\n",
        "# ตัวตั้ง (Dividend) และ ตัวหาร (Divisor)\n",
        "dividend = x**2 - 3*x + 2\n",
        "divisor = x - 1\n",
        "\n",
        "# ทำการหารพหุนาม\n",
        "quotient, remainder = div(dividend, divisor)\n",
        "\n",
        "# แสดงผลลัพธ์\n",
        "print(\"ผลลัพธ์ของการหาร :\")\n",
        "print(f\"ผลหาร = {quotient}\")\n",
        "print(f\"เศษ = {remainder}\")"
      ],
      "metadata": {
        "colab": {
          "base_uri": "https://localhost:8080/"
        },
        "id": "mQ2I9HJLwiVm",
        "outputId": "a42689e2-7a23-4e70-af18-25f82a2f080e"
      },
      "execution_count": 6,
      "outputs": [
        {
          "output_type": "stream",
          "name": "stdout",
          "text": [
            "ผลลัพธ์ของการหาร :\n",
            "ผลหาร = x - 2\n",
            "เศษ = 0\n"
          ]
        }
      ]
    },
    {
      "cell_type": "code",
      "source": [
        "#ตัวอย่าง 3.8 การหารพหุนาม\n",
        "# ตัวตั้ง (Dividend) และ ตัวหาร (Divisor)\n",
        "dividend = 6*x**3 + 9*x**2 - 3*x\n",
        "divisor = 3*x\n",
        "\n",
        "# ทำการหารพหุนาม\n",
        "quotient, remainder = div(dividend, divisor)\n",
        "\n",
        "# แสดงผลลัพธ์\n",
        "print(\"ผลลัพธ์ของการหาร :\")\n",
        "print(f\"ผลหาร = {quotient}\")\n",
        "print(f\"เศษ = {remainder}\")"
      ],
      "metadata": {
        "colab": {
          "base_uri": "https://localhost:8080/"
        },
        "id": "mfyh3FTywkDs",
        "outputId": "9737f804-c12a-422a-83f6-425c55f468ee"
      },
      "execution_count": null,
      "outputs": [
        {
          "output_type": "stream",
          "name": "stdout",
          "text": [
            "ผลลัพธ์ของการหาร :\n",
            "ผลหาร = 2*x**2 + 3*x - 1\n",
            "เศษ = 0\n"
          ]
        }
      ]
    },
    {
      "cell_type": "code",
      "source": [
        "#ตัวอย่างที่ 3.9 สมการเชิงเส้นสองตัวแปร\n",
        "eq1 = sp.Eq(2*x + y, 7)\n",
        "eq2 = sp.Eq(x - y, 1)\n",
        "\n",
        "solution = sp.solve([eq1, eq2], (x, y))\n",
        "print(solution)"
      ],
      "metadata": {
        "colab": {
          "base_uri": "https://localhost:8080/"
        },
        "id": "wGhym5aVBxIW",
        "outputId": "50deebc9-d42e-481d-eb0a-59330795bdcb"
      },
      "execution_count": null,
      "outputs": [
        {
          "output_type": "stream",
          "name": "stdout",
          "text": [
            "{x: 8/3, y: 5/3}\n"
          ]
        }
      ]
    },
    {
      "cell_type": "code",
      "source": [
        "#ตัวอย่างที่ 3.10 สมการเชิงเส้นสามตัวแปร\n",
        "eq1 = sp.Eq(x + y + z, 6)\n",
        "eq2 = sp.Eq(2*x - y + z, 3)\n",
        "eq3 = sp.Eq(x + 2*y - z, 4)\n",
        "\n",
        "solution = sp.solve([eq1, eq2, eq3], (x, y, z))\n",
        "print(solution)"
      ],
      "metadata": {
        "colab": {
          "base_uri": "https://localhost:8080/"
        },
        "id": "V6ek_5xXRE1y",
        "outputId": "58b20caa-a1a7-49ce-98e6-1dade6e91c49"
      },
      "execution_count": null,
      "outputs": [
        {
          "output_type": "stream",
          "name": "stdout",
          "text": [
            "{x: 11/7, y: 16/7, z: 15/7}\n"
          ]
        }
      ]
    },
    {
      "cell_type": "code",
      "source": [
        "#ตัวอย่างที่ 3.11 อสมการ\n",
        "eq = x + 3 < 7\n",
        "\n",
        "# แก้อสมการ\n",
        "solution = solve_univariate_inequality(eq, x)\n",
        "\n",
        "print(solution)"
      ],
      "metadata": {
        "colab": {
          "base_uri": "https://localhost:8080/"
        },
        "id": "qHDl96c1dBfo",
        "outputId": "4ad86290-8b97-4c25-a290-1b20d4131ed2"
      },
      "execution_count": null,
      "outputs": [
        {
          "output_type": "stream",
          "name": "stdout",
          "text": [
            "(-oo < x) & (x < 4)\n"
          ]
        }
      ]
    },
    {
      "cell_type": "code",
      "source": [
        "#ตัวอย่างที่ 3.12 อสมการ\n",
        "eq = 2*x + 1 >= 5\n",
        "\n",
        "# แก้อสมการ\n",
        "solution = solve_univariate_inequality(eq, x)\n",
        "\n",
        "print(solution)"
      ],
      "metadata": {
        "colab": {
          "base_uri": "https://localhost:8080/"
        },
        "id": "c7s7SFlylxIU",
        "outputId": "e5467e45-48f7-493d-ffc9-c9d75a9623e7"
      },
      "execution_count": null,
      "outputs": [
        {
          "output_type": "stream",
          "name": "stdout",
          "text": [
            "(2 <= x) & (x < oo)\n"
          ]
        }
      ]
    },
    {
      "cell_type": "code",
      "source": [
        "#โจทย์ที่ 1 วิศวกรรมโยธา\n",
        "\n",
        "import sympy as sp\n",
        "\n",
        "# กำหนดตัวแปรแทนแรงทั้งสาม\n",
        "F1, F2, F3 = sp.symbols('F1 F2 F3')\n",
        "\n",
        "# ตั้งสมการจากเมทริกซ์\n",
        "# สมการที่ 1: 1*F1 + 2*F2 - 1*F3 = 0\n",
        "# สมการที่ 2: 2*F1 - 1*F2 + 1*F3 = 10\n",
        "# สมการที่ 3: 1*F1 - 1*F2 + 2*F3 = 5\n",
        "\n",
        "eq1 = sp.Eq(F1 + 2*F2 - F3, 0)\n",
        "eq2 = sp.Eq(2*F1 - F2 + F3, 10)\n",
        "eq3 = sp.Eq(F1 - F2 + 2*F3, 5)\n",
        "\n",
        "# แก้ระบบสมการ\n",
        "solution = sp.solve([eq1, eq2, eq3], [F1, F2, F3])\n",
        "\n",
        "print(\"=== ผลลัพธ์แรงในระบบ ===\")\n",
        "\n",
        "# แสดงผลลัพธ์\n",
        "#print(f\"F1 = {solution[F1]}\")\n",
        "#print(f\"F2 = {solution[F2]}\")\n",
        "#print(f\"F3 = {solution[F3]}\")\n",
        "\n",
        "#ถ้าอยากให้แสดงผลลัพธ์เป็นทศนิยม\n",
        "print(f\"F1 = {float(solution[F1]):.4f}\")\n",
        "print(f\"F2 = {float(solution[F2]):.4f}\")\n",
        "print(f\"F3 = {float(solution[F3]):.4f}\")\n"
      ],
      "metadata": {
        "colab": {
          "base_uri": "https://localhost:8080/"
        },
        "id": "ghgAsV0kGZWG",
        "outputId": "0e378b57-fcc3-4881-b7d5-183db1d736af"
      },
      "execution_count": null,
      "outputs": [
        {
          "output_type": "stream",
          "name": "stdout",
          "text": [
            "=== ผลลัพธ์แรงในระบบ ===\n",
            "F1 = 4.1667\n",
            "F2 = -2.5000\n",
            "F3 = -0.8333\n"
          ]
        }
      ]
    },
    {
      "cell_type": "code",
      "source": [
        "#โจทย์ที่ 2 วิศวกรรมโยธา\n",
        "\n",
        "import sympy as sp\n",
        "\n",
        "A, B, C = sp.symbols('A B C')\n",
        "\n",
        "eq1 = sp.Eq(A + B + C, 50)\n",
        "eq2 = sp.Eq(2400*A + 2500*B + 2300*C, 120000)\n",
        "eq3 = sp.Eq(A + 2*B + 3*C, 80)\n",
        "\n",
        "# แก้ระบบสมการ\n",
        "solution = sp.solve([eq1, eq2, eq3], [A, B, C])\n",
        "\n",
        "# แสดงผลลัพธ์\n",
        "print(\"=== ปริมาตรของคอนกรีต ===\")\n",
        "print(f\"A = {solution[A]}\")\n",
        "print(f\"B = {solution[B]}\")\n",
        "print(f\"C = {solution[C]}\")\n",
        "\n",
        "# แสดงผลลัพธ์\n",
        "#print(\"=== ปริมาตรของคอนกรีต ===\")\n",
        "#print(f\"A = {float(solution[A]):.2f}\")\n",
        "#print(f\"B = {float(solution[B]):.2f}\")\n",
        "#print(f\"C = {float(solution[C]):.2f}\")\n"
      ],
      "metadata": {
        "colab": {
          "base_uri": "https://localhost:8080/"
        },
        "id": "AiPKSJN3HN08",
        "outputId": "e4180c01-9738-4d93-9b80-a0b25980adde"
      },
      "execution_count": null,
      "outputs": [
        {
          "output_type": "stream",
          "name": "stdout",
          "text": [
            "=== ปริมาตรของคอนกรีต ===\n",
            "A = 30\n",
            "B = 10\n",
            "C = 10\n"
          ]
        }
      ]
    },
    {
      "cell_type": "code",
      "source": [
        "#โจทย์ที่ 3 วิศวกรรมโยธา\n",
        "\n",
        "import sympy as sp\n",
        "\n",
        "P1, P2, P3 = sp.symbols('P1 P2 P3')\n",
        "\n",
        "eq1 = sp.Eq(P1 + P2 + P3, 45)\n",
        "eq2 = sp.Eq(P1 + 2*P2 + 3*P3, 80)\n",
        "eq3 = sp.Eq(2*P1 + P2 + P3, 50)\n",
        "\n",
        "solution = sp.solve([eq1, eq2, eq3], [P1, P2, P3])\n",
        "\n",
        "print(\"=== แรงดันดินแต่ละระดับ ===\")\n",
        "\n",
        "# แสดงผลลัพธ์\n",
        "print(f\"P1 = {solution[P1]}\")\n",
        "print(f\"P2 = {solution[P2]}\")\n",
        "print(f\"P3 = {solution[P3]}\")\n",
        "\n",
        "# แสดงผลลัพธ์\n",
        "#print(f\"P1 (ที่ความลึก 1 ม.) = {float(solution[P1]):.2f}\")\n",
        "#print(f\"P2 (ที่ความลึก 2 ม.) = {float(solution[P2]):.2f}\")\n",
        "#print(f\"P3 (ที่ความลึก 3 ม.) = {float(solution[P3]):.2f}\")\n"
      ],
      "metadata": {
        "colab": {
          "base_uri": "https://localhost:8080/"
        },
        "id": "7_WaKN2dHzBE",
        "outputId": "e8c3cd35-207b-4fa6-f110-3f6b7a3f48d8"
      },
      "execution_count": null,
      "outputs": [
        {
          "output_type": "stream",
          "name": "stdout",
          "text": [
            "=== แรงดันดินแต่ละระดับ ===\n",
            "P1 = 5\n",
            "P2 = 45\n",
            "P3 = -5\n"
          ]
        }
      ]
    },
    {
      "cell_type": "code",
      "source": [
        "#โจทย์ที่ 4 วิศวกรรมเครื่องกล\n",
        "\n",
        "import sympy as sp\n",
        "\n",
        "A, B, C = sp.symbols('A B C')\n",
        "\n",
        "eq1 = sp.Eq(A + B + C, 2600)\n",
        "eq2 = sp.Eq(A - 2*B, 0)\n",
        "eq3 = sp.Eq(1.5*A - B - C, 0)\n",
        "\n",
        "solution = sp.solve([eq1, eq2, eq3], [A, B, C])\n",
        "\n",
        "# แสดงผลลัพธ์\n",
        "print(f\"A = {float(solution[A]):.2f} N\")\n",
        "print(f\"B = {float(solution[B]):.2f} N\")\n",
        "print(f\"C = {float(solution[C]):.2f} N\")\n"
      ],
      "metadata": {
        "colab": {
          "base_uri": "https://localhost:8080/"
        },
        "id": "puRuG_HaIo1D",
        "outputId": "90bf235a-ee82-4239-b71a-26deb51401af"
      },
      "execution_count": null,
      "outputs": [
        {
          "output_type": "stream",
          "name": "stdout",
          "text": [
            "A = 1040.00 N\n",
            "B = 520.00 N\n",
            "C = 1040.00 N\n"
          ]
        }
      ]
    },
    {
      "cell_type": "code",
      "source": [
        "#โจทย์ที่ 5 วิศวกรรมเครื่องกล\n",
        "\n",
        "import sympy as sp\n",
        "\n",
        "A, Z = sp.symbols('A Z')\n",
        "C = 60\n",
        "\n",
        "eq1 = sp.Eq(A + Z, 40)\n",
        "eq2 = sp.Eq(A - 2*Z, 0)\n",
        "\n",
        "solution = sp.solve([eq1, eq2], [A, Z])\n",
        "\n",
        "print(\"=== ผลลัพธ์การผสมโลหะ ===\")\n",
        "\n",
        "# แสดงผลลัพธ์ปกติ\n",
        "print(f\"A = {solution[A]}\")\n",
        "print(f\"C = {C}\")\n",
        "print(f\"Z = {solution[Z]}\")\n",
        "\n",
        "# แสดงผลลัพธ์\n",
        "#print(f\"อะลูมิเนียม (A) = {float(solution[A]):.2f} กก.\")\n",
        "#print(f\"ทองแดง (C) = {C:.2f} กก.\")\n",
        "#print(f\"สังกะสี (Z) = {float(solution[Z]):.2f} กก.\")\n"
      ],
      "metadata": {
        "colab": {
          "base_uri": "https://localhost:8080/"
        },
        "id": "891fqtFfI9bz",
        "outputId": "8359e9be-4757-46fb-a968-9cb64dbe875c"
      },
      "execution_count": null,
      "outputs": [
        {
          "output_type": "stream",
          "name": "stdout",
          "text": [
            "=== ผลลัพธ์การผสมโลหะ ===\n",
            "A = 80/3\n",
            "C = 60\n",
            "Z = 40/3\n"
          ]
        }
      ]
    },
    {
      "cell_type": "code",
      "source": [
        "#โจทย์ที่ 6 วิศวกรรมเครื่องกล\n",
        "\n",
        "import sympy as sp\n",
        "\n",
        "P, Q, R = sp.symbols('P Q R')\n",
        "\n",
        "eq1 = sp.Eq(P + Q + R, 225)\n",
        "eq2 = sp.Eq(P, Q + 10)\n",
        "eq3 = sp.Eq(Q + R, 1.8*P)\n",
        "\n",
        "solution3 = sp.solve([eq1, eq2, eq3], [P, Q, R])\n",
        "\n",
        "print(\"ผลลัพธ์ :\")\n",
        "# แสดงผลลัพธ์\n",
        "print(f\"อุณหภูมิที่จุด P = {float(solution3[P]):.1f}องศา\")\n",
        "print(f\"อุณหภูมิที่จุด Q = {float(solution3[Q]):.1f}องศา\")\n",
        "print(f\"อุณหภูมิที่จุด R = {float(solution3[R]):.1f}องศา\")"
      ],
      "metadata": {
        "colab": {
          "base_uri": "https://localhost:8080/"
        },
        "id": "lFnDwj40B-3u",
        "outputId": "fe5ee367-d0f2-42d9-bcc3-e7ad47d17b97"
      },
      "execution_count": null,
      "outputs": [
        {
          "output_type": "stream",
          "name": "stdout",
          "text": [
            "ผลลัพธ์:\n",
            "อุณหภูมิที่จุด P = 80.4องศา\n",
            "อุณหภูมิที่จุด Q = 70.4องศา\n",
            "อุณหภูมิที่จุด R = 74.3องศา\n"
          ]
        }
      ]
    },
    {
      "cell_type": "code",
      "source": [
        "#โจทย์ที่ 7 วิศวกรรมไฟฟ้า\n",
        "\n",
        "import sympy as sp\n",
        "\n",
        "# กำหนดค่าคงที่ (แรงดันและความต้านทาน)\n",
        "V = 12           # แรงดันไฟฟ้า (โวลต์)\n",
        "R1 = 2           # ความต้านทานตัวที่ 1 (โอห์ม)\n",
        "R2 = 3           # ความต้านทานตัวที่ 2 (โอห์ม)\n",
        "R3 = 4           # ความต้านทานตัวที่ 3 (โอห์ม)\n",
        "\n",
        "# คำนวณความต้านทานรวม (ต่ออนุกรม)\n",
        "R_total = R1 + R2 + R3\n",
        "\n",
        "# สร้างตัวแปรเชิงสัญลักษณ์สำหรับกระแส\n",
        "I = sp.Symbol('I')\n",
        "\n",
        "# สร้างสมการจากกฎของโอห์ม: V = I × R → I = V / R\n",
        "ohm_eq = sp.Eq(I, V / R_total)\n",
        "\n",
        "# แก้สมการหา I\n",
        "solution = sp.solve(ohm_eq, I)[0]\n",
        "\n",
        "# แสดงผลลัพธ์\n",
        "print(\"=== ผลลัพธ์วงจรง่ายแบบต่ออนุกรม ===\")\n",
        "print(f\"ความต้านทานรวม = {R_total} ohm\")\n",
        "print(f\"กระแสไฟฟ้า I1 = I2 = I3 = {float(solution):.4f} A\")\n"
      ],
      "metadata": {
        "colab": {
          "base_uri": "https://localhost:8080/"
        },
        "id": "S46kx8BTLmyq",
        "outputId": "6ae95ab0-676b-4310-aae5-2fb87f2aa9bf"
      },
      "execution_count": null,
      "outputs": [
        {
          "output_type": "stream",
          "name": "stdout",
          "text": [
            "=== ผลลัพธ์วงจรง่ายแบบต่ออนุกรม ===\n",
            "ความต้านทานรวม = 9 ohm\n",
            "กระแสไฟฟ้า I1 = I2 = I3 = 1.3333 A\n"
          ]
        }
      ]
    },
    {
      "cell_type": "code",
      "source": [
        "#โจทย์ที่ 8 วิศวกรรมไฟฟ้า\n",
        "\n",
        "import sympy as sp\n",
        "\n",
        "# นิยามตัวแปรกระแสไฟฟ้า\n",
        "I1, I2 = sp.symbols('I1 I2')\n",
        "\n",
        "eq1 = sp.Eq(9*I1 - 4*I2, 20)\n",
        "eq2 = sp.Eq(4*I1 - 13*I2, -10)\n",
        "\n",
        "# แก้ระบบสมการ\n",
        "solution = sp.solve([eq1, eq2], [I1, I2])\n",
        "\n",
        "# แสดงผลลัพธ์\n",
        "print(\"=== ผลลัพธ์กระแสในวงจร ===\")\n",
        "print(f\"I1 = {float(solution[I1]):.2f} A\")\n",
        "print(f\"I2 = {float(solution[I2]):.2f} A\")\n"
      ],
      "metadata": {
        "colab": {
          "base_uri": "https://localhost:8080/"
        },
        "id": "dizQmpwJLxqQ",
        "outputId": "02aea106-211f-4e76-d0a0-a178a884bc68"
      },
      "execution_count": null,
      "outputs": [
        {
          "output_type": "stream",
          "name": "stdout",
          "text": [
            "=== ผลลัพธ์กระแสในวงจร ===\n",
            "I1 = 2.97 A\n",
            "I2 = 1.68 A\n"
          ]
        }
      ]
    },
    {
      "cell_type": "code",
      "source": [
        "#โจทย์ที่ 9 วิศวกรรมไฟฟ้า\n",
        "\n",
        "import sympy as sp\n",
        "\n",
        "I1, I2, I3 = sp.symbols('I1 I2 I3')\n",
        "\n",
        "eq1 = sp.Eq(9*I1 + 3*I2, 24)\n",
        "eq2 = sp.Eq(3*I1 + 7*I2, 12)\n",
        "eq3 = sp.Eq(I3 + I1 + I2, 0)\n",
        "\n",
        "solution = sp.solve([eq1, eq2, eq3], [I1, I2, I3])\n",
        "\n",
        "# แสดงผลลัพธ์\n",
        "print(\"=== คำตอบกระแสในวงจร ===\")\n",
        "print(f\"I1 = {float(solution[I1]):.4f} A\")\n",
        "print(f\"I2 = {float(solution[I2]):.4f} A\")\n",
        "print(f\"I3 = {float(solution[I3]):.4f} A\")\n"
      ],
      "metadata": {
        "colab": {
          "base_uri": "https://localhost:8080/"
        },
        "id": "lIInqI5GL5Bx",
        "outputId": "6d146dc9-5a33-4197-c869-8ef8952f30ba"
      },
      "execution_count": null,
      "outputs": [
        {
          "output_type": "stream",
          "name": "stdout",
          "text": [
            "=== คำตอบกระแสในวงจร ===\n",
            "I1 = 2.4444 A\n",
            "I2 = 0.6667 A\n",
            "I3 = -3.1111 A\n"
          ]
        }
      ]
    },
    {
      "cell_type": "code",
      "source": [
        "#โจทย์ที่ 10 วิศวกรรมอุตสาหการ\n",
        "\n",
        "import sympy as sp\n",
        "\n",
        "A_part, B_part, C_part = sp.symbols('A_part B_part C_part')\n",
        "\n",
        "eq1 = sp.Eq(2*A_part + 3*B_part + 1*C_part, 100)\n",
        "eq2 = sp.Eq(1*A_part + 2*B_part + 3*C_part, 80)\n",
        "eq3 = sp.Eq(500*A_part + 300*B_part + 200*C_part, 12000)\n",
        "\n",
        "solution = sp.solve([eq1, eq2, eq3], [A_part, B_part, C_part])\n",
        "\n",
        "# แสดงผลลัพธ์\n",
        "print(\"=== ผลลัพธ์การวางแผนการผลิต ===\")\n",
        "print(f\"จำนวนชิ้นส่วน A = {float(solution[A_part]):.2f}\")\n",
        "print(f\"จำนวนชิ้นส่วน B = {float(solution[B_part]):.2f}\")\n",
        "print(f\"จำนวนชิ้นส่วน C = {float(solution[C_part]):.2f}\")"
      ],
      "metadata": {
        "colab": {
          "base_uri": "https://localhost:8080/"
        },
        "id": "5dr9OChEMEs4",
        "outputId": "26cfd6e4-1add-4807-bcfd-bef70c5992d0"
      },
      "execution_count": null,
      "outputs": [
        {
          "output_type": "stream",
          "name": "stdout",
          "text": [
            "=== ผลลัพธ์การวางแผนการผลิต ===\n",
            "จำนวนชิ้นส่วน A = 4.55\n",
            "จำนวนชิ้นส่วน B = 28.18\n",
            "จำนวนชิ้นส่วน C = 6.36\n"
          ]
        }
      ]
    },
    {
      "cell_type": "code",
      "source": [
        "#โจทย์ที่ 11 วิศวกรรมอุตสาหการ\n",
        "\n",
        "import sympy as sp\n",
        "\n",
        "x, y, z = sp.symbols('x y z')\n",
        "\n",
        "eq1 = sp.Eq(3*x + 2*y + z, 50)\n",
        "eq2 = sp.Eq(x + 4*y + 2*z, 60)\n",
        "eq3 = sp.Eq(2*x + y + 3*z, 70)\n",
        "\n",
        "solution = sp.solve([eq1, eq2, eq3], (x, y, z))\n",
        "\n",
        "# แสดงผลลัพธ์\n",
        "print(\"=== ผลลัพธ์การแก้ระบบสมการเชิงเส้น ===\")\n",
        "print(f\"x = {float(solution[x]):.2f}\")\n",
        "print(f\"y = {float(solution[y]):.2f}\")\n",
        "print(f\"z = {float(solution[z]):.2f}\")\n"
      ],
      "metadata": {
        "id": "HEQZVuijMLtH",
        "outputId": "0d53a21d-ddf4-44ba-cdf1-b38c7a75e18d",
        "colab": {
          "base_uri": "https://localhost:8080/"
        }
      },
      "execution_count": null,
      "outputs": [
        {
          "output_type": "stream",
          "name": "stdout",
          "text": [
            "=== ผลลัพธ์การแก้ระบบสมการเชิงเส้น ===\n",
            "x = 8.00\n",
            "y = 4.80\n",
            "z = 16.40\n"
          ]
        }
      ]
    },
    {
      "cell_type": "code",
      "source": [
        "#โจทย์ที่ 12 วิศวกรรมอุตสาหการ\n",
        "\n",
        "import sympy as sp\n",
        "\n",
        "x, y, z = sp.symbols('x y z')\n",
        "\n",
        "eq1 = sp.Eq(x + y + z, 100)\n",
        "eq2 = sp.Eq(0.3*x + 0.5*y + 0.2*z, 35)\n",
        "eq3 = sp.Eq(10*x + 8*y + 12*z, 950)\n",
        "\n",
        "solution = sp.solve([eq1, eq2, eq3], (x, y, z))\n",
        "\n",
        "# แสดงผลลัพธ์\n",
        "print(\"=== ผลลัพธ์ปริมาณของสารเคมีแต่ละชนิด ===\")\n",
        "print(f\"สารเคมี A = {float(solution[x]):.1f}\")\n",
        "print(f\"สารเคมี B = {float(solution[y]):.1f}\")\n",
        "print(f\"สารเคมี C = {float(solution[z]):.1f}\")\n"
      ],
      "metadata": {
        "colab": {
          "base_uri": "https://localhost:8080/"
        },
        "id": "9litjW96fcw7",
        "outputId": "00a8c0b0-2e0a-4d06-95fa-b34a83e44aa6"
      },
      "execution_count": null,
      "outputs": [
        {
          "output_type": "stream",
          "name": "stdout",
          "text": [
            "=== ผลลัพธ์ปริมาณของสารเคมีแต่ละชนิด ===\n",
            "สารเคมี A = 75.0\n",
            "สารเคมี B = 25.0\n",
            "สารเคมี C = 0.0\n"
          ]
        }
      ]
    }
  ]
}