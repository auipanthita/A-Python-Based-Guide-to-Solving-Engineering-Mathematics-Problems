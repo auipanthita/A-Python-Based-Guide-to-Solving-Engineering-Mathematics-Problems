{
  "nbformat": 4,
  "nbformat_minor": 0,
  "metadata": {
    "colab": {
      "provenance": []
    },
    "kernelspec": {
      "name": "python3",
      "display_name": "Python 3"
    },
    "language_info": {
      "name": "python"
    }
  },
  "cells": [
    {
      "cell_type": "code",
      "execution_count": null,
      "metadata": {
        "id": "_zzrw8NQRJtH"
      },
      "outputs": [],
      "source": [
        "import numpy as np\n",
        "from IPython.display import display as dp\n",
        "#, Latex as lt\n",
        "\n",
        "import sympy as sp\n",
        "#sp.init_printing(use_latex=True)"
      ]
    },
    {
      "cell_type": "code",
      "source": [
        "import numpy as np\n",
        "from numpy import *"
      ],
      "metadata": {
        "id": "AoVwb2FcTLoi"
      },
      "execution_count": null,
      "outputs": []
    },
    {
      "cell_type": "code",
      "source": [
        "#ตัวอย่างที่ 5.1\n",
        "A = np.array([[2, 4, 6] , [1, 3, 5]])\n",
        "\n",
        "B = np.array([[7, 8, 9] , [1, 2, 3]])\n",
        "\n",
        "result = A+B\n",
        "\n",
        "print(\"ผลลัพธ์ของ A+B =\")\n",
        "print(result)"
      ],
      "metadata": {
        "colab": {
          "base_uri": "https://localhost:8080/"
        },
        "id": "c2AKDS8QRQPw",
        "outputId": "f7ace428-19f0-477d-fa1b-7c19787ac619"
      },
      "execution_count": null,
      "outputs": [
        {
          "output_type": "stream",
          "name": "stdout",
          "text": [
            "ผลลัพธ์ของ A+B =\n",
            "[[ 9 12 15]\n",
            " [ 2  5  8]]\n"
          ]
        }
      ]
    },
    {
      "cell_type": "code",
      "source": [
        "#ตัวอย่างที่ 5.2\n",
        "A = np.array([[9, 5, 7] , [3, 5, 6]])\n",
        "\n",
        "B = np.array([[5, 2, 7] , [4, 1, 4]])\n",
        "\n",
        "result = A - B\n",
        "\n",
        "print(\"ผลลัพธ์ของ A - B =\")\n",
        "print(result)"
      ],
      "metadata": {
        "colab": {
          "base_uri": "https://localhost:8080/"
        },
        "id": "M_vnzxR4RhmI",
        "outputId": "163e5de0-72b8-459e-aef9-b16258191d5a"
      },
      "execution_count": null,
      "outputs": [
        {
          "output_type": "stream",
          "name": "stdout",
          "text": [
            "ผลลัพธ์ของ A - B =\n",
            "[[ 4  3  0]\n",
            " [-1  4  2]]\n"
          ]
        }
      ]
    },
    {
      "cell_type": "code",
      "source": [
        "#ตัวอย่างที่ 5.3\n",
        "\n",
        "# กำหนดเมทริกซ์ A\n",
        "A = np.array([[1, 5],\n",
        "              [4, 2],\n",
        "              [3, 9]])\n",
        "\n",
        "# คูณเมทริกซ์ A ด้วย 2\n",
        "result = 2 * A\n",
        "\n",
        "# แสดงผลลัพธ์\n",
        "print(\"ผลลัพธ์ของ 2A =\")\n",
        "print(result)"
      ],
      "metadata": {
        "colab": {
          "base_uri": "https://localhost:8080/"
        },
        "id": "3XmbEk2yRj1O",
        "outputId": "a617f674-cfcf-4ed9-89de-ede9afc74526"
      },
      "execution_count": null,
      "outputs": [
        {
          "output_type": "stream",
          "name": "stdout",
          "text": [
            "ผลลัพธ์ของ 2A =\n",
            "[[ 2 10]\n",
            " [ 8  4]\n",
            " [ 6 18]]\n"
          ]
        }
      ]
    },
    {
      "cell_type": "code",
      "source": [
        "#ตัวอย่างที่ 5.4\n",
        "A = np.array([[1, 2],\n",
        "                    [4, 3]])\n",
        "\n",
        "B = np.array([[7, 8, 9],\n",
        "                    [3, 2, 1]])\n",
        "\n",
        "# คำนวณผลคูณเมทริกซ์ A x B\n",
        "AB = np.dot(A, B)\n",
        "\n",
        "# แสดงผลลัพธ์\n",
        "print(\"ผลลัพธ์ของ A x B =\")\n",
        "print(AB)\n"
      ],
      "metadata": {
        "colab": {
          "base_uri": "https://localhost:8080/"
        },
        "id": "T33w-KNtRl_2",
        "outputId": "3f1a3f00-929b-4362-857c-6356e979293f"
      },
      "execution_count": null,
      "outputs": [
        {
          "output_type": "stream",
          "name": "stdout",
          "text": [
            "ผลลัพธ์ของ A x B =\n",
            "[[13 12 11]\n",
            " [37 38 39]]\n"
          ]
        }
      ]
    },
    {
      "cell_type": "code",
      "source": [
        "#ตัวอย่างที่  5.5\n",
        "A = np.array([[2, -3], [5, 7], [4, 1]])\n",
        "A_T = A.T\n",
        "print(\"ทรานสโพสของเมทริกซ์ คือ\")\n",
        "print(A_T)\n"
      ],
      "metadata": {
        "colab": {
          "base_uri": "https://localhost:8080/"
        },
        "id": "dW42dSKIRoUd",
        "outputId": "13243352-d5da-4908-e428-583e76d03921"
      },
      "execution_count": null,
      "outputs": [
        {
          "output_type": "stream",
          "name": "stdout",
          "text": [
            "ทรานสโพสของเมทริกซ์ คือ\n",
            "[[ 2  5  4]\n",
            " [-3  7  1]]\n"
          ]
        }
      ]
    },
    {
      "cell_type": "code",
      "source": [
        "#ตัวอย่างที่ 5.6\n",
        "B = np.array([[1, 4, 7], [2, 5, 8], [3, 6, 9]])\n",
        "B_T = B.T\n",
        "print(\"ทรานสโพสของเมทริกซ์ คือ\")\n",
        "print(B_T)\n"
      ],
      "metadata": {
        "colab": {
          "base_uri": "https://localhost:8080/"
        },
        "id": "3Rm7Kl_rRrLb",
        "outputId": "1ac7eee3-b546-40ad-cbb5-6df351412b0e"
      },
      "execution_count": null,
      "outputs": [
        {
          "output_type": "stream",
          "name": "stdout",
          "text": [
            "ทรานสโพสของเมทริกซ์ คือ\n",
            "[[1 2 3]\n",
            " [4 5 6]\n",
            " [7 8 9]]\n"
          ]
        }
      ]
    },
    {
      "cell_type": "code",
      "source": [
        "#ตัวอย่างที่ 5.7\n",
        "\n",
        "A = np.array([[5, 6], [2, 3]])\n",
        "\n",
        "det_A = np.linalg.det(A)\n",
        "\n",
        "# ตรวจสอบว่า A มีอินเวอร์สหรือไม่\n",
        "if det_A != 0:\n",
        "    # ถ้า determinant ไม่เป็นศูนย์, หาอินเวอร์ส\n",
        "    A_inv = np.linalg.inv(A)\n",
        "    print(\"อินเวอร์สของเมทริกซ์ A คือ:\")\n",
        "    print(A_inv)\n",
        "else:\n",
        "    # ถ้า determinant เป็นศูนย์, ไม่มีอินเวอร์ส\n",
        "    print(\"เมทริกซ์นี้ไม่มีอินเวอร์ส (det = 0)\")\n"
      ],
      "metadata": {
        "colab": {
          "base_uri": "https://localhost:8080/"
        },
        "id": "esS10yRYRtEr",
        "outputId": "4fba99c1-8710-4778-fd73-b5770c586f59"
      },
      "execution_count": null,
      "outputs": [
        {
          "output_type": "stream",
          "name": "stdout",
          "text": [
            "อินเวอร์สของเมทริกซ์ A คือ:\n",
            "[[ 1.         -2.        ]\n",
            " [-0.66666667  1.66666667]]\n"
          ]
        }
      ]
    },
    {
      "cell_type": "code",
      "source": [
        "#ตัวอย่างที่ 5.8\n",
        "\n",
        "B = np.array([[12, 7], [5, 10]])\n",
        "\n",
        "det_B = np.linalg.det(B)\n",
        "\n",
        "# ตรวจสอบว่า A มีอินเวอร์สหรือไม่\n",
        "if det_B != 0:\n",
        "    # ถ้า determinant ไม่เป็นศูนย์, หาอินเวอร์ส\n",
        "    B_inv = np.linalg.inv(B)\n",
        "    print(\"อินเวอร์สของเมทริกซ์ B คือ:\")\n",
        "    print(B_inv)\n",
        "else:\n",
        "    # ถ้า determinant เป็นศูนย์, ไม่มีอินเวอร์ส\n",
        "    print(\"เมทริกซ์นี้ไม่มีอินเวอร์ส (det = 0)\")"
      ],
      "metadata": {
        "colab": {
          "base_uri": "https://localhost:8080/"
        },
        "id": "dstLG_w_RvUY",
        "outputId": "2624eabb-89eb-4383-bfc4-c545125a217b"
      },
      "execution_count": null,
      "outputs": [
        {
          "output_type": "stream",
          "name": "stdout",
          "text": [
            "อินเวอร์สของเมทริกซ์ B คือ:\n",
            "[[ 0.11764706 -0.08235294]\n",
            " [-0.05882353  0.14117647]]\n"
          ]
        }
      ]
    },
    {
      "cell_type": "code",
      "source": [
        "#ตัวอย่างโจทย์ที่ 1\n",
        "\n",
        "# กำหนดเมทริกซ์ A และ B\n",
        "A = np.array([[4, 8, 1],\n",
        "              [1, 2, 0],\n",
        "              [3, 5, 7]])\n",
        "\n",
        "B = np.array([[1, 0, 4],\n",
        "              [8, 3, 2],\n",
        "              [6, 5, 1]])\n",
        "\n",
        "# คำนวณ A + B, A - B, และ A * B\n",
        "sum_AB = A + B  # บวกเมทริกซ์\n",
        "diff_AB = A - B  # ลบเมทริกซ์\n",
        "product_AB = np.dot(A, B)  # คูณเมทริกซ์\n",
        "\n",
        "# แสดงผลลัพธ์\n",
        "print(\"ผลลัพธ์ของ A + B:\")\n",
        "print(sum_AB)\n",
        "\n",
        "print(\"\\nผลลัพธ์ของ A - B:\")\n",
        "print(diff_AB)\n",
        "\n",
        "print(\"\\nผลลัพธ์ของ A * B:\")\n",
        "print(product_AB)\n"
      ],
      "metadata": {
        "id": "bK7itJ3WRyes",
        "outputId": "a38516c0-7b06-4aee-931d-18994bf57f51",
        "colab": {
          "base_uri": "https://localhost:8080/"
        }
      },
      "execution_count": null,
      "outputs": [
        {
          "output_type": "stream",
          "name": "stdout",
          "text": [
            "ผลลัพธ์ของ A + B:\n",
            "[[ 5  8  5]\n",
            " [ 9  5  2]\n",
            " [ 9 10  8]]\n",
            "\n",
            "ผลลัพธ์ของ A - B:\n",
            "[[ 3  8 -3]\n",
            " [-7 -1 -2]\n",
            " [-3  0  6]]\n",
            "\n",
            "ผลลัพธ์ของ A * B:\n",
            "[[74 29 33]\n",
            " [17  6  8]\n",
            " [85 50 29]]\n"
          ]
        }
      ]
    },
    {
      "cell_type": "code",
      "source": [
        "#ตัวอย่างโจทย์ 2\n",
        "\n",
        "# กำหนดตัวแปร theta\n",
        "theta = sp.symbols('theta')\n",
        "\n",
        "# กำหนดเมทริกซ์ A และ B\n",
        "A = sp.Matrix([\n",
        "    [sp.sin(theta), sp.cos(theta)],\n",
        "    [-sp.cos(theta), sp.sin(theta)]\n",
        "])\n",
        "\n",
        "B = sp.Matrix([\n",
        "    [sp.tan(theta), sp.sec(theta)],\n",
        "    [sp.csc(theta), sp.cot(theta)]\n",
        "])\n",
        "\n",
        "# คำนวณผลลัพธ์\n",
        "C = A + B\n",
        "D = A - B\n",
        "E = A * B\n",
        "\n",
        "# แสดงผลลัพธ์\n",
        "print(\"A + B =\\n\")\n",
        "dp(C)\n",
        "print(\"\\n\\nA - B =\\n\")\n",
        "dp(D)\n",
        "print(\"\\n\\nA * B =\\n\")\n",
        "dp(E)"
      ],
      "metadata": {
        "id": "bMnvf2JDR0lS",
        "outputId": "1ef86b90-0ac6-4e4f-c9b6-ac6c5770eed6",
        "colab": {
          "base_uri": "https://localhost:8080/",
          "height": 312
        }
      },
      "execution_count": null,
      "outputs": [
        {
          "output_type": "stream",
          "name": "stdout",
          "text": [
            "A + B =\n",
            "\n"
          ]
        },
        {
          "output_type": "display_data",
          "data": {
            "text/plain": [
              "Matrix([\n",
              "[ sin(theta) + tan(theta), cos(theta) + sec(theta)],\n",
              "[-cos(theta) + csc(theta), sin(theta) + cot(theta)]])"
            ],
            "text/latex": "$\\displaystyle \\left[\\begin{matrix}\\sin{\\left(\\theta \\right)} + \\tan{\\left(\\theta \\right)} & \\cos{\\left(\\theta \\right)} + \\sec{\\left(\\theta \\right)}\\\\- \\cos{\\left(\\theta \\right)} + \\csc{\\left(\\theta \\right)} & \\sin{\\left(\\theta \\right)} + \\cot{\\left(\\theta \\right)}\\end{matrix}\\right]$"
          },
          "metadata": {}
        },
        {
          "output_type": "stream",
          "name": "stdout",
          "text": [
            "\n",
            "\n",
            "A - B =\n",
            "\n"
          ]
        },
        {
          "output_type": "display_data",
          "data": {
            "text/plain": [
              "Matrix([\n",
              "[ sin(theta) - tan(theta), cos(theta) - sec(theta)],\n",
              "[-cos(theta) - csc(theta), sin(theta) - cot(theta)]])"
            ],
            "text/latex": "$\\displaystyle \\left[\\begin{matrix}\\sin{\\left(\\theta \\right)} - \\tan{\\left(\\theta \\right)} & \\cos{\\left(\\theta \\right)} - \\sec{\\left(\\theta \\right)}\\\\- \\cos{\\left(\\theta \\right)} - \\csc{\\left(\\theta \\right)} & \\sin{\\left(\\theta \\right)} - \\cot{\\left(\\theta \\right)}\\end{matrix}\\right]$"
          },
          "metadata": {}
        },
        {
          "output_type": "stream",
          "name": "stdout",
          "text": [
            "\n",
            "\n",
            "A * B =\n",
            "\n"
          ]
        },
        {
          "output_type": "display_data",
          "data": {
            "text/plain": [
              "Matrix([\n",
              "[sin(theta)*tan(theta) + cos(theta)*csc(theta), sin(theta)*sec(theta) + cos(theta)*cot(theta)],\n",
              "[sin(theta)*csc(theta) - cos(theta)*tan(theta), sin(theta)*cot(theta) - cos(theta)*sec(theta)]])"
            ],
            "text/latex": "$\\displaystyle \\left[\\begin{matrix}\\sin{\\left(\\theta \\right)} \\tan{\\left(\\theta \\right)} + \\cos{\\left(\\theta \\right)} \\csc{\\left(\\theta \\right)} & \\sin{\\left(\\theta \\right)} \\sec{\\left(\\theta \\right)} + \\cos{\\left(\\theta \\right)} \\cot{\\left(\\theta \\right)}\\\\\\sin{\\left(\\theta \\right)} \\csc{\\left(\\theta \\right)} - \\cos{\\left(\\theta \\right)} \\tan{\\left(\\theta \\right)} & \\sin{\\left(\\theta \\right)} \\cot{\\left(\\theta \\right)} - \\cos{\\left(\\theta \\right)} \\sec{\\left(\\theta \\right)}\\end{matrix}\\right]$"
          },
          "metadata": {}
        }
      ]
    },
    {
      "cell_type": "code",
      "source": [
        "#ตัวอย่างที่ 5.9\n",
        "A = sp.Matrix([[3, 6],\n",
        "                     [4, 2]])\n",
        "print(\"det(A) =\", A.det())"
      ],
      "metadata": {
        "colab": {
          "base_uri": "https://localhost:8080/"
        },
        "id": "_MB6ApI3PxLk",
        "outputId": "00df12a0-2aaf-45d0-da0d-c4dddc2d7cac"
      },
      "execution_count": null,
      "outputs": [
        {
          "output_type": "stream",
          "name": "stdout",
          "text": [
            "det(A) = -18\n"
          ]
        }
      ]
    },
    {
      "cell_type": "code",
      "source": [
        "#ตัวอย่างที่ 5.10\n",
        "A = sp.Matrix([[0, 3, 5],\n",
        "               [2, 4, 6],\n",
        "               [3, 2, 0]])\n",
        "print(\"det(A) =\", A.det())"
      ],
      "metadata": {
        "colab": {
          "base_uri": "https://localhost:8080/"
        },
        "id": "CRkSngyWTjOQ",
        "outputId": "0dc69b03-1476-44cb-b90e-42c2d0a1aa15"
      },
      "execution_count": null,
      "outputs": [
        {
          "output_type": "stream",
          "name": "stdout",
          "text": [
            "det(A) = 14\n"
          ]
        }
      ]
    },
    {
      "cell_type": "code",
      "source": [
        "#ตัวอย่างที่ 5.11\n",
        "A = sp.Matrix([[2, 1, 4],\n",
        "               [3, 5, 7],\n",
        "               [6, 8, 9]])\n",
        "\n",
        "# ฟังก์ชันหาไมเนอร์ M_ij\n",
        "def minor(A, i, j):\n",
        "    return A.minor(i, j)   # i, j นับจาก 0 (index เริ่มที่ 0)\n",
        "\n",
        "# หาไมเนอร์ที่โจทย์กำหนด\n",
        "M11 = minor(A, 0, 0)   # a11\n",
        "M12 = minor(A, 0, 1)   # a12\n",
        "M23 = minor(A, 1, 2)   # a23\n",
        "\n",
        "print(\"M11 =\", M11)\n",
        "print(\"M12 =\", M12)\n",
        "print(\"M23 =\", M23)"
      ],
      "metadata": {
        "colab": {
          "base_uri": "https://localhost:8080/"
        },
        "id": "2xrWLa3-XKJs",
        "outputId": "b7a1cae6-fb58-4ef8-e8ef-27bd3def51e6"
      },
      "execution_count": null,
      "outputs": [
        {
          "output_type": "stream",
          "name": "stdout",
          "text": [
            "M11 = -11\n",
            "M12 = -15\n",
            "M23 = 10\n"
          ]
        }
      ]
    },
    {
      "cell_type": "code",
      "source": [
        "#ตัวอย่างที่ 5.12\n",
        "\n",
        "# ฟังก์ชันหาโคแฟกเตอร์\n",
        "def cofactor(A, i, j):\n",
        "    return (-1)**(i + j) * minor(A, i, j)\n",
        "\n",
        "# โคแฟกเตอร์ที่ต้องการ\n",
        "C11 = cofactor(A, 0, 0)\n",
        "C12 = cofactor(A, 0, 1)\n",
        "C23 = cofactor(A, 1, 2)\n",
        "\n",
        "print(\"C11 =\", C11)\n",
        "print(\"C12 =\", C12)\n",
        "print(\"C23 =\", C23)\n"
      ],
      "metadata": {
        "colab": {
          "base_uri": "https://localhost:8080/"
        },
        "id": "STHSDA0WdZdO",
        "outputId": "f3b30d16-44c4-44c6-d539-96551cdc3813"
      },
      "execution_count": null,
      "outputs": [
        {
          "output_type": "stream",
          "name": "stdout",
          "text": [
            "C11 = -11\n",
            "C12 = 15\n",
            "C23 = -10\n"
          ]
        }
      ]
    },
    {
      "cell_type": "code",
      "source": [
        "#ตัวอย่างที่ 5.13\n",
        "A = sp.Matrix([[2, 1, 4],\n",
        "               [3, 5, 7],\n",
        "               [6, 8, 9]])\n",
        "\n",
        "# ขยาย determinant ตามแถวแรก\n",
        "det_A = sum(A[0, j] * (-1)**(0+j) * A.minor(0, j) for j in range(A.cols))\n",
        "\n",
        "print(\"det(A) =\", det_A)\n"
      ],
      "metadata": {
        "colab": {
          "base_uri": "https://localhost:8080/"
        },
        "id": "Nlc5x9wQOtUu",
        "outputId": "35df39a5-1780-40d6-8b23-2f324b518d97"
      },
      "execution_count": null,
      "outputs": [
        {
          "output_type": "stream",
          "name": "stdout",
          "text": [
            "det(A) = -31\n"
          ]
        }
      ]
    },
    {
      "cell_type": "code",
      "source": [
        "#ตัวอย่างที่ 5.14\n",
        "\n",
        "A = np.array([[1, 2, 3],\n",
        "              [2, 1, 1],\n",
        "              [3, 2, 1]])\n",
        "\n",
        "b = np.array([14, 10, 14])\n",
        "\n",
        "X = np.linalg.solve(A, b)\n",
        "print(X)"
      ],
      "metadata": {
        "id": "kLaKTt6HguIs",
        "outputId": "d4626086-d70a-4327-8db7-3f57e242e38d",
        "colab": {
          "base_uri": "https://localhost:8080/"
        }
      },
      "execution_count": null,
      "outputs": [
        {
          "output_type": "stream",
          "name": "stdout",
          "text": [
            "[3. 1. 3.]\n"
          ]
        }
      ]
    }
  ]
}