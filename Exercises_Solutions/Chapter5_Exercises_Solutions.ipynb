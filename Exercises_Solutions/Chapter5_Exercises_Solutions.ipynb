{
  "nbformat": 4,
  "nbformat_minor": 0,
  "metadata": {
    "colab": {
      "provenance": []
    },
    "kernelspec": {
      "name": "python3",
      "display_name": "Python 3"
    },
    "language_info": {
      "name": "python"
    }
  },
  "cells": [
    {
      "cell_type": "code",
      "execution_count": null,
      "metadata": {
        "id": "A4nKUYGuR9dn"
      },
      "outputs": [],
      "source": [
        "import numpy as np\n",
        "from IPython.display import display as dp\n",
        "#, Latex as lt\n",
        "\n",
        "import sympy as sp\n",
        "#sp.init_printing(use_latex=True)"
      ]
    },
    {
      "cell_type": "code",
      "source": [
        "#เฉลยแบบฝึกหัดที่ 5.1.1\n",
        "G = np.array([[56, 32], [28, 74]])\n",
        "\n",
        "G_T = G.T\n",
        "print(\"ทรานสโพสของ G คือ\")\n",
        "print(G_T)"
      ],
      "metadata": {
        "colab": {
          "base_uri": "https://localhost:8080/"
        },
        "id": "1qLx9JpPSE1l",
        "outputId": "2911235d-d472-492c-8dd0-b4ddbe03948c"
      },
      "execution_count": null,
      "outputs": [
        {
          "output_type": "stream",
          "name": "stdout",
          "text": [
            "ทรานสโพสของ G คือ\n",
            "[[56 28]\n",
            " [32 74]]\n"
          ]
        }
      ]
    },
    {
      "cell_type": "code",
      "source": [
        "#เฉลยแบบฝึกหัดที่ 5.1.2\n",
        "A = np.array([[23, 45], [67, 89]])\n",
        "B = np.array([[34, 12], [56, 78]])\n",
        "C = np.array([[10, 25], [30, 40]])\n",
        "\n",
        "# คำนวณ (A + B) - C\n",
        "result1 = (A + B) - C\n",
        "\n",
        "# คูณ (A + B - C) กับ A\n",
        "result2 = np.dot(result1, A)\n",
        "\n",
        "print(\"(A + B) - C =\\n\")\n",
        "print(result1)\n",
        "print(\"\\n((A + B) - C) * A =\\n\")\n",
        "print(result2)"
      ],
      "metadata": {
        "colab": {
          "base_uri": "https://localhost:8080/"
        },
        "id": "JNPCVT5qSPrd",
        "outputId": "9ec5cc53-2a0e-4a27-9dea-c007fde011fa"
      },
      "execution_count": null,
      "outputs": [
        {
          "output_type": "stream",
          "name": "stdout",
          "text": [
            "(A + B) - C =\n",
            "\n",
            "[[ 47  32]\n",
            " [ 93 127]]\n",
            "\n",
            "((A + B) - C) * A =\n",
            "\n",
            "[[ 3225  4963]\n",
            " [10648 15488]]\n"
          ]
        }
      ]
    },
    {
      "cell_type": "code",
      "source": [
        "#เฉลยแบบฝึกหัดที่ 5.1.3\n",
        "H = np.array([[17, 39], [50, 28]])\n",
        "I = np.array([[64, 21], [12, 56]])\n",
        "\n",
        "J = np.dot(H, I)\n",
        "J_T = J.T\n",
        "\n",
        "print(\"H * I =\\n\", J)\n",
        "print(\"\\nทรานสโพสของ H * I =\\n\", J_T)\n"
      ],
      "metadata": {
        "colab": {
          "base_uri": "https://localhost:8080/"
        },
        "id": "2HZx0cQrSQ9P",
        "outputId": "9b3863b1-c58b-462d-cde0-a9c8b96bb608"
      },
      "execution_count": null,
      "outputs": [
        {
          "output_type": "stream",
          "name": "stdout",
          "text": [
            "H * I =\n",
            " [[1556 2541]\n",
            " [3536 2618]]\n",
            "\n",
            "ทรานสโพสของ H * I =\n",
            " [[1556 3536]\n",
            " [2541 2618]]\n"
          ]
        }
      ]
    },
    {
      "cell_type": "code",
      "source": [
        "#เฉลยแบบฝึกหัดที่ 5.1.4\n",
        "J = np.array([[21, 56], [13, 39]])\n",
        "K = np.array([[14, 28], [17, 52]])\n",
        "\n",
        "# หาทรานสโพสของ J และ K\n",
        "J_T = J.T\n",
        "K_T = K.T\n",
        "\n",
        "# คูณทรานสโพส\n",
        "L = np.dot(J_T, K_T)\n",
        "\n",
        "print(\"\\nทรานสโพสของ J =\\n\", J_T)\n",
        "print(\"\\nทรานสโพสของ K =\\n\", K_T)\n",
        "print(\"\\nทรานสโพส J * ทรานสโพส K =\\n\", L)"
      ],
      "metadata": {
        "colab": {
          "base_uri": "https://localhost:8080/"
        },
        "id": "igPtdF44SUvI",
        "outputId": "8c3081d8-38a6-40c9-b326-7d5355d2d3ec"
      },
      "execution_count": null,
      "outputs": [
        {
          "output_type": "stream",
          "name": "stdout",
          "text": [
            "\n",
            "ทรานสโพสของ J =\n",
            " [[21 13]\n",
            " [56 39]]\n",
            "\n",
            "ทรานสโพสของ K =\n",
            " [[14 17]\n",
            " [28 52]]\n",
            "\n",
            "ทรานสโพส J * ทรานสโพส K =\n",
            " [[ 658 1033]\n",
            " [1876 2980]]\n"
          ]
        }
      ]
    },
    {
      "cell_type": "code",
      "source": [
        "#เฉลยแบบฝึกหัดที่ 5.1.5\n",
        "M = np.array([[6, 3], [4, 5]])\n",
        "N = np.array([[7, 2], [1, 9]])\n",
        "\n",
        "# ตรวจสอบอินเวอร์ส\n",
        "if np.linalg.det(M) != 0:\n",
        "    M_inv = np.linalg.inv(M)\n",
        "    MN = np.dot(M_inv, N)\n",
        "    print(\"M^-1 × N =\\n\", MN)\n",
        "else:\n",
        "    print(\"M ไม่มีอินเวอร์ส\")\n"
      ],
      "metadata": {
        "colab": {
          "base_uri": "https://localhost:8080/"
        },
        "id": "zWlAstqMeYh3",
        "outputId": "6849a0a8-1910-49d6-c2c6-34f4d5a5e479"
      },
      "execution_count": null,
      "outputs": [
        {
          "output_type": "stream",
          "name": "stdout",
          "text": [
            "M^-1 × N =\n",
            " [[ 1.77777778 -0.94444444]\n",
            " [-1.22222222  2.55555556]]\n"
          ]
        }
      ]
    },
    {
      "cell_type": "code",
      "source": [
        "#เฉลยแบบฝึกหัดที่ 5.2.1\n",
        "A = sp.Matrix([[72, 19],\n",
        "                     [44, 85]])\n",
        "print(\"det(A) =\", A.det())"
      ],
      "metadata": {
        "colab": {
          "base_uri": "https://localhost:8080/"
        },
        "id": "R_zbJo9KoDg2",
        "outputId": "ad9fd818-7c34-4260-8d40-0cadac29dcf2"
      },
      "execution_count": null,
      "outputs": [
        {
          "output_type": "stream",
          "name": "stdout",
          "text": [
            "det(A) = 5284\n"
          ]
        }
      ]
    },
    {
      "cell_type": "code",
      "source": [
        "#เฉลยแบบฝึกหัดที่ 5.2.2\n",
        "B = sp.Matrix([[95, 38],\n",
        "                     [64, 27]])\n",
        "print(\"det(B) =\", B.det())"
      ],
      "metadata": {
        "colab": {
          "base_uri": "https://localhost:8080/"
        },
        "id": "2Tpbduueoyot",
        "outputId": "350239f5-3b7f-47ed-991e-cb85c256023c"
      },
      "execution_count": null,
      "outputs": [
        {
          "output_type": "stream",
          "name": "stdout",
          "text": [
            "det(B) = 133\n"
          ]
        }
      ]
    },
    {
      "cell_type": "code",
      "source": [
        "#เฉลยแบบฝึกหัดที่ 5.2.3\n",
        "C = sp.Matrix([[45, 78, 92],\n",
        "                     [63, 12, 88],\n",
        "                     [90, 34, 56]])\n",
        "print(\"det(C) =\", C.det())"
      ],
      "metadata": {
        "colab": {
          "base_uri": "https://localhost:8080/"
        },
        "id": "FfSJGk-opArN",
        "outputId": "b3959531-1f4f-4543-c281-4797960c34d7"
      },
      "execution_count": null,
      "outputs": [
        {
          "output_type": "stream",
          "name": "stdout",
          "text": [
            "det(C) = 335880\n"
          ]
        }
      ]
    },
    {
      "cell_type": "code",
      "source": [
        "#เฉลยแบบฝึกหัดที่ 5.2.4\n",
        "D = sp.Matrix([[89, 23, 47],\n",
        "                     [56, 71, 64],\n",
        "                     [12, 85, 33]])\n",
        "print(\"det(D) =\", D.det())"
      ],
      "metadata": {
        "colab": {
          "base_uri": "https://localhost:8080/"
        },
        "id": "cUwh4rT3pLo8",
        "outputId": "44121ca9-215b-4c25-8e71-03b4846e91aa"
      },
      "execution_count": null,
      "outputs": [
        {
          "output_type": "stream",
          "name": "stdout",
          "text": [
            "det(D) = -116797\n"
          ]
        }
      ]
    },
    {
      "cell_type": "code",
      "source": [
        "#เฉลยแบบฝึกหัดที่ 5.2.5\n",
        "E = sp.Matrix([[67, 94, 58],\n",
        "                     [42, 81, 29],\n",
        "                     [75, 36, 18]])\n",
        "print(\"det(E) =\", E.det())"
      ],
      "metadata": {
        "colab": {
          "base_uri": "https://localhost:8080/"
        },
        "id": "QoasrARvpS8N",
        "outputId": "578884ec-9322-480f-e99f-b34addd72313"
      },
      "execution_count": null,
      "outputs": [
        {
          "output_type": "stream",
          "name": "stdout",
          "text": [
            "det(E) = -103530\n"
          ]
        }
      ]
    },
    {
      "cell_type": "code",
      "source": [
        "#เฉลยแบบฝึกหัดที่ 5.3.1\n",
        "A = sp.Matrix([[4, 7, 2],\n",
        "               [5, 9, 6],\n",
        "               [3, 8, 1]])\n",
        "\n",
        "# ฟังก์ชันหาไมเนอร์ M_ij\n",
        "def minor(A, i, j):\n",
        "    return A.minor(i, j)   # i, j นับจาก 0 (index เริ่มที่ 0)\n",
        "# ฟังก์ชันหาโคแฟกเตอร์\n",
        "def cofactor(A, i, j):\n",
        "    return (-1)**(i + j) * minor(A, i, j)\n",
        "\n",
        "# หาไมเนอร์ที่โจทย์กำหนด\n",
        "M11 = minor(A, 0, 0)\n",
        "M12 = minor(A, 0, 1)\n",
        "M23 = minor(A, 1, 2)\n",
        "\n",
        "# โคแฟกเตอร์ที่ต้องการ\n",
        "C11 = cofactor(A, 0, 0)\n",
        "C12 = cofactor(A, 0, 1)\n",
        "C23 = cofactor(A, 1, 2)\n",
        "\n",
        "print(\"M11 =\", M11)\n",
        "print(\"M12 =\", M12)\n",
        "print(\"M23 =\", M23)\n",
        "\n",
        "print(\"\\nC11 =\", C11)\n",
        "print(\"C12 =\", C12)\n",
        "print(\"C23 =\", C23)"
      ],
      "metadata": {
        "colab": {
          "base_uri": "https://localhost:8080/"
        },
        "id": "BjBxg5GHOzAr",
        "outputId": "635981aa-972e-4497-cce9-9b6e5d204a61"
      },
      "execution_count": null,
      "outputs": [
        {
          "output_type": "stream",
          "name": "stdout",
          "text": [
            "M11 = -39\n",
            "M12 = -13\n",
            "M23 = 11\n",
            "\n",
            "C11 = -39\n",
            "C12 = 13\n",
            "C23 = -11\n"
          ]
        }
      ]
    },
    {
      "cell_type": "code",
      "source": [
        "#เฉลยแบบฝึกหัดที่ 5.3.2\n",
        "A = sp.Matrix([[10, 12, 15],\n",
        "               [20, 25, 30],\n",
        "               [35, 40, 45]])\n",
        "\n",
        "# หาไมเนอร์ที่โจทย์กำหนด\n",
        "M21 = minor(A, 1, 0)\n",
        "M22 = minor(A, 1, 1)\n",
        "M13 = minor(A, 0, 2)\n",
        "\n",
        "# โคแฟกเตอร์ที่ต้องการ\n",
        "C21 = cofactor(A, 1, 0)\n",
        "C22 = cofactor(A, 1, 1)\n",
        "C13 = cofactor(A, 0, 2)\n",
        "\n",
        "print(\"M21 =\", M21)\n",
        "print(\"M22 =\", M22)\n",
        "print(\"M13 =\", M13)\n",
        "\n",
        "print(\"\\nC21 =\", C21)\n",
        "print(\"C22 =\", C22)\n",
        "print(\"C13 =\", C13)"
      ],
      "metadata": {
        "colab": {
          "base_uri": "https://localhost:8080/"
        },
        "id": "PRyPougJPqW6",
        "outputId": "c41b8ec3-77a3-4e5e-8e05-cb8b22583365"
      },
      "execution_count": null,
      "outputs": [
        {
          "output_type": "stream",
          "name": "stdout",
          "text": [
            "M21 = -60\n",
            "M22 = -75\n",
            "M13 = -75\n",
            "\n",
            "C21 = 60\n",
            "C22 = -75\n",
            "C13 = -75\n"
          ]
        }
      ]
    },
    {
      "cell_type": "code",
      "source": [
        "#เฉลยแบบฝึกหัดที่ 5.3.3\n",
        "A = sp.Matrix([[18, 22, 30],\n",
        "               [12, 28, 36],\n",
        "               [40, 50, 60]])\n",
        "\n",
        "# หาไมเนอร์ที่โจทย์กำหนด\n",
        "M31 = minor(A, 2, 0)\n",
        "M32 = minor(A, 2, 1)\n",
        "M12 = minor(A, 0, 1)\n",
        "\n",
        "# โคแฟกเตอร์ที่ต้องการ\n",
        "C31 = cofactor(A, 2, 0)\n",
        "C32 = cofactor(A, 2, 1)\n",
        "C12 = cofactor(A, 0, 1)\n",
        "\n",
        "print(\"M31 =\", M31)\n",
        "print(\"M32 =\", M32)\n",
        "print(\"M12 =\", M12)\n",
        "\n",
        "print(\"\\nC31 =\", C31)\n",
        "print(\"C32 =\", C32)\n",
        "print(\"C12 =\", C12)"
      ],
      "metadata": {
        "colab": {
          "base_uri": "https://localhost:8080/"
        },
        "id": "2jbkC9F2QQqB",
        "outputId": "7c0f649a-c6a4-4f5e-f344-19e51aaa8109"
      },
      "execution_count": null,
      "outputs": [
        {
          "output_type": "stream",
          "name": "stdout",
          "text": [
            "M31 = -48\n",
            "M32 = 288\n",
            "M12 = -720\n",
            "\n",
            "C31 = -48\n",
            "C32 = -288\n",
            "C12 = 720\n"
          ]
        }
      ]
    },
    {
      "cell_type": "code",
      "source": [
        "#เฉลยแบบฝึกหัดที่ 5.4.1\n",
        "A = np.array([[2, -1, 1],\n",
        "              [1, 3, 2],\n",
        "              [3, 2, -2]])\n",
        "\n",
        "b = np.array([2, 3, 10])\n",
        "\n",
        "X = np.linalg.solve(A, b)\n",
        "print(X)"
      ],
      "metadata": {
        "colab": {
          "base_uri": "https://localhost:8080/"
        },
        "id": "BgTmA0A5sCxQ",
        "outputId": "a6305bcd-1c06-4230-c15d-a3aab64c37fb"
      },
      "execution_count": null,
      "outputs": [
        {
          "output_type": "stream",
          "name": "stdout",
          "text": [
            "[ 2.  1. -1.]\n"
          ]
        }
      ]
    },
    {
      "cell_type": "code",
      "source": [
        "#เฉลยแบบฝึกหัดที่ 5.4.2\n",
        "A = np.array([[4, 1, 2],\n",
        "              [0, 3, 1],\n",
        "              [2, 5, 2]])\n",
        "\n",
        "b = np.array([12, 9, 18])\n",
        "\n",
        "X = np.linalg.solve(A, b)\n",
        "print(X)"
      ],
      "metadata": {
        "colab": {
          "base_uri": "https://localhost:8080/"
        },
        "id": "vYUSGBK1sfqZ",
        "outputId": "eea96b3d-b1a7-48e6-c78f-92158a0ff551"
      },
      "execution_count": null,
      "outputs": [
        {
          "output_type": "stream",
          "name": "stdout",
          "text": [
            "[1. 2. 3.]\n"
          ]
        }
      ]
    },
    {
      "cell_type": "code",
      "source": [
        "#เฉลยแบบฝึกหัดที่ 5.4.3\n",
        "A = np.array([[3, 1, 2],\n",
        "              [1, 4, -1],\n",
        "              [2, 0, 5]])\n",
        "\n",
        "b = np.array([13, -6, 24])\n",
        "\n",
        "X = np.linalg.solve(A, b)\n",
        "print(X)"
      ],
      "metadata": {
        "colab": {
          "base_uri": "https://localhost:8080/"
        },
        "id": "pJZtr33usrI4",
        "outputId": "e6a61e8d-65bf-49ab-a8b7-7a7a456121b1"
      },
      "execution_count": null,
      "outputs": [
        {
          "output_type": "stream",
          "name": "stdout",
          "text": [
            "[ 2. -1.  4.]\n"
          ]
        }
      ]
    },
    {
      "cell_type": "code",
      "source": [
        "#เฉลยแบบฝึกหัดที่ 5.4.4\n",
        "A = np.array([[2, 3, 1],\n",
        "              [1, -2, 4],\n",
        "              [5, 1, 3]])\n",
        "\n",
        "b = np.array([11, 9, 16])\n",
        "\n",
        "X = np.linalg.solve(A, b)\n",
        "print(X)"
      ],
      "metadata": {
        "colab": {
          "base_uri": "https://localhost:8080/"
        },
        "id": "4TaULoWFs3XQ",
        "outputId": "4242ec48-2f18-488d-9d53-2e7c0d802b12"
      },
      "execution_count": null,
      "outputs": [
        {
          "output_type": "stream",
          "name": "stdout",
          "text": [
            "[1. 2. 3.]\n"
          ]
        }
      ]
    },
    {
      "cell_type": "code",
      "source": [
        "#เฉลยแบบฝึกหัดที่ 5.4.5\n",
        "A = np.array([[2, 1, 0],\n",
        "              [1, 3, 1],\n",
        "              [4, -1, 2]])\n",
        "\n",
        "b = np.array([8, 10, 12])\n",
        "\n",
        "X = np.linalg.solve(A, b)\n",
        "print(X)"
      ],
      "metadata": {
        "colab": {
          "base_uri": "https://localhost:8080/"
        },
        "id": "eK_GD-xivt0m",
        "outputId": "0b58c762-6865-4cc6-adea-438c8ec1835a"
      },
      "execution_count": null,
      "outputs": [
        {
          "output_type": "stream",
          "name": "stdout",
          "text": [
            "[3. 2. 1.]\n"
          ]
        }
      ]
    }
  ]
}