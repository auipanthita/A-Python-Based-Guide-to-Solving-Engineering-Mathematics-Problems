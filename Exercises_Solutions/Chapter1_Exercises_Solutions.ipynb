{
  "nbformat": 4,
  "nbformat_minor": 0,
  "metadata": {
    "colab": {
      "provenance": []
    },
    "kernelspec": {
      "name": "python3",
      "display_name": "Python 3"
    },
    "language_info": {
      "name": "python"
    }
  },
  "cells": [
    {
      "cell_type": "code",
      "execution_count": null,
      "metadata": {
        "colab": {
          "base_uri": "https://localhost:8080/"
        },
        "id": "TlH-OCjRczIt",
        "outputId": "bc28f280-cc64-4754-e589-c6bf0db5f5c5"
      },
      "outputs": [
        {
          "output_type": "stream",
          "name": "stdout",
          "text": [
            "สวัสดี! นี่คือโค้ดแรกของฉันใน Colab\n",
            "วันนี้เป็นวันที่ดี\n"
          ]
        }
      ],
      "source": [
        "#เฉลยแบบฝึกหัดที่ 1.2 เซลล์ที่ 1\n",
        "\n",
        "print(\"สวัสดี! นี่คือโค้ดแรกของฉันใน Colab\")\n",
        "print(\"วันนี้เป็นวันที่ดี\")"
      ]
    },
    {
      "cell_type": "code",
      "source": [
        "#เฉลยแบบฝึกหัดที่ 1.2 เซลล์ที่ 2\n",
        "\n",
        "# การบวกลบคูณหาร\n",
        "a = 10\n",
        "b = 3\n",
        "print(\"a + b =\", a + b)\n",
        "print(\"a - b =\", a - b)\n",
        "print(\"a * b =\", a * b)\n",
        "print(\"a / b =\", a / b)"
      ],
      "metadata": {
        "colab": {
          "base_uri": "https://localhost:8080/"
        },
        "id": "pjEN-6qvc7kU",
        "outputId": "bdc12a25-17b3-41b7-debf-5bdc3932f618"
      },
      "execution_count": null,
      "outputs": [
        {
          "output_type": "stream",
          "name": "stdout",
          "text": [
            "a + b = 13\n",
            "a - b = 7\n",
            "a * b = 30\n",
            "a / b = 3.3333333333333335\n"
          ]
        }
      ]
    },
    {
      "cell_type": "code",
      "source": [
        "#เฉลยแบบฝึกหัดที่ 1.2 เซลล์ที่ 3\n",
        "\n",
        "# คำนวณ 2 ยกกำลัง 8\n",
        "ผลลัพธ์ = 2 ** 8\n",
        "print(\"2 ยกกำลัง 8 เท่ากับ\", ผลลัพธ์)\n",
        "\n",
        "# คำนวณ 5 ยกกำลัง 3\n",
        "print(\"5 ยกกำลัง 3 เท่ากับ\", 5 ** 3)"
      ],
      "metadata": {
        "colab": {
          "base_uri": "https://localhost:8080/"
        },
        "id": "CkIupnOcdKAp",
        "outputId": "dbbbd0d8-8bbd-47ed-bd7f-e52767f2ff63"
      },
      "execution_count": null,
      "outputs": [
        {
          "output_type": "stream",
          "name": "stdout",
          "text": [
            "2 ยกกำลัง 8 เท่ากับ 256\n",
            "5 ยกกำลัง 3 เท่ากับ 125\n"
          ]
        }
      ]
    },
    {
      "cell_type": "code",
      "source": [
        "#เฉลยแบบฝึกหัดที่ 1.2 เซลล์ที่ 4\n",
        "\n",
        "ชื่อ = \"นางสาวหนึ่ง สองสาม\"\n",
        "อายุ = 20\n",
        "ส่วนสูง = 165\n",
        "\n",
        "print(\"ฉันชื่อ\", ชื่อ)\n",
        "print(\"อายุ\", อายุ, \"ปี\")\n",
        "print(\"ส่วนสูง\", ส่วนสูง, \"เซนติเมตร\")"
      ],
      "metadata": {
        "colab": {
          "base_uri": "https://localhost:8080/"
        },
        "id": "qf0UnmMvdN88",
        "outputId": "e2da7ba1-391a-463a-c8f4-1254852eedf1"
      },
      "execution_count": null,
      "outputs": [
        {
          "output_type": "stream",
          "name": "stdout",
          "text": [
            "ฉันชื่อ นางสาวหนึ่ง สองสาม\n",
            "อายุ 20 ปี\n",
            "ส่วนสูง 165 เซนติเมตร\n"
          ]
        }
      ]
    },
    {
      "cell_type": "code",
      "source": [
        "#เฉลยแบบฝึกหัดที่ 1.2 เซลล์ที่ 5\n",
        "\n",
        "ความยาว = 12\n",
        "ความกว้าง = 8\n",
        "พื้นที่ = ความยาว * ความกว้าง\n",
        "\n",
        "print(\"สี่เหลี่ยมที่มีความยาว\", ความยาว, \"และความกว้าง\", ความกว้าง)\n",
        "print(\"มีพื้นที่เท่ากับ\", พื้นที่, \"ตารางหน่วย\")"
      ],
      "metadata": {
        "colab": {
          "base_uri": "https://localhost:8080/"
        },
        "id": "81-haLbldStB",
        "outputId": "34715da9-8fed-4279-ef76-8e367fdf465c"
      },
      "execution_count": null,
      "outputs": [
        {
          "output_type": "stream",
          "name": "stdout",
          "text": [
            "สี่เหลี่ยมที่มีความยาว 12 และความกว้าง 8\n",
            "มีพื้นที่เท่ากับ 96 ตารางหน่วย\n"
          ]
        }
      ]
    }
  ]
}