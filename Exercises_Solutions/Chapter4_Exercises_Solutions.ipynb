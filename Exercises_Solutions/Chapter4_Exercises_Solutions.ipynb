{
  "nbformat": 4,
  "nbformat_minor": 0,
  "metadata": {
    "colab": {
      "provenance": []
    },
    "kernelspec": {
      "name": "python3",
      "display_name": "Python 3"
    },
    "language_info": {
      "name": "python"
    }
  },
  "cells": [
    {
      "cell_type": "code",
      "execution_count": null,
      "metadata": {
        "colab": {
          "base_uri": "https://localhost:8080/",
          "height": 81
        },
        "id": "gfqZqq4ixS2W",
        "outputId": "75aefd13-5c71-465a-baca-9cf5f7dc215b"
      },
      "outputs": [
        {
          "output_type": "display_data",
          "data": {
            "text/plain": [
              "<IPython.core.display.Latex object>"
            ],
            "text/latex": "\\text{เฉลยแบบฝึกหัดข้อ 4.1.1}"
          },
          "metadata": {}
        },
        {
          "output_type": "display_data",
          "data": {
            "text/plain": [
              "<IPython.core.display.Latex object>"
            ],
            "text/latex": "\\text{สมการฟังก์ชัน } f(x) = 3 x^{2} - 5 x + \\log{\\left(x \\right)}"
          },
          "metadata": {}
        },
        {
          "output_type": "display_data",
          "data": {
            "text/plain": [
              "<IPython.core.display.Latex object>"
            ],
            "text/latex": "\\text{อนุพันธ์ }  f'(x) = 6 x - 5 + \\frac{1}{x}"
          },
          "metadata": {}
        }
      ],
      "source": [
        "import sympy as sp\n",
        "from IPython.display import display as dp, Latex as lt\n",
        "sp.init_printing(use_latex='matplotlib')\n",
        "\n",
        "x = sp.symbols('x')\n",
        "f = 3*x**2 - 5*x + sp.ln(x)\n",
        "\n",
        "y = sp.diff(f, x)\n",
        "\n",
        "dp(lt(r\"\\text{เฉลยแบบฝึกหัดข้อ 4.1.1}\"))\n",
        "dp(lt(r\"\\text{สมการฟังก์ชัน } f(x) = \" + sp.latex(f)))\n",
        "dp(lt(r\"\\text{อนุพันธ์ }  f'(x) = \" + sp.latex(y)))"
      ]
    },
    {
      "cell_type": "code",
      "source": [
        "f = x**3 * sp.sin(x)\n",
        "\n",
        "y = sp.diff(f, x)\n",
        "\n",
        "dp(lt(r\"\\text{เฉลยแบบฝึกหัดข้อ 4.1.2}\"))\n",
        "dp(lt(r\"\\text{สมการฟังก์ชัน } f(x) = \" + sp.latex(f)))\n",
        "dp(lt(r\"\\text{อนุพันธ์ }  f'(x) = \" + sp.latex(y)))"
      ],
      "metadata": {
        "colab": {
          "base_uri": "https://localhost:8080/",
          "height": 81
        },
        "id": "mUe-r8wLzBeN",
        "outputId": "fe2bc60f-459c-4307-909f-e376b429e9ad"
      },
      "execution_count": null,
      "outputs": [
        {
          "output_type": "display_data",
          "data": {
            "text/plain": [
              "<IPython.core.display.Latex object>"
            ],
            "text/latex": "\\text{เฉลยแบบฝึกหัดข้อ 4.1.2}"
          },
          "metadata": {}
        },
        {
          "output_type": "display_data",
          "data": {
            "text/plain": [
              "<IPython.core.display.Latex object>"
            ],
            "text/latex": "\\text{สมการฟังก์ชัน } f(x) = x^{3} \\sin{\\left(x \\right)}"
          },
          "metadata": {}
        },
        {
          "output_type": "display_data",
          "data": {
            "text/plain": [
              "<IPython.core.display.Latex object>"
            ],
            "text/latex": "\\text{อนุพันธ์ }  f'(x) = x^{3} \\cos{\\left(x \\right)} + 3 x^{2} \\sin{\\left(x \\right)}"
          },
          "metadata": {}
        }
      ]
    },
    {
      "cell_type": "code",
      "source": [
        "f = sp.exp(2*x) * sp.cos(x)\n",
        "\n",
        "y = sp.diff(f, x)\n",
        "\n",
        "dp(lt(r\"\\text{เฉลยแบบฝึกหัดข้อ 4.1.3}\"))\n",
        "dp(lt(r\"\\text{สมการฟังก์ชัน } f(x) = \" + sp.latex(f)))\n",
        "dp(lt(r\"\\text{อนุพันธ์ }  f'(x) = \" + sp.latex(y)))"
      ],
      "metadata": {
        "colab": {
          "base_uri": "https://localhost:8080/",
          "height": 81
        },
        "id": "uWpNPWPrzOfv",
        "outputId": "541daa6d-3407-4bba-fd46-54052cda5e10"
      },
      "execution_count": null,
      "outputs": [
        {
          "output_type": "display_data",
          "data": {
            "text/plain": [
              "<IPython.core.display.Latex object>"
            ],
            "text/latex": "\\text{เฉลยแบบฝึกหัดข้อ 4.1.3}"
          },
          "metadata": {}
        },
        {
          "output_type": "display_data",
          "data": {
            "text/plain": [
              "<IPython.core.display.Latex object>"
            ],
            "text/latex": "\\text{สมการฟังก์ชัน } f(x) = e^{2 x} \\cos{\\left(x \\right)}"
          },
          "metadata": {}
        },
        {
          "output_type": "display_data",
          "data": {
            "text/plain": [
              "<IPython.core.display.Latex object>"
            ],
            "text/latex": "\\text{อนุพันธ์ }  f'(x) = - e^{2 x} \\sin{\\left(x \\right)} + 2 e^{2 x} \\cos{\\left(x \\right)}"
          },
          "metadata": {}
        }
      ]
    },
    {
      "cell_type": "code",
      "source": [
        "f = sp.ln(3*x**2 + 4*x)\n",
        "\n",
        "y = sp.diff(f, x)\n",
        "\n",
        "dp(lt(r\"\\text{เฉลยแบบฝึกหัดข้อ 4.1.4}\"))\n",
        "dp(lt(r\"\\text{สมการฟังก์ชัน } f(x) = \" + sp.latex(f)))\n",
        "dp(lt(r\"\\text{อนุพันธ์ }  f'(x) = \" + sp.latex(y)))"
      ],
      "metadata": {
        "colab": {
          "base_uri": "https://localhost:8080/",
          "height": 81
        },
        "id": "U4LlibmQzZ8s",
        "outputId": "cbcd5871-ebb2-4d4e-9290-609cfcfb3f62"
      },
      "execution_count": null,
      "outputs": [
        {
          "output_type": "display_data",
          "data": {
            "text/plain": [
              "<IPython.core.display.Latex object>"
            ],
            "text/latex": "\\text{เฉลยแบบฝึกหัดข้อ 4.1.4}"
          },
          "metadata": {}
        },
        {
          "output_type": "display_data",
          "data": {
            "text/plain": [
              "<IPython.core.display.Latex object>"
            ],
            "text/latex": "\\text{สมการฟังก์ชัน } f(x) = \\log{\\left(3 x^{2} + 4 x \\right)}"
          },
          "metadata": {}
        },
        {
          "output_type": "display_data",
          "data": {
            "text/plain": [
              "<IPython.core.display.Latex object>"
            ],
            "text/latex": "\\text{อนุพันธ์ }  f'(x) = \\frac{6 x + 4}{3 x^{2} + 4 x}"
          },
          "metadata": {}
        }
      ]
    },
    {
      "cell_type": "code",
      "source": [
        "f = sp.tan(x) + sp.exp(x)\n",
        "\n",
        "y = sp.diff(f, x)\n",
        "\n",
        "dp(lt(r\"\\text{เฉลยแบบฝึกหัดข้อ 4.1.5}\"))\n",
        "dp(lt(r\"\\text{สมการฟังก์ชัน } f(x) = \" + sp.latex(f)))\n",
        "dp(lt(r\"\\text{อนุพันธ์ }  f'(x) = \" + sp.latex(y)))"
      ],
      "metadata": {
        "colab": {
          "base_uri": "https://localhost:8080/",
          "height": 81
        },
        "id": "WuRyDTSH047X",
        "outputId": "b6e8b341-724f-4b46-9373-e4bb2ab59b57"
      },
      "execution_count": null,
      "outputs": [
        {
          "output_type": "display_data",
          "data": {
            "text/plain": [
              "<IPython.core.display.Latex object>"
            ],
            "text/latex": "\\text{เฉลยแบบฝึกหัดข้อ 4.1.5}"
          },
          "metadata": {}
        },
        {
          "output_type": "display_data",
          "data": {
            "text/plain": [
              "<IPython.core.display.Latex object>"
            ],
            "text/latex": "\\text{สมการฟังก์ชัน } f(x) = e^{x} + \\tan{\\left(x \\right)}"
          },
          "metadata": {}
        },
        {
          "output_type": "display_data",
          "data": {
            "text/plain": [
              "<IPython.core.display.Latex object>"
            ],
            "text/latex": "\\text{อนุพันธ์ }  f'(x) = e^{x} + \\tan^{2}{\\left(x \\right)} + 1"
          },
          "metadata": {}
        }
      ]
    },
    {
      "cell_type": "code",
      "source": [
        "f = x**4 - 2*x**2 + 3*x\n",
        "\n",
        "dp(lt(r\"\\text{เฉลยแบบฝึกหัดข้อ 4.2.1}\"))\n",
        "dp(lt(r\"\\text{สมการฟังก์ชัน } f(x) = \" +sp.latex(f)))\n",
        "\n",
        "for i in range(1, 5):\n",
        "  dp(lt(rf\"\\text{{อนุพันธ์อันดับ {i}}} = {sp.latex(sp.diff(f, x, i))}\"))"
      ],
      "metadata": {
        "colab": {
          "base_uri": "https://localhost:8080/",
          "height": 145
        },
        "id": "lcvHVSAM4xtH",
        "outputId": "144d7a23-7287-4e98-f0ca-66c5711f0802"
      },
      "execution_count": null,
      "outputs": [
        {
          "output_type": "display_data",
          "data": {
            "text/plain": [
              "<IPython.core.display.Latex object>"
            ],
            "text/latex": "\\text{เฉลยแบบฝึกหัดข้อ 4.2.1}"
          },
          "metadata": {}
        },
        {
          "output_type": "display_data",
          "data": {
            "text/plain": [
              "<IPython.core.display.Latex object>"
            ],
            "text/latex": "\\text{สมการฟังก์ชัน } f(x) = x^{4} - 2 x^{2} + 3 x"
          },
          "metadata": {}
        },
        {
          "output_type": "display_data",
          "data": {
            "text/plain": [
              "<IPython.core.display.Latex object>"
            ],
            "text/latex": "\\text{อนุพันธ์อันดับ 1} = 4 x^{3} - 4 x + 3"
          },
          "metadata": {}
        },
        {
          "output_type": "display_data",
          "data": {
            "text/plain": [
              "<IPython.core.display.Latex object>"
            ],
            "text/latex": "\\text{อนุพันธ์อันดับ 2} = 4 \\left(3 x^{2} - 1\\right)"
          },
          "metadata": {}
        },
        {
          "output_type": "display_data",
          "data": {
            "text/plain": [
              "<IPython.core.display.Latex object>"
            ],
            "text/latex": "\\text{อนุพันธ์อันดับ 3} = 24 x"
          },
          "metadata": {}
        },
        {
          "output_type": "display_data",
          "data": {
            "text/plain": [
              "<IPython.core.display.Latex object>"
            ],
            "text/latex": "\\text{อนุพันธ์อันดับ 4} = 24"
          },
          "metadata": {}
        }
      ]
    },
    {
      "cell_type": "code",
      "source": [
        "f = sp.exp(x) * sp.sin(x)\n",
        "y = sp.diff(f ,x ,3)\n",
        "\n",
        "dp(lt(r\"\\text{เฉลยแบบฝึกหัดข้อ 4.2.2}\"))\n",
        "dp(lt(r\"\\text{สมการฟังก์ชัน } f(x) = \" +sp.latex(f)))\n",
        "dp(lt(r\"\\text{อนุพันธ์อันดับ 3 } = \" +sp.latex(y)))\n"
      ],
      "metadata": {
        "colab": {
          "base_uri": "https://localhost:8080/",
          "height": 81
        },
        "id": "HCCaWxDI5Mz2",
        "outputId": "47cfd0d2-b6ad-4a73-9146-81e69375b189"
      },
      "execution_count": null,
      "outputs": [
        {
          "output_type": "display_data",
          "data": {
            "text/plain": [
              "<IPython.core.display.Latex object>"
            ],
            "text/latex": "\\text{เฉลยแบบฝึกหัดข้อ 4.2.2}"
          },
          "metadata": {}
        },
        {
          "output_type": "display_data",
          "data": {
            "text/plain": [
              "<IPython.core.display.Latex object>"
            ],
            "text/latex": "\\text{สมการฟังก์ชัน } f(x) = e^{x} \\sin{\\left(x \\right)}"
          },
          "metadata": {}
        },
        {
          "output_type": "display_data",
          "data": {
            "text/plain": [
              "<IPython.core.display.Latex object>"
            ],
            "text/latex": "\\text{อนุพันธ์อันดับ 3 } = 2 \\left(- \\sin{\\left(x \\right)} + \\cos{\\left(x \\right)}\\right) e^{x}"
          },
          "metadata": {}
        }
      ]
    },
    {
      "cell_type": "code",
      "source": [
        "f = x * sp.cos(x)\n",
        "y = sp.diff(f ,x ,4)\n",
        "\n",
        "dp(lt(r\"\\text{เฉลยแบบฝึกหัดข้อ 4.2.3}\"))\n",
        "dp(lt(r\"\\text{สมการฟังก์ชัน } f(x) = \" +sp.latex(f)))\n",
        "dp(lt(r\"\\text{อนุพันธ์อันดับ 4 } = \" +sp.latex(y)))\n"
      ],
      "metadata": {
        "colab": {
          "base_uri": "https://localhost:8080/",
          "height": 81
        },
        "id": "RtL_m0hu7yzF",
        "outputId": "3e15845e-18fb-413d-e015-c5b827658f6b"
      },
      "execution_count": null,
      "outputs": [
        {
          "output_type": "display_data",
          "data": {
            "text/plain": [
              "<IPython.core.display.Latex object>"
            ],
            "text/latex": "\\text{เฉลยแบบฝึกหัดข้อ 4.2.3}"
          },
          "metadata": {}
        },
        {
          "output_type": "display_data",
          "data": {
            "text/plain": [
              "<IPython.core.display.Latex object>"
            ],
            "text/latex": "\\text{สมการฟังก์ชัน } f(x) = x \\cos{\\left(x \\right)}"
          },
          "metadata": {}
        },
        {
          "output_type": "display_data",
          "data": {
            "text/plain": [
              "<IPython.core.display.Latex object>"
            ],
            "text/latex": "\\text{อนุพันธ์อันดับ 4 } = x \\cos{\\left(x \\right)} + 4 \\sin{\\left(x \\right)}"
          },
          "metadata": {}
        }
      ]
    },
    {
      "cell_type": "code",
      "source": [
        "f = sp.exp(2*x) * sp.sin(3*x)\n",
        "y = sp.diff(f ,x ,3)\n",
        "\n",
        "dp(lt(r\"\\text{เฉลยแบบฝึกหัดข้อ 4.2.4}\"))\n",
        "dp(lt(r\"\\text{สมการฟังก์ชัน } f(x) = \" +sp.latex(f)))\n",
        "dp(lt(r\"\\text{อนุพันธ์อันดับ 3 } = \" +sp.latex(y)))"
      ],
      "metadata": {
        "colab": {
          "base_uri": "https://localhost:8080/",
          "height": 81
        },
        "id": "QXiB-gs__4sq",
        "outputId": "141ca85a-8e74-409e-977a-1816f09f17f4"
      },
      "execution_count": null,
      "outputs": [
        {
          "output_type": "display_data",
          "data": {
            "text/plain": [
              "<IPython.core.display.Latex object>"
            ],
            "text/latex": "\\text{เฉลยแบบฝึกหัดข้อ 4.2.4}"
          },
          "metadata": {}
        },
        {
          "output_type": "display_data",
          "data": {
            "text/plain": [
              "<IPython.core.display.Latex object>"
            ],
            "text/latex": "\\text{สมการฟังก์ชัน } f(x) = e^{2 x} \\sin{\\left(3 x \\right)}"
          },
          "metadata": {}
        },
        {
          "output_type": "display_data",
          "data": {
            "text/plain": [
              "<IPython.core.display.Latex object>"
            ],
            "text/latex": "\\text{อนุพันธ์อันดับ 3 } = \\left(- 46 \\sin{\\left(3 x \\right)} + 9 \\cos{\\left(3 x \\right)}\\right) e^{2 x}"
          },
          "metadata": {}
        }
      ]
    },
    {
      "cell_type": "code",
      "source": [
        "f = x**4 * sp.ln(x)\n",
        "y = sp.diff(f ,x ,4)\n",
        "\n",
        "dp(lt(r\"\\text{เฉลยแบบฝึกหัดข้อ 4.2.5}\"))\n",
        "dp(lt(r\"\\text{สมการฟังก์ชัน } f(x) = \" +sp.latex(f)))\n",
        "dp(lt(r\"\\text{อนุพันธ์อันดับ 4 } = \" +sp.latex(y)))"
      ],
      "metadata": {
        "colab": {
          "base_uri": "https://localhost:8080/",
          "height": 81
        },
        "id": "sYrYX_jMD1JT",
        "outputId": "a80a6dcb-3241-4da9-bba1-b35db58528ea"
      },
      "execution_count": null,
      "outputs": [
        {
          "output_type": "display_data",
          "data": {
            "text/plain": [
              "<IPython.core.display.Latex object>"
            ],
            "text/latex": "\\text{เฉลยแบบฝึกหัดข้อ 4.2.5}"
          },
          "metadata": {}
        },
        {
          "output_type": "display_data",
          "data": {
            "text/plain": [
              "<IPython.core.display.Latex object>"
            ],
            "text/latex": "\\text{สมการฟังก์ชัน } f(x) = x^{4} \\log{\\left(x \\right)}"
          },
          "metadata": {}
        },
        {
          "output_type": "display_data",
          "data": {
            "text/plain": [
              "<IPython.core.display.Latex object>"
            ],
            "text/latex": "\\text{อนุพันธ์อันดับ 4 } = 2 \\left(12 \\log{\\left(x \\right)} + 25\\right)"
          },
          "metadata": {}
        }
      ]
    },
    {
      "cell_type": "code",
      "source": [
        "f = x * sp.exp(x)\n",
        "y = sp.integrate(f, x)\n",
        "\n",
        "dp(lt(r\"\\text{เฉลยแบบฝึกหัดข้อ 4.3.1}\"))\n",
        "dp(lt(r\"\\text{สมการฟังก์ชัน } f(x) = \" +sp.latex(f)))\n",
        "dp(lt(r\"\\text{ปริพันธ์ } = \" +sp.latex(y)))"
      ],
      "metadata": {
        "colab": {
          "base_uri": "https://localhost:8080/",
          "height": 81
        },
        "id": "4CvH_M2hlnbo",
        "outputId": "7339337a-c8cd-45fc-ceea-24a981a2b5a3"
      },
      "execution_count": null,
      "outputs": [
        {
          "output_type": "display_data",
          "data": {
            "text/plain": [
              "<IPython.core.display.Latex object>"
            ],
            "text/latex": "\\text{เฉลยแบบฝึกหัดข้อ 4.3.1}"
          },
          "metadata": {}
        },
        {
          "output_type": "display_data",
          "data": {
            "text/plain": [
              "<IPython.core.display.Latex object>"
            ],
            "text/latex": "\\text{สมการฟังก์ชัน } f(x) = x e^{x}"
          },
          "metadata": {}
        },
        {
          "output_type": "display_data",
          "data": {
            "text/plain": [
              "<IPython.core.display.Latex object>"
            ],
            "text/latex": "\\text{ปริพันธ์ } = \\left(x - 1\\right) e^{x}"
          },
          "metadata": {}
        }
      ]
    },
    {
      "cell_type": "code",
      "source": [
        "f = sp.sin(2*x)\n",
        "y = sp.integrate(f, x)\n",
        "\n",
        "dp(lt(r\"\\text{เฉลยแบบฝึกหัดข้อ 4.3.2}\"))\n",
        "dp(lt(r\"\\text{สมการฟังก์ชัน } f(x) = \" +sp.latex(f)))\n",
        "dp(lt(r\"\\text{ปริพันธ์ } = \" +sp.latex(y)))"
      ],
      "metadata": {
        "colab": {
          "base_uri": "https://localhost:8080/",
          "height": 82
        },
        "id": "ANNP9SOPmSOI",
        "outputId": "3a665125-19b0-44c7-c5ac-c3bd2a4a3b36"
      },
      "execution_count": null,
      "outputs": [
        {
          "output_type": "display_data",
          "data": {
            "text/plain": [
              "<IPython.core.display.Latex object>"
            ],
            "text/latex": "\\text{เฉลยแบบฝึกหัดข้อ 4.3.2}"
          },
          "metadata": {}
        },
        {
          "output_type": "display_data",
          "data": {
            "text/plain": [
              "<IPython.core.display.Latex object>"
            ],
            "text/latex": "\\text{สมการฟังก์ชัน } f(x) = \\sin{\\left(2 x \\right)}"
          },
          "metadata": {}
        },
        {
          "output_type": "display_data",
          "data": {
            "text/plain": [
              "<IPython.core.display.Latex object>"
            ],
            "text/latex": "\\text{ปริพันธ์ } = - \\frac{\\cos{\\left(2 x \\right)}}{2}"
          },
          "metadata": {}
        }
      ]
    },
    {
      "cell_type": "code",
      "source": [
        "f = (1) / (x**2 + 1)\n",
        "y = sp.integrate(f, x)\n",
        "\n",
        "dp(lt(r\"\\text{เฉลยแบบฝึกหัดข้อ 4.3.3}\"))\n",
        "dp(lt(r\"\\text{สมการฟังก์ชัน } f(x) = \" +sp.latex(f)))\n",
        "dp(lt(r\"\\text{ปริพันธ์ } = \" +sp.latex(y)))"
      ],
      "metadata": {
        "colab": {
          "base_uri": "https://localhost:8080/",
          "height": 81
        },
        "id": "PUcDxyanmfQF",
        "outputId": "6ce6a1d7-78ee-4124-973e-b24264750fcb"
      },
      "execution_count": null,
      "outputs": [
        {
          "output_type": "display_data",
          "data": {
            "text/plain": [
              "<IPython.core.display.Latex object>"
            ],
            "text/latex": "\\text{เฉลยแบบฝึกหัดข้อ 4.3.3}"
          },
          "metadata": {}
        },
        {
          "output_type": "display_data",
          "data": {
            "text/plain": [
              "<IPython.core.display.Latex object>"
            ],
            "text/latex": "\\text{สมการฟังก์ชัน } f(x) = \\frac{1}{x^{2} + 1}"
          },
          "metadata": {}
        },
        {
          "output_type": "display_data",
          "data": {
            "text/plain": [
              "<IPython.core.display.Latex object>"
            ],
            "text/latex": "\\text{ปริพันธ์ } = \\operatorname{atan}{\\left(x \\right)}"
          },
          "metadata": {}
        }
      ]
    },
    {
      "cell_type": "code",
      "source": [
        "x, u = sp.symbols('x u')\n",
        "\n",
        "f = (2*x + 1)**3\n",
        "u_expr = 2*x + 1\n",
        "du_dx = sp.diff(u_expr, x)\n",
        "dx = sp.solve(sp.Eq(du_dx, sp.Derivative(u, x)), sp.Derivative(u, x))[0]\n",
        "\n",
        "integral_result = sp.integrate((u**3 / du_dx), u)\n",
        "simplified_result = sp.simplify(integral_result)\n",
        "\n",
        "dp(lt(r\"\\text{เฉลยแบบฝึกหัดข้อ 4.3.4}\"))\n",
        "dp(lt(r\"\\text{สมการฟังก์ชัน } f(x) = \" +sp.latex(f)))\n",
        "dp(lt(r\"\\text{ปริพันธ์ }  = \" +sp.latex(simplified_result)))"
      ],
      "metadata": {
        "colab": {
          "base_uri": "https://localhost:8080/",
          "height": 83
        },
        "id": "C19WzVc2lFO1",
        "outputId": "4cbbaa44-2bfc-4ddf-85a4-affa27b4ffef"
      },
      "execution_count": null,
      "outputs": [
        {
          "output_type": "display_data",
          "data": {
            "text/plain": [
              "<IPython.core.display.Latex object>"
            ],
            "text/latex": "\\text{เฉลยแบบฝึกหัดข้อ 4.3.4}"
          },
          "metadata": {}
        },
        {
          "output_type": "display_data",
          "data": {
            "text/plain": [
              "<IPython.core.display.Latex object>"
            ],
            "text/latex": "\\text{สมการฟังก์ชัน } f(x) = \\left(2 x + 1\\right)^{3}"
          },
          "metadata": {}
        },
        {
          "output_type": "display_data",
          "data": {
            "text/plain": [
              "<IPython.core.display.Latex object>"
            ],
            "text/latex": "\\text{ปริพันธ์ }  = \\frac{u^{4}}{8}"
          },
          "metadata": {}
        }
      ]
    },
    {
      "cell_type": "code",
      "source": [
        "f = sp.sin(5*x)**2 * sp.cos(5*x)\n",
        "simplified_f = sp.simplify(f.rewrite(sp.cos))\n",
        "y = sp.integrate(simplified_f, x)\n",
        "\n",
        "dp(lt(r\"\\text{เฉลยแบบฝึกหัดข้อ 4.3.5}\"))\n",
        "dp(lt(r\"\\text{สมการฟังก์ชัน } f(x) = \" +sp.latex(f)))\n",
        "dp(lt(r\"\\text{ปริพันธ์ }  = \" +sp.latex(y)))"
      ],
      "metadata": {
        "colab": {
          "base_uri": "https://localhost:8080/",
          "height": 84
        },
        "id": "grcT7kQJp-g4",
        "outputId": "a68891ad-5290-4ccd-c613-298f34e9a19b"
      },
      "execution_count": null,
      "outputs": [
        {
          "output_type": "display_data",
          "data": {
            "text/plain": [
              "<IPython.core.display.Latex object>"
            ],
            "text/latex": "\\text{เฉลยแบบฝึกหัดข้อ 4.3.5}"
          },
          "metadata": {}
        },
        {
          "output_type": "display_data",
          "data": {
            "text/plain": [
              "<IPython.core.display.Latex object>"
            ],
            "text/latex": "\\text{สมการฟังก์ชัน } f(x) = \\sin^{2}{\\left(5 x \\right)} \\cos{\\left(5 x \\right)}"
          },
          "metadata": {}
        },
        {
          "output_type": "display_data",
          "data": {
            "text/plain": [
              "<IPython.core.display.Latex object>"
            ],
            "text/latex": "\\text{ปริพันธ์ }  = \\frac{\\sin^{3}{\\left(5 x \\right)}}{15}"
          },
          "metadata": {}
        }
      ]
    },
    {
      "cell_type": "code",
      "source": [
        "f = sp.cos(2*x)\n",
        "\n",
        "y = sp.integrate(f, (x, 0, sp.pi/4))\n",
        "\n",
        "dp(lt(r\"\\text{เฉลยแบบฝึกหัดข้อ 4.4.1}\"))\n",
        "dp(lt(r\"\\text{สมการฟังก์ชัน } f(x) = \" +sp.latex(f)))\n",
        "dp(lt(r\"\\text{ปริพันธ์ }  = \" +sp.latex(y)))"
      ],
      "metadata": {
        "colab": {
          "base_uri": "https://localhost:8080/",
          "height": 80
        },
        "id": "dUdly4ql6uk_",
        "outputId": "d06f4771-357f-41ba-801b-8d790969b2eb"
      },
      "execution_count": null,
      "outputs": [
        {
          "output_type": "display_data",
          "data": {
            "text/plain": [
              "<IPython.core.display.Latex object>"
            ],
            "text/latex": "\\text{เฉลยแบบฝึกหัดข้อ 4.4.1}"
          },
          "metadata": {}
        },
        {
          "output_type": "display_data",
          "data": {
            "text/plain": [
              "<IPython.core.display.Latex object>"
            ],
            "text/latex": "\\text{สมการฟังก์ชัน } f(x) = \\cos{\\left(2 x \\right)}"
          },
          "metadata": {}
        },
        {
          "output_type": "display_data",
          "data": {
            "text/plain": [
              "<IPython.core.display.Latex object>"
            ],
            "text/latex": "\\text{ปริพันธ์ }  = \\frac{1}{2}"
          },
          "metadata": {}
        }
      ]
    },
    {
      "cell_type": "code",
      "source": [
        "f = x * sp.exp(x)\n",
        "\n",
        "y = sp.integrate(f, (x, 1, 3))\n",
        "\n",
        "dp(lt(r\"\\text{เฉลยแบบฝึกหัดข้อ 4.4.2}\"))\n",
        "dp(lt(r\"\\text{สมการฟังก์ชัน } f(x) = \" +sp.latex(f)))\n",
        "dp(lt(r\"\\text{ปริพันธ์ }  = \" +sp.latex(y)))"
      ],
      "metadata": {
        "colab": {
          "base_uri": "https://localhost:8080/",
          "height": 81
        },
        "id": "mumies5H9PAU",
        "outputId": "9f7ee0ba-013f-4fa9-c6f8-fbefa531cc05"
      },
      "execution_count": null,
      "outputs": [
        {
          "output_type": "display_data",
          "data": {
            "text/plain": [
              "<IPython.core.display.Latex object>"
            ],
            "text/latex": "\\text{เฉลยแบบฝึกหัดข้อ 4.4.2}"
          },
          "metadata": {}
        },
        {
          "output_type": "display_data",
          "data": {
            "text/plain": [
              "<IPython.core.display.Latex object>"
            ],
            "text/latex": "\\text{สมการฟังก์ชัน } f(x) = x e^{x}"
          },
          "metadata": {}
        },
        {
          "output_type": "display_data",
          "data": {
            "text/plain": [
              "<IPython.core.display.Latex object>"
            ],
            "text/latex": "\\text{ปริพันธ์ }  = 2 e^{3}"
          },
          "metadata": {}
        }
      ]
    },
    {
      "cell_type": "code",
      "source": [
        "f = sp.ln(x)\n",
        "\n",
        "y = sp.integrate(f, (x, 1, sp.E))\n",
        "\n",
        "dp(lt(r\"\\text{เฉลยแบบฝึกหัดข้อ 4.4.3}\"))\n",
        "dp(lt(r\"\\text{สมการฟังก์ชัน } f(x) = \" +sp.latex(f)))\n",
        "dp(lt(r\"\\text{ปริพันธ์ }  = \" +sp.latex(y)))"
      ],
      "metadata": {
        "colab": {
          "base_uri": "https://localhost:8080/",
          "height": 80
        },
        "id": "vzlGy2hY9lqw",
        "outputId": "3fe22a5a-dc31-4b6a-c0cc-0222a8af4c71"
      },
      "execution_count": null,
      "outputs": [
        {
          "output_type": "display_data",
          "data": {
            "text/plain": [
              "<IPython.core.display.Latex object>"
            ],
            "text/latex": "\\text{เฉลยแบบฝึกหัดข้อ 4.4.3}"
          },
          "metadata": {}
        },
        {
          "output_type": "display_data",
          "data": {
            "text/plain": [
              "<IPython.core.display.Latex object>"
            ],
            "text/latex": "\\text{สมการฟังก์ชัน } f(x) = \\log{\\left(x \\right)}"
          },
          "metadata": {}
        },
        {
          "output_type": "display_data",
          "data": {
            "text/plain": [
              "<IPython.core.display.Latex object>"
            ],
            "text/latex": "\\text{ปริพันธ์ }  = 1"
          },
          "metadata": {}
        }
      ]
    },
    {
      "cell_type": "code",
      "source": [
        "f = sp.sin(x)**2\n",
        "\n",
        "y = sp.integrate(f, (x, 0, sp.pi/2))\n",
        "\n",
        "dp(lt(r\"\\text{เฉลยแบบฝึกหัดข้อ 4.4.4}\"))\n",
        "dp(lt(r\"\\text{สมการฟังก์ชัน } f(x) = \" +sp.latex(f)))\n",
        "dp(lt(r\"\\text{ปริพันธ์ }  = \" +sp.latex(y)))"
      ],
      "metadata": {
        "colab": {
          "base_uri": "https://localhost:8080/",
          "height": 80
        },
        "id": "3BvzfBZR9xah",
        "outputId": "8edc8df6-3d4c-477e-9bee-46726f428cd0"
      },
      "execution_count": null,
      "outputs": [
        {
          "output_type": "display_data",
          "data": {
            "text/plain": [
              "<IPython.core.display.Latex object>"
            ],
            "text/latex": "\\text{เฉลยแบบฝึกหัดข้อ 4.4.4}"
          },
          "metadata": {}
        },
        {
          "output_type": "display_data",
          "data": {
            "text/plain": [
              "<IPython.core.display.Latex object>"
            ],
            "text/latex": "\\text{สมการฟังก์ชัน } f(x) = \\sin^{2}{\\left(x \\right)}"
          },
          "metadata": {}
        },
        {
          "output_type": "display_data",
          "data": {
            "text/plain": [
              "<IPython.core.display.Latex object>"
            ],
            "text/latex": "\\text{ปริพันธ์ }  = \\frac{\\pi}{4}"
          },
          "metadata": {}
        }
      ]
    },
    {
      "cell_type": "code",
      "source": [
        "f = sp.exp(x)\n",
        "\n",
        "y = sp.integrate(f, (x, 0, sp.ln(3)))\n",
        "\n",
        "dp(lt(r\"\\text{เฉลยแบบฝึกหัดข้อ 4.4.5}\"))\n",
        "dp(lt(r\"\\text{สมการฟังก์ชัน } f(x) = \" +sp.latex(f)))\n",
        "dp(lt(r\"\\text{ปริพันธ์ }  = \" +sp.latex(y)))"
      ],
      "metadata": {
        "colab": {
          "base_uri": "https://localhost:8080/",
          "height": 80
        },
        "id": "wCx6l2sm95v4",
        "outputId": "b5d8298b-1599-4bac-dc5b-8429ed643800"
      },
      "execution_count": null,
      "outputs": [
        {
          "output_type": "display_data",
          "data": {
            "text/plain": [
              "<IPython.core.display.Latex object>"
            ],
            "text/latex": "\\text{เฉลยแบบฝึกหัดข้อ 4.4.5}"
          },
          "metadata": {}
        },
        {
          "output_type": "display_data",
          "data": {
            "text/plain": [
              "<IPython.core.display.Latex object>"
            ],
            "text/latex": "\\text{สมการฟังก์ชัน } f(x) = e^{x}"
          },
          "metadata": {}
        },
        {
          "output_type": "display_data",
          "data": {
            "text/plain": [
              "<IPython.core.display.Latex object>"
            ],
            "text/latex": "\\text{ปริพันธ์ }  = 2"
          },
          "metadata": {}
        }
      ]
    }
  ]
}