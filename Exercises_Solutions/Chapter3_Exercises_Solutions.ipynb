{
  "nbformat": 4,
  "nbformat_minor": 0,
  "metadata": {
    "colab": {
      "provenance": []
    },
    "kernelspec": {
      "name": "python3",
      "display_name": "Python 3"
    },
    "language_info": {
      "name": "python"
    }
  },
  "cells": [
    {
      "cell_type": "code",
      "execution_count": null,
      "metadata": {
        "id": "7v3K8yUiiz2Y"
      },
      "outputs": [],
      "source": [
        "import sympy as sp\n",
        "from sympy import *"
      ]
    },
    {
      "cell_type": "code",
      "source": [
        "x = symbols('x')\n",
        "y = symbols('y')\n",
        "z = symbols('z')"
      ],
      "metadata": {
        "id": "WDMe8JrXjFTl"
      },
      "execution_count": null,
      "outputs": []
    },
    {
      "cell_type": "code",
      "source": [
        "#เฉลยแบบฝึกหัดข้อที่ 3.1.1\n",
        "print(expand((6*x**2 + 3*x) + (-4*x**2 + 2)))"
      ],
      "metadata": {
        "colab": {
          "base_uri": "https://localhost:8080/"
        },
        "id": "DleijdCijIcP",
        "outputId": "e596cdb9-ee2d-4179-b5f1-0e34d391de97"
      },
      "execution_count": null,
      "outputs": [
        {
          "output_type": "stream",
          "name": "stdout",
          "text": [
            "2*x**2 + 3*x + 2\n"
          ]
        }
      ]
    },
    {
      "cell_type": "code",
      "source": [
        "#เฉลยแบบฝึกหัดข้อที่ 3.1.2\n",
        "print(expand((9*y**2 + 2*y - 1) + (-3*y**2 - y + 5)))"
      ],
      "metadata": {
        "colab": {
          "base_uri": "https://localhost:8080/"
        },
        "id": "KqzEM-r7jhIt",
        "outputId": "3f7e56a8-512a-4c83-f497-8ab2d34a87b0"
      },
      "execution_count": null,
      "outputs": [
        {
          "output_type": "stream",
          "name": "stdout",
          "text": [
            "6*y**2 + y + 4\n"
          ]
        }
      ]
    },
    {
      "cell_type": "code",
      "source": [
        "#เฉลยแบบฝึกหัดข้อที่ 3.1.3\n",
        "print(expand((2*x + 3*y) + (4*x - y + z)))"
      ],
      "metadata": {
        "colab": {
          "base_uri": "https://localhost:8080/"
        },
        "id": "2ldk5CI3jWf1",
        "outputId": "e23e9173-2b50-4bad-faa7-98b7482fbe4a"
      },
      "execution_count": null,
      "outputs": [
        {
          "output_type": "stream",
          "name": "stdout",
          "text": [
            "6*x + 2*y + z\n"
          ]
        }
      ]
    },
    {
      "cell_type": "code",
      "source": [
        "#เฉลยแบบฝึกหัดข้อที่ 3.1.4\n",
        "print(expand((x**2 + y**2) + (2*x**2 - z)))"
      ],
      "metadata": {
        "colab": {
          "base_uri": "https://localhost:8080/"
        },
        "id": "4df3WHnJjvh9",
        "outputId": "3b973373-290b-4369-e26b-5554f702e2d0"
      },
      "execution_count": null,
      "outputs": [
        {
          "output_type": "stream",
          "name": "stdout",
          "text": [
            "3*x**2 + y**2 - z\n"
          ]
        }
      ]
    },
    {
      "cell_type": "code",
      "source": [
        "#เฉลยแบบฝึกหัดข้อที่ 3.1.5\n",
        "print(expand((3*x + 2*y + z) + (x - y + 4*z)))"
      ],
      "metadata": {
        "colab": {
          "base_uri": "https://localhost:8080/"
        },
        "id": "5oTy9ehoj-rF",
        "outputId": "e3f20cf8-61e0-48b8-a868-76d9da5e7a68"
      },
      "execution_count": null,
      "outputs": [
        {
          "output_type": "stream",
          "name": "stdout",
          "text": [
            "4*x + y + 5*z\n"
          ]
        }
      ]
    },
    {
      "cell_type": "code",
      "source": [
        "#เฉลยแบบฝึกหัดข้อที่ 3.2.1\n",
        "print(expand((x**3 + 2*x**2 - x) - (3*x**3 - x**2 + 4*x)))"
      ],
      "metadata": {
        "colab": {
          "base_uri": "https://localhost:8080/"
        },
        "id": "JZL0c86Gkvdt",
        "outputId": "180b5573-6388-4c0c-81ba-a3700a30b2ed"
      },
      "execution_count": null,
      "outputs": [
        {
          "output_type": "stream",
          "name": "stdout",
          "text": [
            "-2*x**3 + 3*x**2 - 5*x\n"
          ]
        }
      ]
    },
    {
      "cell_type": "code",
      "source": [
        "#เฉลยแบบฝึกหัดข้อที่ 3.2.2\n",
        "print(expand((4*y**2 + y - 5) - (y**2 - 2*y + 3)))"
      ],
      "metadata": {
        "colab": {
          "base_uri": "https://localhost:8080/"
        },
        "id": "NDv3sSfdkx5c",
        "outputId": "9a1d4361-d82e-4444-f336-20cfabea3ec5"
      },
      "execution_count": null,
      "outputs": [
        {
          "output_type": "stream",
          "name": "stdout",
          "text": [
            "3*y**2 + 3*y - 8\n"
          ]
        }
      ]
    },
    {
      "cell_type": "code",
      "source": [
        "#เฉลยแบบฝึกหัดข้อที่ 3.2.3\n",
        "print(expand((5*x + 2*y - z) - (2*x - y + z)))"
      ],
      "metadata": {
        "colab": {
          "base_uri": "https://localhost:8080/"
        },
        "id": "CeeJgomBlRTr",
        "outputId": "6a3907a0-1701-4b28-f310-f0181cebe190"
      },
      "execution_count": null,
      "outputs": [
        {
          "output_type": "stream",
          "name": "stdout",
          "text": [
            "3*x + 3*y - 2*z\n"
          ]
        }
      ]
    },
    {
      "cell_type": "code",
      "source": [
        "#เฉลยแบบฝึกหัดข้อที่ 3.2.4\n",
        "print(expand((x**2 + y**2 + z**2) - (2*x**2 - y + z)))"
      ],
      "metadata": {
        "colab": {
          "base_uri": "https://localhost:8080/"
        },
        "id": "Wa2-zzFuljuj",
        "outputId": "9afb6c1d-c0cb-4849-dfe8-09e1b6b00d72"
      },
      "execution_count": null,
      "outputs": [
        {
          "output_type": "stream",
          "name": "stdout",
          "text": [
            "-x**2 + y**2 + y + z**2 - z\n"
          ]
        }
      ]
    },
    {
      "cell_type": "code",
      "source": [
        "#เฉลยแบบฝึกหัดข้อที่ 3.2.5\n",
        "print(expand((4*x + 3*y) - (x + y + z)))"
      ],
      "metadata": {
        "colab": {
          "base_uri": "https://localhost:8080/"
        },
        "id": "UAUSp1sAlqtF",
        "outputId": "dc974b4d-1ca9-44e4-c113-918248873416"
      },
      "execution_count": null,
      "outputs": [
        {
          "output_type": "stream",
          "name": "stdout",
          "text": [
            "3*x + 2*y - z\n"
          ]
        }
      ]
    },
    {
      "cell_type": "code",
      "source": [
        "#เฉลยแบบฝึกหัดข้อที่ 3.3.1\n",
        "print(expand((2*x + 3*y) * (4*x - y)))"
      ],
      "metadata": {
        "colab": {
          "base_uri": "https://localhost:8080/"
        },
        "id": "vuD11jSBmegL",
        "outputId": "75e63715-e253-4ec3-e08f-043ebd72a846"
      },
      "execution_count": null,
      "outputs": [
        {
          "output_type": "stream",
          "name": "stdout",
          "text": [
            "8*x**2 + 10*x*y - 3*y**2\n"
          ]
        }
      ]
    },
    {
      "cell_type": "code",
      "source": [
        "#เฉลยแบบฝึกหัดข้อที่ 3.3.2\n",
        "print(expand((x + 5)**2))"
      ],
      "metadata": {
        "colab": {
          "base_uri": "https://localhost:8080/"
        },
        "id": "al-7IFW7mfnD",
        "outputId": "1c56e3e3-14fe-47b9-b0f3-2f2222952e2e"
      },
      "execution_count": null,
      "outputs": [
        {
          "output_type": "stream",
          "name": "stdout",
          "text": [
            "x**2 + 10*x + 25\n"
          ]
        }
      ]
    },
    {
      "cell_type": "code",
      "source": [
        "#เฉลยแบบฝึกหัดข้อที่ 3.3.3\n",
        "print(expand((2*x**2 - 3*x) * (x - 5)))"
      ],
      "metadata": {
        "colab": {
          "base_uri": "https://localhost:8080/"
        },
        "id": "eommMS6Jmf16",
        "outputId": "2c892d99-4f3e-4d93-ee2f-43787351d544"
      },
      "execution_count": null,
      "outputs": [
        {
          "output_type": "stream",
          "name": "stdout",
          "text": [
            "2*x**3 - 13*x**2 + 15*x\n"
          ]
        }
      ]
    },
    {
      "cell_type": "code",
      "source": [
        "#เฉลยแบบฝึกหัดข้อที่ 3.3.4\n",
        "print(expand((x + z) * (2*x - z)))"
      ],
      "metadata": {
        "colab": {
          "base_uri": "https://localhost:8080/"
        },
        "id": "V0VF4lWzmYic",
        "outputId": "07b8cc53-8b43-4990-aeca-8c76d6b14ba7"
      },
      "execution_count": null,
      "outputs": [
        {
          "output_type": "stream",
          "name": "stdout",
          "text": [
            "2*x**2 + x*z - z**2\n"
          ]
        }
      ]
    },
    {
      "cell_type": "code",
      "source": [
        "#เฉลยแบบฝึกหัดข้อที่ 3.3.5\n",
        "print(expand((x + y + z) * (x - y)))"
      ],
      "metadata": {
        "colab": {
          "base_uri": "https://localhost:8080/"
        },
        "id": "-jFkmYrgmdmj",
        "outputId": "638e5fce-ac2e-4f33-c83e-9addaf00b9f5"
      },
      "execution_count": null,
      "outputs": [
        {
          "output_type": "stream",
          "name": "stdout",
          "text": [
            "x**2 + x*z - y**2 - y*z\n"
          ]
        }
      ]
    },
    {
      "cell_type": "code",
      "source": [
        "#เฉลยแบบฝึกหัดข้อที่ 3.4.1\n",
        "dividend = x**2 - 9\n",
        "divisor = x - 3\n",
        "quotient, remainder = div(dividend, divisor)\n",
        "\n",
        "print(\"ผลลัพธ์ของการหาร :\")\n",
        "print(f\"ผลหาร = {quotient}\")\n",
        "print(f\"เศษ = {remainder}\")"
      ],
      "metadata": {
        "id": "11wKYne1nsOB",
        "colab": {
          "base_uri": "https://localhost:8080/"
        },
        "outputId": "36f780a5-531e-4739-bd48-a7c705db7efe"
      },
      "execution_count": null,
      "outputs": [
        {
          "output_type": "stream",
          "name": "stdout",
          "text": [
            "ผลลัพธ์ของการหาร :\n",
            "ผลหาร = x + 3\n",
            "เศษ = 0\n"
          ]
        }
      ]
    },
    {
      "cell_type": "code",
      "source": [
        "#เฉลยแบบฝึกหัดข้อที่ 3.4.2\n",
        "dividend = x**2 + 5*x + 6\n",
        "divisor = x + 2\n",
        "quotient, remainder = div(dividend, divisor)\n",
        "\n",
        "print(\"ผลลัพธ์ของการหาร :\")\n",
        "print(f\"ผลหาร = {quotient}\")\n",
        "print(f\"เศษ = {remainder}\")"
      ],
      "metadata": {
        "colab": {
          "base_uri": "https://localhost:8080/"
        },
        "id": "akISwMPrXqQ_",
        "outputId": "29908c4a-2525-4a9b-c932-49d8c23a9239"
      },
      "execution_count": null,
      "outputs": [
        {
          "output_type": "stream",
          "name": "stdout",
          "text": [
            "ผลลัพธ์ของการหาร :\n",
            "ผลหาร = x + 3\n",
            "เศษ = 0\n"
          ]
        }
      ]
    },
    {
      "cell_type": "code",
      "source": [
        "#เฉลยแบบฝึกหัดข้อที่ 3.4.3\n",
        "dividend = 4*x**2 - 12*x\n",
        "divisor = 2*x\n",
        "quotient, remainder = div(dividend, divisor)\n",
        "\n",
        "print(\"ผลลัพธ์ของการหาร :\")\n",
        "print(f\"ผลหาร = {quotient}\")\n",
        "print(f\"เศษ = {remainder}\")"
      ],
      "metadata": {
        "colab": {
          "base_uri": "https://localhost:8080/"
        },
        "id": "D5JeGJa-XrBl",
        "outputId": "0f12d14a-d097-4865-df97-b7d9d92d7500"
      },
      "execution_count": null,
      "outputs": [
        {
          "output_type": "stream",
          "name": "stdout",
          "text": [
            "ผลลัพธ์ของการหาร :\n",
            "ผลหาร = 2*x - 6\n",
            "เศษ = 0\n"
          ]
        }
      ]
    },
    {
      "cell_type": "code",
      "source": [
        "#เฉลยแบบฝึกหัดข้อที่ 3.4.4\n",
        "dividend = x**2 + x*y\n",
        "divisor = x\n",
        "quotient, remainder = div(dividend, divisor)\n",
        "\n",
        "print(\"ผลลัพธ์ของการหาร :\")\n",
        "print(f\"ผลหาร = {quotient}\")\n",
        "print(f\"เศษ = {remainder}\")"
      ],
      "metadata": {
        "colab": {
          "base_uri": "https://localhost:8080/"
        },
        "id": "kD_hZqadXwkc",
        "outputId": "9d988c5c-1cda-4af9-8c0e-056125093516"
      },
      "execution_count": null,
      "outputs": [
        {
          "output_type": "stream",
          "name": "stdout",
          "text": [
            "ผลลัพธ์ของการหาร :\n",
            "ผลหาร = x + y\n",
            "เศษ = 0\n"
          ]
        }
      ]
    },
    {
      "cell_type": "code",
      "source": [
        "#เฉลยแบบฝึกหัดข้อที่ 3.4.5\n",
        "dividend = x**3 + 2*x**2*y\n",
        "divisor = x\n",
        "quotient, remainder = div(dividend, divisor)\n",
        "\n",
        "print(\"ผลลัพธ์ของการหาร :\")\n",
        "print(f\"ผลหาร = {quotient}\")\n",
        "print(f\"เศษ = {remainder}\")"
      ],
      "metadata": {
        "colab": {
          "base_uri": "https://localhost:8080/"
        },
        "id": "jg47QnqNXxfX",
        "outputId": "fb9aaaac-f439-4a05-d7b8-ef1947732734"
      },
      "execution_count": null,
      "outputs": [
        {
          "output_type": "stream",
          "name": "stdout",
          "text": [
            "ผลลัพธ์ของการหาร :\n",
            "ผลหาร = x**2 + 2*x*y\n",
            "เศษ = 0\n"
          ]
        }
      ]
    },
    {
      "cell_type": "code",
      "source": [
        "#เฉลยแบบฝึกหัดข้อที่ 3.5.1\n",
        "eq1 = sp.Eq(3*x + 2*y, 12)\n",
        "eq2 = sp.Eq(4*x - y, 5)\n",
        "\n",
        "solution = sp.solve([eq1, eq2], (x, y))\n",
        "print(solution)"
      ],
      "metadata": {
        "colab": {
          "base_uri": "https://localhost:8080/"
        },
        "id": "ypHwWRGqcJyz",
        "outputId": "e43ecd02-38fc-466a-e008-5baea0696ceb"
      },
      "execution_count": null,
      "outputs": [
        {
          "output_type": "stream",
          "name": "stdout",
          "text": [
            "{x: 2, y: 3}\n"
          ]
        }
      ]
    },
    {
      "cell_type": "code",
      "source": [
        "#เฉลยแบบฝึกหัดข้อที่ 3.5.2\n",
        "eq1 = sp.Eq(x + y, 10)\n",
        "eq2 = sp.Eq(2*x - 3*y, -1)\n",
        "\n",
        "solution = sp.solve([eq1, eq2], (x, y))\n",
        "print(solution)"
      ],
      "metadata": {
        "colab": {
          "base_uri": "https://localhost:8080/"
        },
        "id": "t1_2l6DGcmAE",
        "outputId": "65a5fe13-9244-46d2-bd51-0d6d0dc07ac7"
      },
      "execution_count": null,
      "outputs": [
        {
          "output_type": "stream",
          "name": "stdout",
          "text": [
            "{x: 29/5, y: 21/5}\n"
          ]
        }
      ]
    },
    {
      "cell_type": "code",
      "source": [
        "#เฉลยแบบฝึกหัดข้อที่ 3.5.3\n",
        "eq1 = sp.Eq(x + y + z, 6)\n",
        "eq2 = sp.Eq(2*x - y + z, 3)\n",
        "eq3 = sp.Eq(x + 2*y - z, 4)\n",
        "\n",
        "solution = sp.solve([eq1, eq2, eq3], (x, y, z))\n",
        "print(solution)"
      ],
      "metadata": {
        "colab": {
          "base_uri": "https://localhost:8080/"
        },
        "id": "tGXqyTooc3hK",
        "outputId": "076833a4-8027-4b9f-fbe4-597f6580cc50"
      },
      "execution_count": null,
      "outputs": [
        {
          "output_type": "stream",
          "name": "stdout",
          "text": [
            "{x: 11/7, y: 16/7, z: 15/7}\n"
          ]
        }
      ]
    },
    {
      "cell_type": "code",
      "source": [
        "#เฉลยแบบฝึกหัดข้อที่ 3.5.4\n",
        "eq1 = sp.Eq(2*x + y - z, 1)\n",
        "eq2 = sp.Eq(x - y + 2*z, 3)\n",
        "eq3 = sp.Eq(3*x + y + z, 7)\n",
        "\n",
        "solution = sp.solve([eq1, eq2, eq3], (x, y, z))\n",
        "print(solution)"
      ],
      "metadata": {
        "id": "9acoDp7xeBpp",
        "outputId": "c43f6ed3-8257-4b5c-edd7-d7c0daca5d4d",
        "colab": {
          "base_uri": "https://localhost:8080/"
        }
      },
      "execution_count": null,
      "outputs": [
        {
          "output_type": "stream",
          "name": "stdout",
          "text": [
            "{x: 2/5, y: 3, z: 14/5}\n"
          ]
        }
      ]
    },
    {
      "cell_type": "code",
      "source": [
        "#เฉลยแบบฝึกหัดข้อที่ 3.5.5\n",
        "eq1 = sp.Eq(x + 2*y + z, 8)\n",
        "eq2 = sp.Eq(2*x - y + 3*z, 7)\n",
        "eq3 = sp.Eq(3*x + y - z, 4)\n",
        "\n",
        "solution = sp.solve([eq1, eq2, eq3], (x, y, z))\n",
        "print(solution)"
      ],
      "metadata": {
        "colab": {
          "base_uri": "https://localhost:8080/"
        },
        "id": "-orayk_Uk3vT",
        "outputId": "2c207ab4-1e26-4c99-a0da-853dfb41e46c"
      },
      "execution_count": null,
      "outputs": [
        {
          "output_type": "stream",
          "name": "stdout",
          "text": [
            "{x: 33/25, y: 56/25, z: 11/5}\n"
          ]
        }
      ]
    }
  ]
}